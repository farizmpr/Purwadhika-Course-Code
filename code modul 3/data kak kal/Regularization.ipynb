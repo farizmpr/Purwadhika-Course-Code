{
 "cells": [
  {
   "cell_type": "code",
   "execution_count": null,
   "metadata": {},
   "outputs": [],
   "source": [
    "### Regularization\n",
    "Pemberian Penalty\n",
    "- Sebaiknya sebelum menggunakan regularization, data di scalling terlebih dahulu\n",
    "\n",
    "**Lasso** :\n",
    "    - Penalty sangat Keras\n",
    "    - Dapat membuat Koefisien bernilai 0\n",
    "    - Dapat digunakan sebagain 'Feature Selection'\n",
    "    \n",
    "**Ridge** :\n",
    "    - Penalty lebih lembut\n",
    "    - Hanya dapat membuat koefisien mendekati Nol\n",
    "    - Ketika akan melakukan Regularization, umumnya orang akan menggunakan Ridge\n",
    "**Elsatic Net** :\n",
    "    - Menggunakan Ridge dan Lasso berdasarkan Proporsi\n",
    "    "
   ]
  },
  {
   "cell_type": "code",
   "execution_count": null,
   "metadata": {},
   "outputs": [],
   "source": [
    "---\n",
    "dataset\n",
    "\n",
    "kolom feature=>x\n",
    "kolom target=>y\n",
    "\n",
    "===supervised\n",
    "\n",
    "kolom featire => inputan user\n",
    "- nama bank\n",
    "- opsi\n",
    "- mata uang\n",
    "- jumlah uang\n",
    "\n",
    "kolom target =>output\n",
    "- hasil konversi"
   ]
  },
  {
   "cell_type": "code",
   "execution_count": null,
   "metadata": {},
   "outputs": [],
   "source": [
    "===== Evaluation Matrix untuk Klasifikasi\n",
    "\n",
    "Base :\n",
    "**Confusion Matrix**\n",
    "TP = True Positive ==> Ketika Prediksi Positif dan Aktual Positif\n",
    "FP = False Positive ==> Ketika Prediksi Positif tetapi Aktual Negatif\n",
    "TN = True Negatif ==> Ketika Prediksi Negatif dan Aktual Negatif\n",
    "FN = False Negative ==> Ketika Prediksi Negatif tetapi Aktual Positif\n",
    "\n",
    "\n",
    "Measurement :\n",
    "    - Accuracy\n",
    "    - Recall\n",
    "    - Precision\n",
    "    - F1 Score\n",
    "    \n",
    "positive=>prediksi positif\n",
    "negative=>prediksi negative\n",
    "\n",
    "true=>prediksi sama dengan aktual\n",
    "false =>prediksi tidak sama dengan aktual"
   ]
  },
  {
   "cell_type": "code",
   "execution_count": null,
   "metadata": {},
   "outputs": [],
   "source": [
    "MSE ITU SELISIH=(TARGET DIKURANG SELISIH)NAMANYA ERROR, NANTI ERRORNYA DI KUADRATKAN NANTI DIBAGI SAMA JUMLAH DATANYA\n",
    "MAE BUAT MENGHITUNG ERROR AKTUAL, ERROR NYA ITU SELISIH ANTARA DATA AKTUAL DAN PREDIKSI MAKA SELISIHNYA DIJUMLAHIN MAKA DIBAGI DATA YANG ADA\n",
    "APA BEDANYA MAE DAN MSE=>kalau mae itu rata rata aktual kalo rmse itu ngasih penalti, kalo errornya kecil dikasih penalti nya kecil. kalo errornya gede penaltinya juga gede\n",
    "rmse bisa atau tidak nilainya sama dengan mae, ketika error nya memiliki error yang kurang lebih sama\n",
    "kapan kita perlu scalling=> kalo skalanya jauh, jadi perlu standarisasi\n",
    "jenis scaling:\n",
    "    minmax=>nanti elaborasinya data yg mau di scalling dikurang nilai mean data itu, terus per nilai max dikurang nilai min nya, skalanya dari 0 sampai 1\n",
    "    robust=> dia untuk data yang banyak outliersnya nanti mediannya yang dijadikan 0, terus range nya 0-1, 1 nys itu iqr nya.\n",
    "    std scalling=>datanya harus distribusinya normal dan prosesnya nilai mean yang ada diubah jadi 0, std deviasinya diubah jadi 1\n",
    "    \n",
    "polynomial=>kapan kita pake dan , gimana prosesnya. ketika datanya linear, jadi kita bengkokin, cara makanya di kasi pangkat"
   ]
  }
 ],
 "metadata": {
  "kernelspec": {
   "display_name": "Python 3",
   "language": "python",
   "name": "python3"
  },
  "language_info": {
   "codemirror_mode": {
    "name": "ipython",
    "version": 3
   },
   "file_extension": ".py",
   "mimetype": "text/x-python",
   "name": "python",
   "nbconvert_exporter": "python",
   "pygments_lexer": "ipython3",
   "version": "3.6.8"
  }
 },
 "nbformat": 4,
 "nbformat_minor": 4
}
