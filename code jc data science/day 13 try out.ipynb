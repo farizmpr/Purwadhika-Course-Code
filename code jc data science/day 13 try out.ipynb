{
 "cells": [
  {
   "cell_type": "code",
   "execution_count": null,
   "metadata": {},
   "outputs": [],
   "source": [
    "# SOAL PERTAMA\n",
    "# Buat function untuk mendapatkan domain dari alamat user\n",
    "# alamat = 'alamatku@gmail.com'\n",
    "# emailku = 'belajar@yahoo.com'\n",
    "# domain(alamat) -----> output: 'gmail.com'\n",
    "# domain(emailku) -----> output: 'yahoo.com'\n",
    "\n",
    "# SOAL KEDUA\n",
    "# Buat function untuk menghitung teks tertentu dalam suatu string\n",
    "# komentar = 'Saya sedang belajar Data Science'\n",
    "# HitungTeks('belajar', komentar)   --> Ada 1 kata 'belajar'\n",
    "\n",
    "# SOAL KETIGA\n",
    "# Gunakan lambda expressions dan filter() function untuk memfilter nama-nama orang yang diawali huruf 'B'\n",
    "# nama = ['Andi', 'Caca', 'Budi', Dody','Bambang','Edi','Ari','Bintang']\n",
    "# output = ['Budi','Bambang','Bintang']\n",
    "\n",
    "# SOAL KEEMPAT\n",
    "# Buat function untuk menghitung gaji bersih karyawan-karyawan setelah dikurangi pajak 5 persen\n",
    "# Buat 2 versi: 1) menggunakan function biasa, 2) menggunakan lambda function\n",
    "# gaji = [5, 8, 9, 10, 20, 6, 5]\n",
    "# output = [4.75, 7.6, 8.55, 9.5, 19.0, 5.7, 4.75]\n",
    "\n",
    "# SOAL KELIMA (BONUS)\n",
    "# Buat function untuk membuat list angka ganjil dalam range tertentu\n",
    "# tapi bergantian ganjil positif dan ganjil negatif\n",
    "# Contoh: ganjilMix(20) ---> output: [1, -3, 5, -7, 9, -11, 13, -15, 17, -19]"
   ]
  },
  {
   "cell_type": "code",
   "execution_count": 48,
   "metadata": {},
   "outputs": [
    {
     "name": "stdout",
     "output_type": "stream",
     "text": [
      "outputnya : yahoo.com\n",
      "outputnya : gmail.com\n"
     ]
    }
   ],
   "source": [
    "#soal pertama\n",
    "def domain(alamat):\n",
    "    emailnya=alamat.split(\"@\")\n",
    "    print(f\"outputnya : {emailnya[-1]}\")\n",
    "alamatku=\"rrisyad@yahoo.com\"\n",
    "emailku=\"fariz@gmail.com\"\n",
    "domain(alamatku)\n",
    "domain(emailku)"
   ]
  },
  {
   "cell_type": "code",
   "execution_count": 15,
   "metadata": {},
   "outputs": [
    {
     "name": "stdout",
     "output_type": "stream",
     "text": [
      "1\n"
     ]
    }
   ],
   "source": [
    "#soal pkedua\n",
    "def perulangan(kata,kalimat):\n",
    "    jadiList=kalimat.split(\" \")\n",
    "    hasil=0\n",
    "    for ini in jadiList:\n",
    "        if ini == kata:\n",
    "            hasil+=1\n",
    "    print (hasil)\n",
    "perulangan(\"belajar\",\"belajar di rumah\")"
   ]
  },
  {
   "cell_type": "code",
   "execution_count": 18,
   "metadata": {},
   "outputs": [
    {
     "name": "stdout",
     "output_type": "stream",
     "text": [
      "['Budi', 'Bambang', 'Bintang']\n"
     ]
    }
   ],
   "source": [
    "#soal ketiga\n",
    "#list comperhension\n",
    "test_listnya=['Arman','Hafids','Bela','Bambang','Daara']\n",
    "checking='A'\n",
    "hasilNanti=[huruf for huruf in test_listnya if huruf[0].lower==checking.lower]\n",
    "print(hasilNanti)"
   ]
  },
  {
   "cell_type": "code",
   "execution_count": 55,
   "metadata": {},
   "outputs": [
    {
     "name": "stdout",
     "output_type": "stream",
     "text": [
      "['Arman']\n"
     ]
    }
   ],
   "source": [
    "#memakai list filter dan lambda\n",
    "h=['Arman','Hafids','Bela','Bambang','Daara']\n",
    "checkingnya='A'\n",
    "h=list(filter(lambda a: a.startswith(checkingnya),h))\n",
    "print(h)"
   ]
  },
  {
   "cell_type": "code",
   "execution_count": 56,
   "metadata": {},
   "outputs": [
    {
     "name": "stdout",
     "output_type": "stream",
     "text": [
      "['Bela', 'Bambang']\n"
     ]
    }
   ],
   "source": [
    "nama=['Arman','Hafids','Bela','Bambang','Daara']\n",
    "\n",
    "r=list(filter(lambda x: 'B' in x, nama))#lambda x itu pengganti variabel parameter, dan b in x itu b yang ada di dalam x, nama itu karna baca dari yang nama maka hasilnya kita cari yg dr nama\n",
    "print(r)#filter itu kalo bener baru di print, print sesuai kondisi, list itu karena agar dijadiin satu tempat"
   ]
  },
  {
   "cell_type": "code",
   "execution_count": 67,
   "metadata": {},
   "outputs": [
    {
     "name": "stdout",
     "output_type": "stream",
     "text": [
      "['Bela', 'Bambang', 'BBambang']\n"
     ]
    }
   ],
   "source": [
    "#penjelasan maskim\n",
    "namaS=['Arman','HafidsB','Bela','Bambang','Daara','BBambang']\n",
    "\n",
    "rS=list(filter(lambda x: 'B' in x[0], namaS))\n",
    "print(rS)\n",
    "#map itu buat mengiterasi perulangan function pada data, mengulangi pada sumber data terus,[2,4] ini buat ditambah dimasing masing element\n",
    "#filter(menyeleksi) mengiterasi fungsi yang keluarnya true or false, yang true diawali oleh huruf b yang mana, kalau true bakal dimasukan ke list"
   ]
  },
  {
   "cell_type": "code",
   "execution_count": 58,
   "metadata": {},
   "outputs": [
    {
     "name": "stdout",
     "output_type": "stream",
     "text": [
      "[10, 8, 7, 5, 4, 11]\n"
     ]
    }
   ],
   "source": [
    "s=[10,2,8,7,5,4,3,11,0,1]\n",
    "s=list(filter(lambda angka: angka>=4, s))\n",
    "print(s)\n",
    "\n",
    "#soal kedua filter soalnya yang di case kedua itu dia kondisi, jadi resultnya true\n",
    "#kalo maps iterasi angka yg dilooping angkanya,maps bukan untuk kondisi,kalo list"
   ]
  },
  {
   "cell_type": "code",
   "execution_count": 68,
   "metadata": {},
   "outputs": [
    {
     "data": {
      "text/plain": [
       "[4.75, 7.6, 8.55, 9.5, 19.0, 5.7, 4.75]"
      ]
     },
     "execution_count": 68,
     "metadata": {},
     "output_type": "execute_result"
    }
   ],
   "source": [
    "# soal kempat\n",
    "#fungsi\n",
    "blist = [5,8,9,10,20,6,5]\n",
    "def pajak(angkanya):\n",
    "    gajihnya=[]\n",
    "    for angka in angkanya:\n",
    "        gajihnya.append(angka-(angka*0.05))\n",
    "    return gajihnya\n",
    "pajak(blist)\n",
    "    "
   ]
  },
  {
   "cell_type": "code",
   "execution_count": 69,
   "metadata": {},
   "outputs": [
    {
     "name": "stdout",
     "output_type": "stream",
     "text": [
      "[4.75, 7.6, 8.55, 9.5, 19.0, 5.7, 4.75]\n"
     ]
    }
   ],
   "source": [
    "#soal kempat\n",
    "#lambda\n",
    "gajikotor = [5,8,9,10,20,6,5]\n",
    "\n",
    "num = list(map(lambda angka: angka-(angka*(0.05)), gajikotor))\n",
    "print(num)"
   ]
  },
  {
   "cell_type": "code",
   "execution_count": 80,
   "metadata": {},
   "outputs": [
    {
     "name": "stdout",
     "output_type": "stream",
     "text": [
      "masukkan angka 10\n"
     ]
    },
    {
     "data": {
      "text/plain": [
       "[1, -3, 5, -7, 9]"
      ]
     },
     "execution_count": 80,
     "metadata": {},
     "output_type": "execute_result"
    }
   ],
   "source": [
    "#soal kelima bonus\n",
    "\n",
    "def inputanKita(num):\n",
    "    L1=[]\n",
    "    L2=[]\n",
    "    for num in range(n):\n",
    "        if num%2!=0:\n",
    "            L1.append(num)\n",
    "    for i in range(len(L1)):\n",
    "        if i%2==0:\n",
    "            L2.append(L1[i])\n",
    "        else:\n",
    "            L2.append(-L1[i])\n",
    "    return L2\n",
    "n=int(input(\"masukkan angka \"))\n",
    "inputanKita(n)"
   ]
  },
  {
   "cell_type": "code",
   "execution_count": null,
   "metadata": {},
   "outputs": [],
   "source": []
  }
 ],
 "metadata": {
  "kernelspec": {
   "display_name": "Python 3",
   "language": "python",
   "name": "python3"
  },
  "language_info": {
   "codemirror_mode": {
    "name": "ipython",
    "version": 3
   },
   "file_extension": ".py",
   "mimetype": "text/x-python",
   "name": "python",
   "nbconvert_exporter": "python",
   "pygments_lexer": "ipython3",
   "version": "3.6.8"
  }
 },
 "nbformat": 4,
 "nbformat_minor": 2
}
