{
 "cells": [
  {
   "cell_type": "code",
   "execution_count": 8,
   "metadata": {},
   "outputs": [
    {
     "name": "stdout",
     "output_type": "stream",
     "text": [
      "masukkan angka 20\n",
      "1\n",
      "2\n",
      "Fizz\n",
      "4\n",
      "Buzz\n",
      "Fizz\n",
      "7\n",
      "8\n",
      "Fizz\n",
      "Buzz\n",
      "11\n",
      "Fizz\n",
      "13\n",
      "14\n",
      "FizzBuzz\n",
      "16\n",
      "17\n",
      "Fizz\n",
      "19\n",
      "Buzz\n"
     ]
    }
   ],
   "source": [
    "#soal pakai biasa\n",
    "input_angka = int(input(\"masukkan angka \"))\n",
    "for i in range(1,input_angka+1):\n",
    "    if (i%3==0 and i%5==0):\n",
    "        print(\"FizzBuzz\")\n",
    "    elif (i%3==0):\n",
    "        print (\"Fizz\")\n",
    "    elif (i%5==0):\n",
    "        print(\"Buzz\")\n",
    "    else:\n",
    "        print(i)"
   ]
  },
  {
   "cell_type": "code",
   "execution_count": 9,
   "metadata": {},
   "outputs": [
    {
     "name": "stdout",
     "output_type": "stream",
     "text": [
      "1\n",
      "2\n",
      "Fizz\n",
      "4\n",
      "Buzz\n",
      "Fizz\n",
      "7\n",
      "8\n",
      "Fizz\n",
      "Buzz\n",
      "11\n",
      "Fizz\n",
      "13\n",
      "14\n",
      "FizzBuzz\n",
      "16\n",
      "17\n",
      "Fizz\n",
      "19\n",
      "Buzz\n",
      "Fizz\n",
      "22\n",
      "23\n",
      "Fizz\n",
      "Buzz\n",
      "26\n",
      "Fizz\n",
      "28\n",
      "29\n",
      "FizzBuzz\n",
      "31\n",
      "32\n",
      "Fizz\n",
      "34\n",
      "Buzz\n",
      "Fizz\n",
      "37\n",
      "38\n",
      "Fizz\n",
      "Buzz\n",
      "41\n",
      "Fizz\n",
      "43\n",
      "44\n",
      "FizzBuzz\n",
      "46\n",
      "47\n",
      "Fizz\n",
      "49\n",
      "Buzz\n"
     ]
    }
   ],
   "source": [
    "#pakai fungsi \n",
    "def fizbuz(inputan):\n",
    "    for i in range(1,inputan+1):\n",
    "        if (i%3==0 and i%5==0):\n",
    "            print(\"FizzBuzz\")\n",
    "        elif (i%3==0):\n",
    "            print (\"Fizz\")\n",
    "        elif (i%5==0):\n",
    "            print(\"Buzz\")\n",
    "        else:\n",
    "            print(i)\n",
    "fizbuz(50)"
   ]
  },
  {
   "cell_type": "code",
   "execution_count": 27,
   "metadata": {},
   "outputs": [
    {
     "name": "stdout",
     "output_type": "stream",
     "text": [
      "2\n"
     ]
    }
   ],
   "source": [
    "#soal fibonaci pakai list\n",
    "def fibo(KasihUrutan):\n",
    "    Fibonac = [1,1]\n",
    "    for i in range(2,KasihUrutan):\n",
    "        Fibonac.append(Fibonac[i-1]+Fibonac[i-2])\n",
    "    return Fibonac[KasihUrutan-1]\n",
    "print(fibo(3))"
   ]
  },
  {
   "cell_type": "code",
   "execution_count": 39,
   "metadata": {},
   "outputs": [
    {
     "data": {
      "text/plain": [
       "34"
      ]
     },
     "execution_count": 39,
     "metadata": {},
     "output_type": "execute_result"
    }
   ],
   "source": [
    "#memakai rekursif\n",
    "def fibona(x):\n",
    "    if x<=2:\n",
    "        return 1\n",
    "    else:\n",
    "        fib=fibona(x-1)+fibona(x-2)\n",
    "    return fib\n",
    "fibona(9)"
   ]
  },
  {
   "cell_type": "markdown",
   "metadata": {},
   "source": [
    "## dari soal ini udah gangerti"
   ]
  },
  {
   "cell_type": "code",
   "execution_count": 43,
   "metadata": {},
   "outputs": [
    {
     "name": "stdout",
     "output_type": "stream",
     "text": [
      "[9, 8, 7, 6, 5, 4, 3, 2, 1, 0]\n"
     ]
    }
   ],
   "source": [
    "#reversed list\n",
    "# Example input list of numbers\n",
    "numbers = [0, 1, 2, 3, 4, 5, 6, 7, 8, 9]\n",
    " \n",
    "# Get list length\n",
    "L = len(numbers)\n",
    " \n",
    "# i goes from 0 to the middle\n",
    "for i in range(int(L/2)):\n",
    "    # Swap each number with the number in \n",
    "    # the mirror position for example first \n",
    "    # and last\n",
    "    n = numbers[i]\n",
    "    numbers[i] = numbers[L-i-1]\n",
    "    numbers[L-i-1] = n\n",
    " \n",
    "# At this point the list should be reversed\n",
    "print(numbers)"
   ]
  },
  {
   "cell_type": "code",
   "execution_count": 44,
   "metadata": {},
   "outputs": [
    {
     "name": "stdout",
     "output_type": "stream",
     "text": [
      "[8, 7, 6, 5, 4, 3, 2, 1]\n"
     ]
    }
   ],
   "source": [
    "import math;\n",
    "def reverseList(theList) :\n",
    "    for i in range(0, math.floor(len(theList)/2)) :\n",
    "        tempList = theList[i];\n",
    "        theList[i] = theList[len(theList) - 1 - i];\n",
    "        theList[len(theList) - 1 - i] = tempList;\n",
    "    return theList;\n",
    "#temlist = the list[0]==> thelist[1]\n",
    "#the listr[0]=thelist[8-1-0]==>thelst[0]=thelist[7]==>thelist[0]=8\n",
    "#thelist[8-1-0]=\n",
    "\n",
    "print(reverseList([1,2,3,4,5,6,7,8]));"
   ]
  },
  {
   "cell_type": "code",
   "execution_count": 62,
   "metadata": {},
   "outputs": [
    {
     "name": "stdout",
     "output_type": "stream",
     "text": [
      "[1, 3, 9, 34, 198, 200, 203, 746, 764, 984, 6000]\n"
     ]
    }
   ],
   "source": [
    "#buble sort\n",
    "x=[6000, 34, 203, 3, 746, 200, 984, 198, 764, 9, 1]\n",
    "def bubleSet(angka):\n",
    "    for numbre in range(len(angka)-1,0,-1):\n",
    "        for i in range(numbre):\n",
    "            if angka[i] >angka[i+1]:\n",
    "                temp=angka[i]\n",
    "                angka[i]=angka[i+1]#itu angka[0]=  angka[1] jadinya ini nge swap\n",
    "                angka[i+1]=temp#nilainya disimpan di temp\n",
    "    return angka\n",
    "print(bubleSet(x))"
   ]
  },
  {
   "cell_type": "code",
   "execution_count": 79,
   "metadata": {},
   "outputs": [
    {
     "name": "stdout",
     "output_type": "stream",
     "text": [
      "7.4\n"
     ]
    }
   ],
   "source": [
    "#nilai mean\n",
    "x = [2,20,5,3,7]\n",
    "def getMean(listx):\n",
    "    sumx=0\n",
    "    for item in listx:\n",
    "        sumx+=item\n",
    "    mean = sumx/len(listx)\n",
    "    return mean\n",
    "print(getMean(x))\n",
    "    "
   ]
  },
  {
   "cell_type": "code",
   "execution_count": 88,
   "metadata": {},
   "outputs": [
    {
     "name": "stdout",
     "output_type": "stream",
     "text": [
      "5.5\n"
     ]
    }
   ],
   "source": [
    "#nilai tengah\n",
    "def getMedian(list) :\n",
    "    list.sort();#ngurutin list yang ada\n",
    "    median = 0;#define nilai median=0\n",
    "    if (len(list) % 2 != 0) :#apabila panjang list tidak habis dibagi 2, maka\n",
    "        median = list[math.floor(len(list) / 2)];#median=elemen list pada indeks k---\n",
    "    else :\n",
    "        mid1 = list[(int(len(list) / 2)) - 1];#mid1=list indeks ke panjang\n",
    "        mid2 = list[int(len(list) / 2)];\n",
    "        median = (mid1 + mid2) / 2;\n",
    "    return median;\n",
    "c=[2,5,6,7,1,7]\n",
    "print(getMedian(c));"
   ]
  },
  {
   "cell_type": "code",
   "execution_count": 94,
   "metadata": {},
   "outputs": [
    {
     "data": {
      "text/plain": [
       "3"
      ]
     },
     "execution_count": 94,
     "metadata": {},
     "output_type": "execute_result"
    }
   ],
   "source": [
    "#nilai paling sering muncul\n",
    "x=[1,2,3,2,5,2,7,3,3,3]\n",
    "def getModus(Listx):\n",
    "    res={}\n",
    "    for num in set(Listx):\n",
    "        res[num]=Listx.count(num)\n",
    "    return list(res.keys())[list(res.values()).index(max(res.values()))]\n",
    "getModus(x)"
   ]
  },
  {
   "cell_type": "code",
   "execution_count": 97,
   "metadata": {},
   "outputs": [
    {
     "data": {
      "text/plain": [
       "6"
      ]
     },
     "execution_count": 97,
     "metadata": {},
     "output_type": "execute_result"
    }
   ],
   "source": [
    "#median\n",
    "def getMedian(Listx):\n",
    "    Listx.sort()\n",
    "    return Listx[math.ceil(len(Listx)/2)]#buat ngeliat nilai tengahnya ini dibagi dua\n",
    "getMedian(c)"
   ]
  },
  {
   "cell_type": "code",
   "execution_count": 102,
   "metadata": {},
   "outputs": [
    {
     "name": "stdout",
     "output_type": "stream",
     "text": [
      "13\n"
     ]
    }
   ],
   "source": [
    "#buatlah fungsi untuk menghitung jumlah dari recursif list\n",
    "\n",
    "def sum_rec_list(lix):\n",
    "    total=0\n",
    "    for element in lix:\n",
    "        if (type(element)==type([])):\n",
    "            total=total+sum_rec_list(element)\n",
    "        else:\n",
    "            total=total+element\n",
    "    return total\n",
    "print(sum_rec_list([0,1,[1,2,[1,1]],[3,4]]))\n",
    "    "
   ]
  },
  {
   "cell_type": "code",
   "execution_count": 104,
   "metadata": {},
   "outputs": [
    {
     "name": "stdout",
     "output_type": "stream",
     "text": [
      "13\n"
     ]
    }
   ],
   "source": [
    "#jawaban mas alfa\n",
    "def sum_rec_list(num):\n",
    "    total=0\n",
    "    for i in num:\n",
    "        if type(i)== type([]):#apakah tipe data i itu list\n",
    "            total=total+sum_rec_list(i)#ini kalo sublist masuknya kesini, tapi kalo setelahnya bakal masuk ke else, 2,2 angka kedua setelahnya\n",
    "        else:\n",
    "            total=total+i#kalo ini yang gak list biasa alias list pertama\n",
    "    return total\n",
    "print(sum_rec_list([0,1,[1,2,[1,1]],[3,4]]))\n",
    "    "
   ]
  },
  {
   "cell_type": "code",
   "execution_count": null,
   "metadata": {},
   "outputs": [],
   "source": []
  }
 ],
 "metadata": {
  "kernelspec": {
   "display_name": "Python 3",
   "language": "python",
   "name": "python3"
  },
  "language_info": {
   "codemirror_mode": {
    "name": "ipython",
    "version": 3
   },
   "file_extension": ".py",
   "mimetype": "text/x-python",
   "name": "python",
   "nbconvert_exporter": "python",
   "pygments_lexer": "ipython3",
   "version": "3.6.8"
  }
 },
 "nbformat": 4,
 "nbformat_minor": 2
}
