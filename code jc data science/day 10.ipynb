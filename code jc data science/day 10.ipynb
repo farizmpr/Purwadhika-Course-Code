{
 "cells": [
  {
   "cell_type": "code",
   "execution_count": 2,
   "metadata": {},
   "outputs": [
    {
     "name": "stdout",
     "output_type": "stream",
     "text": [
      "{'nama': 3, 'umur': 'fariz', 'rumah': ['jakart', 'sby']}\n"
     ]
    }
   ],
   "source": [
    "nama={'nama':3,\"umur\":\"fariz\",\"rumah\":[\"jakart\",\"sby\"]}\n",
    "print(nama)"
   ]
  },
  {
   "cell_type": "code",
   "execution_count": 16,
   "metadata": {},
   "outputs": [
    {
     "name": "stdout",
     "output_type": "stream",
     "text": [
      "fariz\n",
      "sby\n"
     ]
    }
   ],
   "source": [
    "print(nama[\"umur\"])#manggil dict\n",
    "print(nama[\"rumah\"][1])#manggil list dalam dict"
   ]
  },
  {
   "cell_type": "code",
   "execution_count": 17,
   "metadata": {},
   "outputs": [
    {
     "name": "stdout",
     "output_type": "stream",
     "text": [
      "salah\n"
     ]
    }
   ],
   "source": [
    "#contoh if\n",
    "if not type(10)==str:\n",
    "    print(\"benar\")\n",
    "else:\n",
    "    print(\"salah\")"
   ]
  },
  {
   "cell_type": "markdown",
   "metadata": {},
   "source": [
    "# quiz mas kim"
   ]
  },
  {
   "cell_type": "code",
   "execution_count": null,
   "metadata": {},
   "outputs": [],
   "source": [
    "# SOAL 1 \n",
    "# Buat function seperti count yang bisa menghitung jumlah suatu huruf atau karakter dalam string! => TIDAK PAKAI COUNT\n",
    "# teks = 'Saya belajar Data Science di Purwadhika'\n",
    "# hitung_huruf(teks, 'a') -> 8 (ada 8 huruf a dalam variabel teks)\n",
    "\n",
    "# SOAL 2\n",
    "# Buat function untuk menghitung jumlah KATA (bukan karakter) dalam string!\n",
    "# teks = 'Saya belajar Data Science di Purwadhika'\n",
    "# hitung_kata(teks) --> 6 (ada 6 kata dalam variabel teks)\n",
    "\n",
    "# SOAL 3\n",
    "# Buat function untuk membalikkan urutan KATA dalam string! => TIDAK BOLEH PAKAI SWAPCASE\n",
    "# teks = 'Saya belajar Data Science di Purwadhika'\n",
    "# balik(teks) ---> 'Purwadhika di Science Data Belajar'\n",
    "\n",
    "# SOAL 4\n",
    "# Buat function untuk menduplikasi split() = Memisahkan string berdasarkan karakter tertentu dan disimpan dalam list\n",
    "# teks = \"Halo. Selamat Pagi\"\n",
    "# pisah(teks, '.') ---> ['Halo', 'Selamat Pagi']\n",
    "# pisah(teks, 'P') ---> ['Halo. Selamat', 'agi']\n",
    "# "
   ]
  },
  {
   "cell_type": "code",
   "execution_count": 26,
   "metadata": {},
   "outputs": [
    {
     "name": "stdout",
     "output_type": "stream",
     "text": [
      "4\n"
     ]
    }
   ],
   "source": [
    "#soal nomor 1\n",
    "def hitung(teks,nama):\n",
    "    apa=0\n",
    "    for huruf in list(teks):\n",
    "        if nama==huruf:\n",
    "            apa+=1\n",
    "    print(apa)\n",
    "hitung(\"saya belajar\",\"a\")"
   ]
  },
  {
   "cell_type": "code",
   "execution_count": 30,
   "metadata": {},
   "outputs": [
    {
     "name": "stdout",
     "output_type": "stream",
     "text": [
      "3\n"
     ]
    }
   ],
   "source": [
    "#soal nomor 1 mas teguh\n",
    "def hitung_huruf(text, huruf):\n",
    "    total_hitung=0\n",
    "    for letter in text:\n",
    "        if letter==huruf:\n",
    "            total_hitung+=1\n",
    "    return total_hitung\n",
    "print(hitung_huruf(\"selamat pagi\",\"a\"))"
   ]
  },
  {
   "cell_type": "code",
   "execution_count": 81,
   "metadata": {},
   "outputs": [
    {
     "name": "stdout",
     "output_type": "stream",
     "text": [
      "8\n"
     ]
    }
   ],
   "source": [
    "#nomor 2\n",
    "def katakata(tekskita):\n",
    "    jumlah=1\n",
    "    for i in tekskita:\n",
    "        if i == \" \" or i==\", \" or i==\". \": #kalo nemu ini kita nambah satu, soalnya kan kata baru ketika ada spasi ato yg lainnya\n",
    "            jumlah+=1\n",
    "    return jumlah\n",
    "print(katakata(\"belajar dimana ni, kenapa kok ada begini. hehe\"))"
   ]
  },
  {
   "cell_type": "code",
   "execution_count": 82,
   "metadata": {},
   "outputs": [
    {
     "name": "stdout",
     "output_type": "stream",
     "text": [
      "3\n"
     ]
    }
   ],
   "source": [
    "#jawaban mas rafi\n",
    "def hitungkatakita(katas):\n",
    "    y=katas.split(\" \")#kalau di split otomatis jadi list\n",
    "    j=len(y)#ngehitung jumlah list\n",
    "    return j\n",
    "print(hitungkatakita(\"kenapa ada disini\"))"
   ]
  },
  {
   "cell_type": "code",
   "execution_count": 83,
   "metadata": {},
   "outputs": [
    {
     "name": "stdout",
     "output_type": "stream",
     "text": [
      "3\n"
     ]
    }
   ],
   "source": [
    "#jawaban mas kim\n",
    "def hitungkatakitas(katass):\n",
    "    return len(katass.split())\n",
    "print(hitungkatakita(\"kenapa ada disini\"))"
   ]
  },
  {
   "cell_type": "code",
   "execution_count": 29,
   "metadata": {},
   "outputs": [
    {
     "name": "stdout",
     "output_type": "stream",
     "text": [
      "11\n"
     ]
    }
   ],
   "source": [
    "#ngitung total variabel teks\n",
    "def hitungs(tekss):\n",
    "    apas=0\n",
    "    for huruf in list(tekss):\n",
    "        apas+=1\n",
    "    print(apas)\n",
    "hitungs(\"kenapa alfa\")"
   ]
  },
  {
   "cell_type": "code",
   "execution_count": 56,
   "metadata": {},
   "outputs": [
    {
     "data": {
      "text/plain": [
       "'imlih ihih ahah'"
      ]
     },
     "execution_count": 56,
     "metadata": {},
     "output_type": "execute_result"
    }
   ],
   "source": [
    "#nomor 3\n",
    "def reserve(kalimat):\n",
    "    temp=[]\n",
    "    a=kalimat.split()\n",
    "    while a:\n",
    "        kalimat.append(kalimat.pop())\n",
    "        kalimat[:]=temp\n",
    "        print(temp)\n",
    "reverse(\"haha hihi hilmi\")"
   ]
  },
  {
   "cell_type": "code",
   "execution_count": 40,
   "metadata": {},
   "outputs": [
    {
     "name": "stdout",
     "output_type": "stream",
     "text": [
      "['This', 'is', 'New', 'York']\n",
      "['York', 'New', 'is', 'This']\n",
      "York New is This\n"
     ]
    }
   ],
   "source": [
    "s = \"This is New York\"\n",
    "# split first\n",
    "a = s.split()\n",
    "print(a)\n",
    "# reverse list\n",
    "a.reverse()\n",
    "print(a)\n",
    "# now join them\n",
    "result = \" \".join(a)\n",
    "# print it\n",
    "print(result)"
   ]
  },
  {
   "cell_type": "code",
   "execution_count": 84,
   "metadata": {},
   "outputs": [
    {
     "name": "stdout",
     "output_type": "stream",
     "text": [
      "kenapa ini, kita perkataan\n"
     ]
    }
   ],
   "source": [
    "#soal 3\n",
    "def balikata(perkataan):\n",
    "    tekssplit=perkataan.split()#memecah teks yang di input dengan metode split, lalu dimasukan ke variabel\n",
    "    reve=tekssplit[::-1]#mengakses element list dari index terakhir dengan slicing, lalu dimasukkan dalam hasil reve\n",
    "    kalimatuhuy=\" \".join(reve)#menggabungkan semua elemen dalam list reve jadi 1 string. kalo gak dijoin jawabannya tetep list\n",
    "    return kalimatuhuy\n",
    "print(balikata(\"perkataan kita ini kenapa\"))"
   ]
  },
  {
   "cell_type": "code",
   "execution_count": 88,
   "metadata": {},
   "outputs": [
    {
     "name": "stdout",
     "output_type": "stream",
     "text": [
      "disnii ada kenapa\n"
     ]
    }
   ],
   "source": [
    "#soal nomor 3\n",
    "def balikan(tekskami):\n",
    "    ngesplit = tekskami.split()#ngesplit teks menjadi list dan tampung dalam variabel ngesplit\n",
    "    temp_list=[]#kita buat suatu list kosong dengan nama temp_list\n",
    "    final=\" \"#buat variabel yang berisi spasi untuk menampung final output\n",
    "    for i in range(1,len(ngesplit)+1):#kita cek semua value dari 1 sampai dengan len dari pisah+1 karena jika tidak ditambah 1\n",
    "        temp=ngesplit[-i]#list ke -i akan ditambung pada variabel temp\n",
    "        temp_list.append(temp)#kemudian value pada variabel temp tersebut akan kita masukan list kosong yang kita define di awal\n",
    "    final=final.join(temp_list)#kemudian kita join value yang terdapat temp_list dengan variabel final\n",
    "    return final\n",
    "print(balikan(\"kenapa ada disnii\"))"
   ]
  },
  {
   "cell_type": "code",
   "execution_count": 89,
   "metadata": {},
   "outputs": [
    {
     "name": "stdout",
     "output_type": "stream",
     "text": [
      "kita perkataan "
     ]
    }
   ],
   "source": [
    "#soal nomor 3\n",
    "def membalik(x):\n",
    "    y=x.split(\" \")\n",
    "    for i in range(1,len(y)+1):\n",
    "        i*=-1\n",
    "        print(y[i],end=\" \")\n",
    "membalik(\"perkataan kita\")"
   ]
  },
  {
   "cell_type": "code",
   "execution_count": 91,
   "metadata": {},
   "outputs": [
    {
     "data": {
      "text/plain": [
       "'gurunya kim kita data'"
      ]
     },
     "execution_count": 91,
     "metadata": {},
     "output_type": "execute_result"
    }
   ],
   "source": [
    "def kenapakim(kataih):\n",
    "    return \" \".join(kataih.split()[::-1])\n",
    "kenapakim(\"data kita kim gurunya\")"
   ]
  },
  {
   "cell_type": "code",
   "execution_count": 93,
   "metadata": {},
   "outputs": [
    {
     "name": "stdout",
     "output_type": "stream",
     "text": [
      "['Halo. ', 'elamat pagi kita']\n"
     ]
    }
   ],
   "source": [
    "#nomor 4\n",
    "def pisah(teksdan, hurup):\n",
    "    tempnya_list=[]\n",
    "    kataBaru=''\n",
    "    \n",
    "    for i in teksdan:#membuat looping terhadap teks dengan huruf\n",
    "        if i==hurup:#jika i nilainya adalah huruf yang input, maka huruf tersebut akan diganti menjadi \"\"\n",
    "            tempnya_list.append(kataBaru)\n",
    "            kataBaru=''\n",
    "        else:#jika nilainya bukan huruf yang kita input, maka huruf selanjutnya tetap akan disusun di list yang kita buat\n",
    "            kataBaru+=i\n",
    "    if kataBaru:\n",
    "        tempnya_list.append(kataBaru)#lalu string tersebut digabung\n",
    "    return tempnya_list\n",
    "\n",
    "print(pisah(\"Halo. Selamat pagi kita\", 'S'))"
   ]
  },
  {
   "cell_type": "code",
   "execution_count": 95,
   "metadata": {},
   "outputs": [
    {
     "name": "stdout",
     "output_type": "stream",
     "text": [
      "['sel', 'm', 't si', 'ng semu', '']\n"
     ]
    }
   ],
   "source": [
    "#nomor 4 mas kim\n",
    "def pisah(teksdan, hurup):\n",
    "    tempnya_list=[]#mengubah data string menjadi list secara manual\n",
    "    kataBaru=''#membbuat string kosong dengan nama katabaru dan menampung kata bukan hurup\n",
    "    \n",
    "    for i in teksdan:#membuat looping terhadap teks dengan huruf\n",
    "        if i==hurup:#looping->\"s\",'e' dll,\n",
    "            tempnya_list.append(kataBaru)#list akan dipisahkan berdasarkan keyword yang diinginkan\n",
    "            kataBaru=''#kalimat dikosongkan ulang\n",
    "        else:#urutannya kalau gamasuk sesuai hurup itu masuk ke kata baru\n",
    "            kataBaru+=i#data akan di print sesuai data awal\n",
    "    tempnya_list.append(kataBaru)#menggabungkan unsur square bracker dan double quotes\n",
    "    return tempnya_list\n",
    "\n",
    "print(pisah(\"selamat siang semua\", 'a'))"
   ]
  },
  {
   "cell_type": "code",
   "execution_count": null,
   "metadata": {},
   "outputs": [],
   "source": []
  }
 ],
 "metadata": {
  "kernelspec": {
   "display_name": "Python 3",
   "language": "python",
   "name": "python3"
  },
  "language_info": {
   "codemirror_mode": {
    "name": "ipython",
    "version": 3
   },
   "file_extension": ".py",
   "mimetype": "text/x-python",
   "name": "python",
   "nbconvert_exporter": "python",
   "pygments_lexer": "ipython3",
   "version": "3.6.8"
  }
 },
 "nbformat": 4,
 "nbformat_minor": 2
}
