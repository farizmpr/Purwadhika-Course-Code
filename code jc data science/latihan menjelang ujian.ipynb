{
 "cells": [
  {
   "cell_type": "code",
   "execution_count": 2,
   "metadata": {},
   "outputs": [
    {
     "name": "stdout",
     "output_type": "stream",
     "text": [
      "20\n",
      "30\n",
      "40\n"
     ]
    }
   ],
   "source": [
    "#Exercise Question 2: Write a function fuExercise Question 2: Write a function func1() such that it \n",
    "#can accept a variable length of  argument and print all arguments valuenc1() such that it can \n",
    "#accept a variable length of  argument and print all arguments value\n",
    "def func1(*args):\n",
    "    for i in args:\n",
    "        print (i)\n",
    "func1(20,30,40)"
   ]
  },
  {
   "cell_type": "code",
   "execution_count": 3,
   "metadata": {},
   "outputs": [
    {
     "name": "stdout",
     "output_type": "stream",
     "text": [
      "(50, 30)\n"
     ]
    }
   ],
   "source": [
    "#Exercise Question 3: Write a function calculation() such that it can accept two variables \n",
    "#and calculate the addition and subtraction of it. And also it must return both addition \n",
    "#and subtraction in a single return call\n",
    "def calculation(a,b):\n",
    "    jumlah=a+b\n",
    "    kurang=a-b\n",
    "    return (jumlah,kurang)\n",
    "res=calculation(40,10)\n",
    "print(res)"
   ]
  },
  {
   "cell_type": "code",
   "execution_count": 6,
   "metadata": {},
   "outputs": [
    {
     "name": "stdout",
     "output_type": "stream",
     "text": [
      "Employee fariz salary is: 9000\n"
     ]
    }
   ],
   "source": [
    "#Exercise Question 4: Create a function showEmployee() in such a way that it should accept \n",
    "#employee name, and it’s salary and display both, and if the salary is missing in function \n",
    "#call it should show it as 9000\n",
    "def showEmployee(nama,salary=9000):\n",
    "    print(f\"Employee {nama} salary is: {salary}\")\n",
    "showEmployee('fariz')"
   ]
  },
  {
   "cell_type": "code",
   "execution_count": 10,
   "metadata": {},
   "outputs": [
    {
     "data": {
      "text/plain": [
       "20"
      ]
     },
     "execution_count": 10,
     "metadata": {},
     "output_type": "execute_result"
    }
   ],
   "source": [
    "#Exercise Question 5: Create an inner function to calculate the addition in the following way\n",
    "def fungsiInner(a,b):\n",
    "    def innerFungs(a,b):\n",
    "        return a+b\n",
    "    add=innerFungs(a,b)\n",
    "    return add+5\n",
    "fungsiInner(5,10)"
   ]
  },
  {
   "cell_type": "code",
   "execution_count": 25,
   "metadata": {},
   "outputs": [
    {
     "name": "stdout",
     "output_type": "stream",
     "text": [
      "1\n"
     ]
    }
   ],
   "source": [
    "#write a recursivce function to calculate the sum of numbers from 0 to 10\n",
    "def fungsiRekursif(x):\n",
    "    if x:\n",
    "        return x+fungsiRekursif(x-1)\n",
    "    else:\n",
    "        return 0\n",
    "print(fungsiRekursif(1))"
   ]
  },
  {
   "cell_type": "code",
   "execution_count": 26,
   "metadata": {},
   "outputs": [
    {
     "name": "stdout",
     "output_type": "stream",
     "text": [
      "aladin 25\n"
     ]
    }
   ],
   "source": [
    "#Exercise Question 7: Assign a different name to function and call it through the new name\n",
    "def manggilnama(name,umur):\n",
    "    print(name,umur)\n",
    "manggilnama(\"aladin\",25)"
   ]
  },
  {
   "cell_type": "code",
   "execution_count": 27,
   "metadata": {},
   "outputs": [
    {
     "name": "stdout",
     "output_type": "stream",
     "text": [
      "[4, 6, 8, 10, 12, 14, 16, 18, 20, 22, 24, 26, 28]\n"
     ]
    }
   ],
   "source": [
    "#Exercise Question 8: Generate a Python list of all the even numbers between 4 to 30\n",
    "print(list(range(4,30,2)))"
   ]
  },
  {
   "cell_type": "code",
   "execution_count": 35,
   "metadata": {},
   "outputs": [
    {
     "data": {
      "text/plain": [
       "24"
      ]
     },
     "execution_count": 35,
     "metadata": {},
     "output_type": "execute_result"
    }
   ],
   "source": [
    "#maksimal\n",
    "def maximalin(angka):\n",
    "    maxhasil=angka[0]\n",
    "    for ini in angka:\n",
    "        if maxhasil<ini:\n",
    "            maxhasil=ini\n",
    "    return maxhasil\n",
    "maximalin([4, 6, 8, 24, 12, 2])"
   ]
  },
  {
   "cell_type": "markdown",
   "metadata": {},
   "source": [
    "# Soal Ujian Python Data Science Fundamental"
   ]
  },
  {
   "cell_type": "code",
   "execution_count": 7,
   "metadata": {},
   "outputs": [
    {
     "name": "stdout",
     "output_type": "stream",
     "text": [
      "{2, 3, 4, 5, 6, 7, 8, 9, 10, 11, 12, 13, 14, 15, 16, 17, 18, 19, -2, -9, -8, -7, -6, -5, -4, -3, -1}\n",
      "set()\n",
      "{2, 3, 4, 6, 8, 9, 10, 12, 14, 15, 16, 18}\n",
      "{5, 7, 11, 13, 17, 19}\n",
      "{3, 5, 7, 11, 13, 17, 19, -1, -9, -8, -7, -6, -5, -4, -3, -2}\n"
     ]
    }
   ],
   "source": [
    "A={2,4,6,8,10,12,14,16,18}\n",
    "B={3,5,7,9,11,13,15,17,19}\n",
    "C={-9,-8,-7,-6,-5,-4,-3,-2,-1}\n",
    "D={2,3}\n",
    "E={4,6,8,9,10,12,14,15,16,18}\n",
    "\n",
    "#A ∪ B ∪ C ∪ D ∪ E\n",
    "print(A | B | C | D | E)\n",
    "#(A ∩ B) ∪ (D ∩ E)\n",
    "print((A&B)|(D&E))\n",
    "#(A ∪ B) ∩ (D ∪ E)\n",
    "print((A|B)&(D|E))\n",
    "#(A ∪ B) - (D ∪ E)\n",
    "print((A|B)-(D|E))\n",
    "#(A ∪ B ∪ C) - (A ∩ E)\n",
    "print((A|B|C)-(A|E))"
   ]
  },
  {
   "cell_type": "code",
   "execution_count": 19,
   "metadata": {},
   "outputs": [
    {
     "name": "stdout",
     "output_type": "stream",
     "text": [
      "* \r\n",
      "* * \r\n",
      "* * * \r\n",
      "* * * * \r\n",
      "* * * * * \r\n",
      "* * * * \r\n",
      "* * * \r\n",
      "* * \r\n",
      "* \r\n",
      "\r\n"
     ]
    }
   ],
   "source": [
    "rows = 5\n",
    "for i in range(0, rows):\n",
    "    for j in range(0, i + 1):\n",
    "        print(\"*\", end=' ')\n",
    "    print(\"\\r\")\n",
    "\n",
    "for i in range(rows, 0, -1):\n",
    "    for j in range(0, i - 1):\n",
    "        print(\"*\", end=' ')\n",
    "    print(\"\\r\")"
   ]
  },
  {
   "cell_type": "code",
   "execution_count": 59,
   "metadata": {},
   "outputs": [
    {
     "name": "stdout",
     "output_type": "stream",
     "text": [
      "c \r\n",
      "c o \r\n",
      "c o d \r\n",
      "c o d e \r\n"
     ]
    }
   ],
   "source": [
    "def segitiga(string):\n",
    "    length=len(string)\n",
    "    for row in range(0, length):\n",
    "        for col in range(0, row+1):\n",
    "            print(string[col], end=' ')\n",
    "        print(\"\\r\")\n",
    "\n",
    "segitiga(\"code\")"
   ]
  },
  {
   "cell_type": "code",
   "execution_count": 24,
   "metadata": {},
   "outputs": [
    {
     "name": "stdout",
     "output_type": "stream",
     "text": [
      "# segitigaKata('Purwadhika')\n",
      "P \n",
      "u r \n",
      "w a d \n",
      "h i k a \n",
      "P u r w \n",
      "a d h \n",
      "i k \n",
      "a \n",
      "\n",
      "# segitigaKata('Purwadhika Startup and Coding School @BSD')\n",
      "P \n",
      "u r \n",
      "w a d \n",
      "h i k a \n",
      "S t a r t \n",
      "u p a n d C \n",
      "o d i n g S c \n",
      "h o o l @ B S D \n",
      "P u r w a d h i \n",
      "k a S t a r t \n",
      "u p a n d C \n",
      "o d i n g \n",
      "S c h o \n",
      "o l @ \n",
      "B S \n",
      "D \n",
      "\n"
     ]
    }
   ],
   "source": [
    "def segitigaKata(x):\n",
    "    new_x=x.replace(\" \",\"\")\n",
    "    counter=1\n",
    "    panjang=len(new_x)\n",
    "    valid= False\n",
    "    while panjang != 0:\n",
    "        if panjang - counter == 0:\n",
    "            valid=True\n",
    "            break\n",
    "        elif panjang - counter > 0:\n",
    "            panjang=panjang-counter\n",
    "            counter+=1\n",
    "        else:\n",
    "            valid=False\n",
    "            break\n",
    "\n",
    "    if valid == True:\n",
    "        new_kata1=x.replace(\" \", '')\n",
    "        new_kata2=x.replace(\" \", '')\n",
    "        i=0\n",
    "        while len(new_kata1) != 0:\n",
    "            kata=''\n",
    "            i+=1\n",
    "            for j in range(i):\n",
    "                kata+=new_kata1[j] + ' '\n",
    "            new_kata1=new_kata1[i:]\n",
    "            print(kata)\n",
    "        while len(new_kata2) != 0:\n",
    "            kata=''\n",
    "            for k in range(i):\n",
    "                kata+=new_kata2[k] +' '\n",
    "            print(kata)\n",
    "            new_kata2=new_kata2[i:]\n",
    "            i-=1\n",
    "    else:\n",
    "        print(\"Mohon maaf, jumlah karakter tidak memenuhi syarat membentuk pola.\")\n",
    "print(\"# segitigaKata('Purwadhika')\")           \n",
    "segitigaKata('Purwadhika')\n",
    "print(\"\")\n",
    "\n",
    "print(\"# segitigaKata('Purwadhika Startup and Coding School @BSD')\")           \n",
    "segitigaKata('Purwadhika Startup and Coding School @BSD')\n",
    "print(\"\")"
   ]
  },
  {
   "cell_type": "code",
   "execution_count": 39,
   "metadata": {},
   "outputs": [
    {
     "name": "stdout",
     "output_type": "stream",
     "text": [
      "[-5, -23, 5, 0, 23, -6, 23, 67]\n",
      "[-23]\n",
      "None\n"
     ]
    }
   ],
   "source": [
    "data_list = [-5, -23, 5, 0, 23, -6, 23, 67]\n",
    "def fungsinya(angka):\n",
    "    print(angka)\n",
    "    angkanya=angka[0]\n",
    "    sortingnya=[]\n",
    "    for i in angka:\n",
    "        if i <angkanya:\n",
    "            angkanya=i\n",
    "    sortingnya.append(angkanya)\n",
    "    angka.remove(angkanya)\n",
    "    print(sortingnya)\n",
    "\n",
    "print(fungsinya(data_list))"
   ]
  },
  {
   "cell_type": "code",
   "execution_count": 53,
   "metadata": {},
   "outputs": [
    {
     "name": "stdout",
     "output_type": "stream",
     "text": [
      "[1, 5, 10, 25, 40, 100]\n"
     ]
    }
   ],
   "source": [
    "xyz = [40,100,1,5,25,10]\n",
    "def arjuna(angkanyo):\n",
    "    for elemente in range(len(xy)):\n",
    "        for ini in range(elemente+1,len(xy)):\n",
    "            if xy[elemente]>xy[ini]:\n",
    "                xy[elemente],xy[ini]=xy[ini],xy[elemente]\n",
    "    print(xy)\n",
    "arjuna(xyz)"
   ]
  },
  {
   "cell_type": "code",
   "execution_count": 56,
   "metadata": {},
   "outputs": [
    {
     "data": {
      "text/plain": [
       "100"
      ]
     },
     "execution_count": 56,
     "metadata": {},
     "output_type": "execute_result"
    }
   ],
   "source": [
    "xyz = [40,100,1,5,25,10]\n",
    "def maxx(a):\n",
    "    res = a[0]\n",
    "    for i in a:\n",
    "        if res < i:\n",
    "            res = i\n",
    "    return res\n",
    "maxx(xyz)"
   ]
  },
  {
   "cell_type": "code",
   "execution_count": 57,
   "metadata": {},
   "outputs": [
    {
     "data": {
      "text/plain": [
       "1"
      ]
     },
     "execution_count": 57,
     "metadata": {},
     "output_type": "execute_result"
    }
   ],
   "source": [
    "xyzy = [40,100,1,5,25,10]\n",
    "def maxx(a):\n",
    "    res = a[0]\n",
    "    for i in a:\n",
    "        if res > i:\n",
    "            res = i\n",
    "    return res\n",
    "maxx(xyzy)"
   ]
  },
  {
   "cell_type": "code",
   "execution_count": null,
   "metadata": {},
   "outputs": [],
   "source": []
  }
 ],
 "metadata": {
  "kernelspec": {
   "display_name": "Python 3",
   "language": "python",
   "name": "python3"
  },
  "language_info": {
   "codemirror_mode": {
    "name": "ipython",
    "version": 3
   },
   "file_extension": ".py",
   "mimetype": "text/x-python",
   "name": "python",
   "nbconvert_exporter": "python",
   "pygments_lexer": "ipython3",
   "version": "3.6.8"
  }
 },
 "nbformat": 4,
 "nbformat_minor": 2
}
