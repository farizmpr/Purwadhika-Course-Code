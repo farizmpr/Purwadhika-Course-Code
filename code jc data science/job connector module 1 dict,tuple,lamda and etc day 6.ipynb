{
 "cells": [
  {
   "cell_type": "code",
   "execution_count": 1,
   "metadata": {},
   "outputs": [
    {
     "name": "stdout",
     "output_type": "stream",
     "text": [
      "item1\n",
      "item2\n",
      "[3, 'jerapah']\n",
      "jerapah\n"
     ]
    }
   ],
   "source": [
    "#dictionaries\n",
    "d={\"key1\":\"item1\", \"key2\":\"item2\",\"kucing\":[3,\"jerapah\"]}#ini adalah variabel yang isinya direcftional\n",
    "print(d[\"key1\"])\n",
    "print(d[\"key2\"])\n",
    "print(d[\"kucing\"])\n",
    "print(d[\"kucing\"][1])#akan mengambil value i kucing"
   ]
  },
  {
   "cell_type": "code",
   "execution_count": 2,
   "metadata": {},
   "outputs": [
    {
     "name": "stdout",
     "output_type": "stream",
     "text": [
      "{1: [1, 2, 3, 4], 'age': [40, 50, 60]}\n"
     ]
    }
   ],
   "source": [
    "#key tidak harus string\n",
    "d={1:[1,2,3,4],\"age\":[40,50,60]}\n",
    "print(d)"
   ]
  },
  {
   "cell_type": "code",
   "execution_count": 3,
   "metadata": {},
   "outputs": [
    {
     "name": "stdout",
     "output_type": "stream",
     "text": [
      "{0.5: [76, 34, 353], 1: [55], 'angka': []}\n"
     ]
    }
   ],
   "source": [
    "d={0.5:[76,34,353],1:[55],\"angka\":[]}\n",
    "print(d)"
   ]
  },
  {
   "cell_type": "markdown",
   "metadata": {},
   "source": [
    "### ----"
   ]
  },
  {
   "cell_type": "code",
   "execution_count": 4,
   "metadata": {},
   "outputs": [],
   "source": [
    "bob1= dict(name=\"bob\",job=\"dev\",age=40)#ini adalah pendifinisian suatu dict, menggunakan fungsi dict\n",
    "#diikuti dengan ()<-- tuple bukan {}\n",
    "#nama keys tidak perlu menggunakan tanda '' dan pemisahnya menggunakan ="
   ]
  },
  {
   "cell_type": "code",
   "execution_count": 5,
   "metadata": {},
   "outputs": [
    {
     "name": "stdout",
     "output_type": "stream",
     "text": [
      "{'name': 'bob', 'job': 'data science', 'age': [40, 45], 'adress': []}\n"
     ]
    }
   ],
   "source": [
    "#zip\n",
    "#zip ini harus list\n",
    "bob2=dict(zip([\"name\",\"job\",\"age\",\"adress\"],[\"bob\",\"data science\",[40,45],[]]))#zip(list dari nama keys ,list dari value)\n",
    "print(bob2)"
   ]
  },
  {
   "cell_type": "markdown",
   "metadata": {},
   "source": [
    "### dictioneries inside dictionaries"
   ]
  },
  {
   "cell_type": "code",
   "execution_count": 6,
   "metadata": {},
   "outputs": [
    {
     "name": "stdout",
     "output_type": "stream",
     "text": [
      "item1\n",
      "anggora\n"
     ]
    }
   ],
   "source": [
    "d={\"key1\":{\"key2\":\"item1\"}, \"kucing\":[3,\"jerapah\",[\"anggora\",\"persia\"]]}\n",
    "print(d[\"key1\"][\"key2\"])\n",
    "print(d[\"kucing\"][2][0])"
   ]
  },
  {
   "cell_type": "code",
   "execution_count": 7,
   "metadata": {},
   "outputs": [
    {
     "data": {
      "text/plain": [
       "'item1'"
      ]
     },
     "execution_count": 7,
     "metadata": {},
     "output_type": "execute_result"
    }
   ],
   "source": [
    "d={\"key1\":{\"key2\":{\"key3\":\"item1\"}}}\n",
    "d[\"key1\"][\"key2\"][\"key3\"]"
   ]
  },
  {
   "cell_type": "code",
   "execution_count": 8,
   "metadata": {},
   "outputs": [
    {
     "name": "stdout",
     "output_type": "stream",
     "text": [
      "{'nama': {'first': ['Fariz', 'risyad'], 'last': ['purnomo']}, 'job': ['Fresh Graduate'], 'age': [22]}\n"
     ]
    }
   ],
   "source": [
    "db={\"nama\":{\"first\":[\"Fariz\",\"risyad\"],\"last\":[\"purnomo\"]},\"job\":[\"Fresh Graduate\"],\"age\":[22]}\n",
    "print(db)"
   ]
  },
  {
   "cell_type": "markdown",
   "metadata": {},
   "source": [
    "### methods in dictioneries"
   ]
  },
  {
   "cell_type": "code",
   "execution_count": 9,
   "metadata": {},
   "outputs": [
    {
     "name": "stdout",
     "output_type": "stream",
     "text": [
      "dict_keys(['fariz', 'risyad', 'dian', 'heri'])\n",
      "dict_values([22, 25, 51, 53])\n",
      "dict_items([('fariz', 22), ('risyad', 25), ('dian', 51), ('heri', 53)])\n",
      "22\n",
      "['Fariz', 'risyad']\n",
      "['Fariz', 'risyad']\n"
     ]
    }
   ],
   "source": [
    "dict_age1={\"fariz\":22,\"risyad\":25,\"dian\":51,\"heri\":53}\n",
    "print(dict_age1.keys())#meythode menampilkan keys\n",
    "print(dict_age1.values())#menampilkan values dari setiap keys\n",
    "print(dict_age1.items())#menampilkan seluruh komponen\n",
    "print(dict_age1.get(\"fariz\"))#methode untuk menampilkan value dari suatu key\n",
    "print(db[\"nama\"].get(\"first\"))#cara menampilkan value dari nested list\n",
    "print(db[\"nama\"][\"first\"])#cara menampilkan value dari nested list\n"
   ]
  },
  {
   "cell_type": "code",
   "execution_count": 10,
   "metadata": {},
   "outputs": [
    {
     "name": "stdout",
     "output_type": "stream",
     "text": [
      "ini adalah key ['java', 'python', 'c']\n",
      "ini adalah val [100, 112, 11]\n",
      "java\n",
      "python\n",
      "python\n"
     ]
    }
   ],
   "source": [
    "#creating a new dictionary yang melihat kondisinya\n",
    "my_dictio={\"java\":100,\"python\":112,\"c\":11}\n",
    "\n",
    "#list out keys and values seperately\n",
    "key_list=list(my_dictio.keys())\n",
    "val_list=list(my_dictio.values())\n",
    "\n",
    "print(\"ini adalah key\",key_list)\n",
    "print(\"ini adalah val\",val_list)\n",
    "\n",
    "print(key_list[val_list.index(100)]) #ngecek ini 100 ada dimana\n",
    "print(key_list[val_list.index(112)]) #ngecek ini 112 ada dimana\n",
    "  \n",
    "# one-liner \n",
    "print(list(my_dictio.keys())[list(my_dictio.values()).index(112)]) "
   ]
  },
  {
   "cell_type": "code",
   "execution_count": 11,
   "metadata": {},
   "outputs": [
    {
     "name": "stdout",
     "output_type": "stream",
     "text": [
      "24\n",
      "[25, 22]\n"
     ]
    }
   ],
   "source": [
    "dict_age1={\"muhyi\":24,\"alfa\":22,\"baron\":25,\"lucas\":23}\n",
    "print(dict_age1.pop(\"muhyi\"))#method untuk remove keys\n",
    "\n",
    "keys = ['muhyi','alfa']#nampilin dua nilai\n",
    "print([dict_age1.get(key) for key in [\"baron\",\"alfa\"]])"
   ]
  },
  {
   "cell_type": "markdown",
   "metadata": {},
   "source": [
    "### changing element inside dictionories"
   ]
  },
  {
   "cell_type": "code",
   "execution_count": 12,
   "metadata": {},
   "outputs": [],
   "source": [
    "dict_age1={\"muhyi\":24,\"alfa\":22,\"baron\":25,\"lucas\":23}"
   ]
  },
  {
   "cell_type": "code",
   "execution_count": 13,
   "metadata": {},
   "outputs": [
    {
     "name": "stdout",
     "output_type": "stream",
     "text": [
      "{'muhyi': 24, 'alfa': 22, 'baron': 25, 'lucas': 23}\n"
     ]
    }
   ],
   "source": [
    "print(dict_age1)"
   ]
  },
  {
   "cell_type": "code",
   "execution_count": 14,
   "metadata": {},
   "outputs": [
    {
     "name": "stdout",
     "output_type": "stream",
     "text": [
      "{'muhyi': 24, 'alfa': 22, 'baron': 25, 'lucas': 23, 'lau': 27}\n"
     ]
    }
   ],
   "source": [
    "dict_age1['lau']=27\n",
    "print(dict_age1)"
   ]
  },
  {
   "cell_type": "code",
   "execution_count": 15,
   "metadata": {},
   "outputs": [
    {
     "name": "stdout",
     "output_type": "stream",
     "text": [
      "{'muhyi': 24, 'alfa': 22, 'baron': 25, 'lucas': 23, 'lau': 27, 'Lau': 20, 'yusran': [22, 23]}\n"
     ]
    }
   ],
   "source": [
    "dict_age1.update({'Lau':20,\"yusran\":[22,23]})#menambahkan key dan value lebih dari satu\n",
    "print(dict_age1)"
   ]
  },
  {
   "cell_type": "code",
   "execution_count": 16,
   "metadata": {},
   "outputs": [
    {
     "name": "stdout",
     "output_type": "stream",
     "text": [
      "{'muhyi': 24, 'alfa': 22, 'baron': 25, 'lucas': 23, 'lau': 27, 'Lau': 20, 'yusran': [22, 23, 21]}\n"
     ]
    }
   ],
   "source": [
    "dict_age1[\"yusran\"].append(21)#method append bisa dipaje di dict, karena key nya berupa list\n",
    "print(dict_age1)"
   ]
  },
  {
   "cell_type": "code",
   "execution_count": 17,
   "metadata": {},
   "outputs": [
    {
     "name": "stdout",
     "output_type": "stream",
     "text": [
      "{'name': 'rahmah', 'age': 26, 'live': 'bogor', 'job': 'wirausaha'}\n"
     ]
    }
   ],
   "source": [
    "dict_rahmah={\"name\":\"rahmah\",\n",
    "            \"age\":26,\n",
    "            \"live\":\"bogor\",\n",
    "            \"job\":\"wirausaha\"}\n",
    "print(dict_rahmah)"
   ]
  },
  {
   "cell_type": "code",
   "execution_count": 18,
   "metadata": {},
   "outputs": [
    {
     "name": "stdout",
     "output_type": "stream",
     "text": [
      "{'name': 'rahmah', 'age': 25, 'live': 'jakarta', 'job': 'wirausaha'}\n"
     ]
    }
   ],
   "source": [
    "#mengganti nilai pada key \n",
    "dict_rahmah[\"age\"]=25\n",
    "dict_rahmah[\"live\"]=\"jakarta\"\n",
    "print(dict_rahmah)"
   ]
  },
  {
   "cell_type": "markdown",
   "metadata": {},
   "source": [
    "### remove or delete suatu dictionari"
   ]
  },
  {
   "cell_type": "code",
   "execution_count": 19,
   "metadata": {},
   "outputs": [
    {
     "name": "stdout",
     "output_type": "stream",
     "text": [
      "{}\n"
     ]
    }
   ],
   "source": [
    "dict_age1={\"muhyi\":24,\"alfa\":22,\"baron\":14}\n",
    "del dict_age1[\"muhyi\"]\n",
    "dict_age1.clear()#bakal menghasilkan dict yg kosong\n",
    "print(dict_age1)"
   ]
  },
  {
   "cell_type": "markdown",
   "metadata": {},
   "source": [
    "## Tuple"
   ]
  },
  {
   "cell_type": "code",
   "execution_count": 20,
   "metadata": {},
   "outputs": [
    {
     "name": "stdout",
     "output_type": "stream",
     "text": [
      "(1, 2, 3)\n",
      "(1, 2, 3)\n",
      "(1, 2)\n",
      "()\n",
      "<class 'tuple'>\n"
     ]
    }
   ],
   "source": [
    "tuple1=1,2,3#tuple packing\n",
    "print(tuple1)\n",
    "\n",
    "Tuple1 = 1,2,3\n",
    "print(Tuple1)\n",
    "\n",
    "Tuple2 = (1,2,)\n",
    "print(Tuple2)\n",
    "\n",
    "Tuple3 = ()\n",
    "print(Tuple3)\n",
    "print(type(Tuple3))"
   ]
  },
  {
   "cell_type": "code",
   "execution_count": 21,
   "metadata": {},
   "outputs": [
    {
     "name": "stdout",
     "output_type": "stream",
     "text": [
      "(1, 2, 3)\n",
      "('a', 'b', 'c')\n",
      "(1, 2, 3)\n"
     ]
    }
   ],
   "source": [
    "Tuple4 = tuple([1,2,3])#data list yang di conver menjadi tuple\n",
    "print(Tuple4)\n",
    "                \n",
    "Tuple5 = tuple('abc')#tipe data string yang dikonvert menjadi tuple\n",
    "print(Tuple5)\n",
    "                \n",
    "Tuple6 = tuple((1,2,3))#tuple di convert menjadi tuple juga\n",
    "print(Tuple6)"
   ]
  },
  {
   "cell_type": "code",
   "execution_count": 22,
   "metadata": {},
   "outputs": [
    {
     "name": "stdout",
     "output_type": "stream",
     "text": [
      "True\n",
      "test\n",
      "(1, [0, 'akan'], {'a1': True})\n",
      "akan\n",
      "[0, 'akan']\n"
     ]
    }
   ],
   "source": [
    "t = (1, [0, \"test\"], { \"a1\" : True })\n",
    "print(t[2][\"a1\"])#nilai yang a1 berapa\n",
    "print(t[1][1])#menampilakn index kesati di dalam list yg posisinya index satu juga\n",
    "t[1][1]=\"akan\"#ngeganti test menjadi akan\n",
    "print(t)\n",
    "print(t[1][1])\n",
    "print(t[1])\n",
    "#t[0]=\"mark\"#syntax ini gabisa soalnya nilainya tuple"
   ]
  },
  {
   "cell_type": "code",
   "execution_count": 23,
   "metadata": {},
   "outputs": [
    {
     "name": "stdout",
     "output_type": "stream",
     "text": [
      "5\n"
     ]
    }
   ],
   "source": [
    "#tuple inside tuple \n",
    "t = (1, [0, \"test\"], { \"a1\" : True }, (0,{ \"test\" : 5 },2))\n",
    "print(t[3][1][\"test\"])#ngambil index tiga,terus index satu dan ngambil test"
   ]
  },
  {
   "cell_type": "code",
   "execution_count": 24,
   "metadata": {},
   "outputs": [
    {
     "name": "stdout",
     "output_type": "stream",
     "text": [
      "6\n"
     ]
    }
   ],
   "source": [
    "a = (1,2,3)\n",
    "total=0\n",
    "for number in range(len(a)):\n",
    "    total = total+a[number]\n",
    "print(total)"
   ]
  },
  {
   "cell_type": "markdown",
   "metadata": {},
   "source": [
    "### sets"
   ]
  },
  {
   "cell_type": "code",
   "execution_count": 25,
   "metadata": {},
   "outputs": [
    {
     "name": "stdout",
     "output_type": "stream",
     "text": [
      "{1, 2, 3}\n",
      "3\n"
     ]
    }
   ],
   "source": [
    "s = { 1, 3, 1, 2, 2, 3 }#gabisa duplicate\n",
    "print(s) \n",
    "print(list(s)[2])"
   ]
  },
  {
   "cell_type": "code",
   "execution_count": 26,
   "metadata": {},
   "outputs": [
    {
     "name": "stdout",
     "output_type": "stream",
     "text": [
      "{1.0, 'hello', (1, 2, 3)}\n"
     ]
    }
   ],
   "source": [
    "#set of mixed datatypes\n",
    "my_set={1.0,\"hello\",(1,2,3)}#set tidak bisa memuat list dan dict di dalamnya\n",
    "print(my_set)"
   ]
  },
  {
   "cell_type": "code",
   "execution_count": 27,
   "metadata": {},
   "outputs": [
    {
     "name": "stdout",
     "output_type": "stream",
     "text": [
      "{1, 2, 3, 'test1', 'test2'}\n",
      "3\n"
     ]
    }
   ],
   "source": [
    "#filtering using set\n",
    "newList = [ 1, 3, \"test1\", \"test2\" , 2, 3, \"test1\" ]; s = set(newList);\n",
    "s=set(newList)#newlist yang tipe data list di konvert to set sehingga ketika di print hanya menampilkan unique value\n",
    "print(s)\n",
    "print(list(s)[2])"
   ]
  },
  {
   "cell_type": "code",
   "execution_count": 28,
   "metadata": {},
   "outputs": [
    {
     "name": "stdout",
     "output_type": "stream",
     "text": [
      "[2, 4, 6, 8, 10]\n"
     ]
    }
   ],
   "source": [
    "#list comperhension\n",
    "listNum = [ 1, 2, 3, 4, 5];\n",
    "listNum = [item * 2 for item in listNum]; \n",
    "print(listNum);"
   ]
  },
  {
   "cell_type": "code",
   "execution_count": 29,
   "metadata": {},
   "outputs": [
    {
     "name": "stdout",
     "output_type": "stream",
     "text": [
      "<class 'dict'>\n",
      "<class 'set'>\n"
     ]
    }
   ],
   "source": [
    "a={}\n",
    "print(type(a))\n",
    "\n",
    "a=set()\n",
    "print(type(a))"
   ]
  },
  {
   "cell_type": "code",
   "execution_count": 30,
   "metadata": {},
   "outputs": [
    {
     "name": "stdout",
     "output_type": "stream",
     "text": [
      "{1, 3}\n",
      "{1, 2, 3}\n",
      "{1, 2, 3, 4}\n"
     ]
    }
   ],
   "source": [
    "# cara add elemen\n",
    "my_set={1,3}\n",
    "print(my_set)\n",
    "\n",
    "my_set.add(2)#set itu sequence,add gak support list\n",
    "print(my_set)\n",
    "\n",
    "my_set.update([2,3,4])#menambahkan nilai pada set\n",
    "print(my_set)"
   ]
  },
  {
   "cell_type": "code",
   "execution_count": 31,
   "metadata": {},
   "outputs": [
    {
     "name": "stdout",
     "output_type": "stream",
     "text": [
      "[2, 4, 6, 8, 10]\n"
     ]
    }
   ],
   "source": [
    "#list comprehension\n",
    "def times2(num):\n",
    "    x = num*2\n",
    "    return x\n",
    "listnum=[1,2,3,4,5]\n",
    "listnum = [times2(item) for item in listnum]\n",
    "print(listnum)"
   ]
  },
  {
   "cell_type": "code",
   "execution_count": 32,
   "metadata": {},
   "outputs": [
    {
     "name": "stdout",
     "output_type": "stream",
     "text": [
      "[102, 202, 504]\n"
     ]
    }
   ],
   "source": [
    "def timses(num):\n",
    "    return num+2\n",
    "numQ = [100,200,502]\n",
    "numQ = [timses(item)for item in numQ]\n",
    "print(numQ)"
   ]
  },
  {
   "cell_type": "code",
   "execution_count": 33,
   "metadata": {},
   "outputs": [
    {
     "name": "stdout",
     "output_type": "stream",
     "text": [
      "{1, 3, 4, 5, 6}\n",
      "{1, 3, 4, 5}\n",
      "{1, 3, 5}\n"
     ]
    }
   ],
   "source": [
    "my_set={1,3,4,5,6}\n",
    "print(my_set)\n",
    "\n",
    "my_set.remove(6)#ngeremove elemen dari suatu set\n",
    "print(my_set)\n",
    "\n",
    "my_set.discard(4)#dapat digunakan untuk meremove elemen dari suatu set\n",
    "print(my_set)"
   ]
  },
  {
   "cell_type": "code",
   "execution_count": 34,
   "metadata": {},
   "outputs": [
    {
     "name": "stdout",
     "output_type": "stream",
     "text": [
      "{'o', 'b', 'g', 'r'}\n"
     ]
    }
   ],
   "source": [
    "my_set1=set(\"bogor\")\n",
    "print(my_set1)"
   ]
  },
  {
   "cell_type": "code",
   "execution_count": 35,
   "metadata": {},
   "outputs": [
    {
     "name": "stdout",
     "output_type": "stream",
     "text": [
      "{1, 2, 3, 4, 5, 6, 7, 8}\n"
     ]
    }
   ],
   "source": [
    "a={1,2,3,4,5}\n",
    "b={4,5,6,7,8}\n",
    "print(a|b)#union"
   ]
  },
  {
   "cell_type": "markdown",
   "metadata": {},
   "source": [
    "### lambda expression"
   ]
  },
  {
   "cell_type": "code",
   "execution_count": 36,
   "metadata": {},
   "outputs": [],
   "source": [
    "def times2(num): return num*2\n",
    "a= lambda num: num*2\n",
    "\n",
    "#lambda tanpa nama function dan gaperlu return"
   ]
  },
  {
   "cell_type": "code",
   "execution_count": 37,
   "metadata": {},
   "outputs": [
    {
     "name": "stdout",
     "output_type": "stream",
     "text": [
      "[2, 4, 6, 8, 10]\n"
     ]
    }
   ],
   "source": [
    "#map\n",
    "listNum = [ 1, 2, 3, 4, 5]\n",
    "listNum = list(map(times2, listNum))\n",
    "print(listNum)"
   ]
  },
  {
   "cell_type": "code",
   "execution_count": 38,
   "metadata": {},
   "outputs": [
    {
     "data": {
      "text/plain": [
       "[4, 8, 12, 16, 20]"
      ]
     },
     "execution_count": 38,
     "metadata": {},
     "output_type": "execute_result"
    }
   ],
   "source": [
    "#lambda\n",
    "ListNum=[1,2,3,4,5,6]\n",
    "list(map(lambda num : num*2,listnum))#map itu berfungsi untuk mengaplikasikan fungsi ato lambda ke iterable\n",
    "#lambda dipakai ketika fungsi tidak terlalu kompleks\n",
    "#lambda terdiri dua parameteryang pertama adalah fungsi /lambda dan parameter kedua adalah iterable"
   ]
  },
  {
   "cell_type": "code",
   "execution_count": 39,
   "metadata": {},
   "outputs": [
    {
     "name": "stdout",
     "output_type": "stream",
     "text": [
      "30\n",
      "60\n",
      "90\n"
     ]
    }
   ],
   "source": [
    "def kali10(num):\n",
    "    return num*10\n",
    "angka = [3,6,9]\n",
    "for i in map(kali10,angka):\n",
    "    print(i)"
   ]
  },
  {
   "cell_type": "markdown",
   "metadata": {},
   "source": [
    "### filter"
   ]
  },
  {
   "cell_type": "code",
   "execution_count": 40,
   "metadata": {},
   "outputs": [
    {
     "name": "stdout",
     "output_type": "stream",
     "text": [
      "[4, 6, 8]\n"
     ]
    }
   ],
   "source": [
    "#kalau ini hasilnya boolean, tetapi yg di store angkanya\n",
    "def bagi(num):\n",
    "    return num%2==0\n",
    "\n",
    "listNum=[1,4,5,6,7,8]\n",
    "listNum = list(filter(bagi,listNum))\n",
    "print(listNum)"
   ]
  },
  {
   "cell_type": "code",
   "execution_count": 41,
   "metadata": {},
   "outputs": [
    {
     "name": "stdout",
     "output_type": "stream",
     "text": [
      "[5, 7]\n"
     ]
    }
   ],
   "source": [
    "ListNum1=[4,5,6,7,10,12]\n",
    "x=list(filter(lambda num: num%2==1,ListNum1))\n",
    "print(x)"
   ]
  },
  {
   "cell_type": "code",
   "execution_count": 42,
   "metadata": {},
   "outputs": [
    {
     "name": "stdout",
     "output_type": "stream",
     "text": [
      "False\n",
      "True\n",
      "False\n"
     ]
    }
   ],
   "source": [
    "#methods for search\n",
    "numList=[1,2,3]\n",
    "input='x'\n",
    "\n",
    "check1= input in numList\n",
    "check2 = 'x' in ['x','y','z']\n",
    "check3 = 'ks' in 'kurakas'\n",
    "\n",
    "print(check1)\n",
    "print(check2)\n",
    "print(check3)"
   ]
  },
  {
   "cell_type": "code",
   "execution_count": 52,
   "metadata": {},
   "outputs": [
    {
     "name": "stdout",
     "output_type": "stream",
     "text": [
      "   asset  revenue\n",
      "0    450      451\n",
      "1    150      170\n",
      "2    230      220\n"
     ]
    }
   ],
   "source": [
    "import pandas as pd\n",
    "\n",
    "d={'asset' :[450,150,230],'revenue':[451,170,220]}\n",
    "df = pd.DataFrame(d)\n",
    "print(df)"
   ]
  },
  {
   "cell_type": "code",
   "execution_count": 53,
   "metadata": {},
   "outputs": [
    {
     "data": {
      "text/html": [
       "<div>\n",
       "<style scoped>\n",
       "    .dataframe tbody tr th:only-of-type {\n",
       "        vertical-align: middle;\n",
       "    }\n",
       "\n",
       "    .dataframe tbody tr th {\n",
       "        vertical-align: top;\n",
       "    }\n",
       "\n",
       "    .dataframe thead th {\n",
       "        text-align: right;\n",
       "    }\n",
       "</style>\n",
       "<table border=\"1\" class=\"dataframe\">\n",
       "  <thead>\n",
       "    <tr style=\"text-align: right;\">\n",
       "      <th></th>\n",
       "      <th>asset</th>\n",
       "      <th>revenue</th>\n",
       "      <th>profit</th>\n",
       "    </tr>\n",
       "  </thead>\n",
       "  <tbody>\n",
       "    <tr>\n",
       "      <th>0</th>\n",
       "      <td>450</td>\n",
       "      <td>451</td>\n",
       "      <td>1</td>\n",
       "    </tr>\n",
       "    <tr>\n",
       "      <th>1</th>\n",
       "      <td>150</td>\n",
       "      <td>170</td>\n",
       "      <td>20</td>\n",
       "    </tr>\n",
       "    <tr>\n",
       "      <th>2</th>\n",
       "      <td>230</td>\n",
       "      <td>220</td>\n",
       "      <td>-10</td>\n",
       "    </tr>\n",
       "  </tbody>\n",
       "</table>\n",
       "</div>"
      ],
      "text/plain": [
       "   asset  revenue  profit\n",
       "0    450      451       1\n",
       "1    150      170      20\n",
       "2    230      220     -10"
      ]
     },
     "execution_count": 53,
     "metadata": {},
     "output_type": "execute_result"
    }
   ],
   "source": [
    "df[\"profit\"]=df.apply(lambda x: x['revenue']-x['asset'],axis=1)#apply memberi perlakuan yg sama ke tiap baris\n",
    "df#axis=1 itu kolom\n",
    "#apply untuk memberlakukan row"
   ]
  },
  {
   "cell_type": "markdown",
   "metadata": {},
   "source": [
    "## quiz"
   ]
  },
  {
   "cell_type": "code",
   "execution_count": 54,
   "metadata": {},
   "outputs": [
    {
     "name": "stdout",
     "output_type": "stream",
     "text": [
      "{'ten': 10, 'twenty': 20, 'thirty': 30}\n"
     ]
    }
   ],
   "source": [
    "#1\n",
    "keys=['ten','twenty','thirty']\n",
    "values=[10,20,30]\n",
    "\n",
    "x= dict(zip(keys,values))\n",
    "print(x)"
   ]
  },
  {
   "cell_type": "code",
   "execution_count": 55,
   "metadata": {},
   "outputs": [
    {
     "data": {
      "text/plain": [
       "80"
      ]
     },
     "execution_count": 55,
     "metadata": {},
     "output_type": "execute_result"
    }
   ],
   "source": [
    "#2\n",
    "sampleDict = {'class':{'student':{'name':'mike','marks':{'physics':70,'history':80}}}}\n",
    "sampleDict[\"class\"]['student']['marks']['history']"
   ]
  },
  {
   "cell_type": "code",
   "execution_count": 56,
   "metadata": {},
   "outputs": [
    {
     "name": "stdout",
     "output_type": "stream",
     "text": [
      "True\n"
     ]
    }
   ],
   "source": [
    "#3\n",
    "sampleDictio={'a':100,'b':200,'c':300}\n",
    "checks = 100 in sampleDictio.values()#buat ngakses nilai values nya ada gak ini 100\n",
    "print(checks)"
   ]
  },
  {
   "cell_type": "code",
   "execution_count": 57,
   "metadata": {},
   "outputs": [
    {
     "name": "stdout",
     "output_type": "stream",
     "text": [
      "{'name': 'kelly', 'age': 25, 'salary': 8000, 'location': 'new york'}\n"
     ]
    }
   ],
   "source": [
    "#4\n",
    "sampleDict1={\n",
    "    \"name\":\"kelly\",\n",
    "    \"age\":25,\n",
    "    \"salary\":8000,\n",
    "    \"city\":\"new york\"\n",
    "}\n",
    "sampleDict1[\"location\"] = sampleDict1.pop(\"city\")\n",
    "print(sampleDict1)"
   ]
  },
  {
   "cell_type": "code",
   "execution_count": 72,
   "metadata": {},
   "outputs": [
    {
     "name": "stdout",
     "output_type": "stream",
     "text": [
      "math\n"
     ]
    }
   ],
   "source": [
    "#5\n",
    "sampleDict2={\n",
    "    \"physics\":82,\n",
    "    \"math\":65,\n",
    "    \"history\":75\n",
    "}\n",
    "print(min(sampleDict2,key=sampleDict2.get))#cara mas alfa"
   ]
  },
  {
   "cell_type": "code",
   "execution_count": 59,
   "metadata": {},
   "outputs": [
    {
     "name": "stdout",
     "output_type": "stream",
     "text": [
      "math\n"
     ]
    }
   ],
   "source": [
    "#minimal function\n",
    "key_min = min(sampleDict2.keys(), key=(lambda k: sampleDict2[k]))\n",
    "print(key_min)"
   ]
  },
  {
   "cell_type": "code",
   "execution_count": 60,
   "metadata": {},
   "outputs": [
    {
     "name": "stdout",
     "output_type": "stream",
     "text": [
      "{'emp1': {'name': 'john', 'salary': 7500}, 'emp2': {'name': 'emma', 'salary': 8000}, 'emp3': {'name': 'john', 'salary': 8500}}\n"
     ]
    }
   ],
   "source": [
    "#mengganti 6500 jadi 8500\n",
    "sampledict={\n",
    "    \"emp1\":{\"name\":\"john\",\"salary\":7500},\n",
    "    \"emp2\":{\"name\":\"emma\",\"salary\":8000},\n",
    "    \"emp3\":{\"name\":\"john\",\"salary\":6500}\n",
    "}\n",
    "sampledict[\"emp3\"][\"salary\"] = 8500\n",
    "print(sampledict)"
   ]
  },
  {
   "cell_type": "code",
   "execution_count": 61,
   "metadata": {},
   "outputs": [
    {
     "name": "stdout",
     "output_type": "stream",
     "text": [
      "[1, 4, 9, 16, 25, 36, 49, 64, 81, 100]\n"
     ]
    }
   ],
   "source": [
    "#dikuadratin dan pangkat tiga\n",
    "#kuadrat\n",
    "num = [1,2,3,4,5,6,7,8,9,10]\n",
    "\n",
    "num = list(map(lambda angka: angka**2, num))\n",
    "print(num)\n",
    "#nah kalo maps itu angka ini"
   ]
  },
  {
   "cell_type": "code",
   "execution_count": 62,
   "metadata": {},
   "outputs": [
    {
     "name": "stdout",
     "output_type": "stream",
     "text": [
      "[1, 4, 9, 16, 25, 36, 49, 64, 81, 100]\n"
     ]
    }
   ],
   "source": [
    "#cara pake pow\n",
    "num = [1,2,3,4,5,6,7,8,9,10]\n",
    "\n",
    "num = list(map(lambda angka: pow(angka,2), num))\n",
    "print(num)"
   ]
  },
  {
   "cell_type": "code",
   "execution_count": 64,
   "metadata": {},
   "outputs": [
    {
     "name": "stdout",
     "output_type": "stream",
     "text": [
      "[1, 8, 27, 64, 125, 216, 343, 512, 729, 1000]\n"
     ]
    }
   ],
   "source": [
    "num = [1,2,3,4,5,6,7,8,9,10]\n",
    "\n",
    "num = list(map(lambda angka: angka**3, num))\n",
    "print(num)\n",
    "#filter itu untuk yg betul atau salah saja kalau untuk menyimpan hasil pakai map"
   ]
  },
  {
   "cell_type": "code",
   "execution_count": 69,
   "metadata": {},
   "outputs": [
    {
     "name": "stdout",
     "output_type": "stream",
     "text": [
      "[10, 8, 7, 5, 4, 11]\n"
     ]
    }
   ],
   "source": [
    "#soal terakhir\n",
    "s=[10,2,8,7,5,4,3,11,0,1]\n",
    "s=list(filter(lambda angka: angka>=4, s))\n",
    "print(s)\n",
    "#soal kedua filter soalnya yang di case kedua itu dia kondisi, jadi resultnya true\n",
    "#kalo maps iterasi angka yg dilooping angkanya,maps bukan untuk kondisi"
   ]
  },
  {
   "cell_type": "code",
   "execution_count": null,
   "metadata": {},
   "outputs": [],
   "source": []
  }
 ],
 "metadata": {
  "kernelspec": {
   "display_name": "Python 3",
   "language": "python",
   "name": "python3"
  },
  "language_info": {
   "codemirror_mode": {
    "name": "ipython",
    "version": 3
   },
   "file_extension": ".py",
   "mimetype": "text/x-python",
   "name": "python",
   "nbconvert_exporter": "python",
   "pygments_lexer": "ipython3",
   "version": "3.6.8"
  }
 },
 "nbformat": 4,
 "nbformat_minor": 2
}
