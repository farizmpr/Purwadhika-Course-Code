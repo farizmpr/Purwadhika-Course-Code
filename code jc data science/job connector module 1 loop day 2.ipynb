{
 "cells": [
  {
   "cell_type": "markdown",
   "metadata": {},
   "source": [
    "## logic if ,else if dan else"
   ]
  },
  {
   "cell_type": "code",
   "execution_count": 1,
   "metadata": {},
   "outputs": [
    {
     "name": "stdout",
     "output_type": "stream",
     "text": [
      "80\n"
     ]
    }
   ],
   "source": [
    "usiaAndi = 40\n",
    "usiaAndi *= 2\n",
    "print(usiaAndi)"
   ]
  },
  {
   "cell_type": "code",
   "execution_count": 2,
   "metadata": {},
   "outputs": [
    {
     "name": "stdout",
     "output_type": "stream",
     "text": [
      "20.0\n"
     ]
    }
   ],
   "source": [
    "usiaAndi1 = 40\n",
    "usiaAndi1 /= 2\n",
    "print(usiaAndi1)"
   ]
  },
  {
   "cell_type": "code",
   "execution_count": 3,
   "metadata": {},
   "outputs": [
    {
     "name": "stdout",
     "output_type": "stream",
     "text": [
      "42\n"
     ]
    }
   ],
   "source": [
    "usiaAndi2 = 40\n",
    "usiaAndi2 += 2\n",
    "print(usiaAndi2)"
   ]
  },
  {
   "cell_type": "code",
   "execution_count": 4,
   "metadata": {},
   "outputs": [
    {
     "name": "stdout",
     "output_type": "stream",
     "text": [
      "38\n"
     ]
    }
   ],
   "source": [
    "usiaAndi3 = 40\n",
    "usiaAndi3 -= 2\n",
    "print(usiaAndi3)"
   ]
  },
  {
   "cell_type": "code",
   "execution_count": 5,
   "metadata": {},
   "outputs": [
    {
     "name": "stdout",
     "output_type": "stream",
     "text": [
      "0\n"
     ]
    }
   ],
   "source": [
    "usiaAndi4 = 40\n",
    "usiaAndi4 %= 2\n",
    "print(usiaAndi4)"
   ]
  },
  {
   "cell_type": "code",
   "execution_count": 7,
   "metadata": {},
   "outputs": [
    {
     "name": "stdout",
     "output_type": "stream",
     "text": [
      "False\n"
     ]
    }
   ],
   "source": [
    "#comparison\n",
    "x=7\n",
    "y=5\n",
    "print(x < y)"
   ]
  },
  {
   "cell_type": "code",
   "execution_count": 13,
   "metadata": {},
   "outputs": [
    {
     "name": "stdout",
     "output_type": "stream",
     "text": [
      "False\n",
      "False\n",
      "True\n",
      "False\n",
      "True\n"
     ]
    }
   ],
   "source": [
    "x=5\n",
    "y='5'\n",
    "\n",
    "print(x==y)\n",
    "print(x>int(y))\n",
    "print(x>=int(y))\n",
    "print(x<int(y))\n",
    "print(x<=int(y))"
   ]
  },
  {
   "cell_type": "code",
   "execution_count": 26,
   "metadata": {},
   "outputs": [
    {
     "name": "stdout",
     "output_type": "stream",
     "text": [
      "True\n",
      "True\n",
      "False\n",
      "True\n",
      "True\n",
      "False\n"
     ]
    }
   ],
   "source": [
    "#logical operator\n",
    "x=5\n",
    "y='5'\n",
    "z=6\n",
    "#kalo mau duluan pake kurung karawal\n",
    "#pembacaannya and nya didahulukan, seperti perkalian saja\n",
    "print(x==int(y) and int(y)<z)#true keduanya benar\n",
    "print(x==int(y) or int(y)<z)#kalau or salah satunya benar, true.kalo dissini dua duanya benar\n",
    "print((x==int(y) or int(y)>z) and int(y)>z)#yang benar true statement pertama true ngikutin yg dua awal, dan dicocokin sama statement terakhir\n",
    "print(x==int(y) or int(y)>z and int(y)>z)\n",
    "print(x==int(y) and int(y)<z or int(y)<z)#yang statement pertama benar dua duanya dan statement terakhir or bener\n",
    "print(not(x==int(y) or int(y)<z))#soalnya dalamnya benar, karna not jadi munculnya false"
   ]
  },
  {
   "cell_type": "code",
   "execution_count": 28,
   "metadata": {},
   "outputs": [
    {
     "name": "stdout",
     "output_type": "stream",
     "text": [
      "False\n"
     ]
    }
   ],
   "source": [
    "print(x==int(y) and int(y)>z or int(y)>z)"
   ]
  },
  {
   "cell_type": "code",
   "execution_count": 34,
   "metadata": {},
   "outputs": [
    {
     "name": "stdout",
     "output_type": "stream",
     "text": [
      "input two numbers :10 20\n",
      "10\n",
      "b is greater than a\n"
     ]
    }
   ],
   "source": [
    "#conditional expression\n",
    "a,b = input('input two numbers :').split() \n",
    "a = int(a)\n",
    "b = int(b)\n",
    "if a < b :\n",
    "    difference = b-a \n",
    "    print(difference)\n",
    "print('b is greater than a')"
   ]
  },
  {
   "cell_type": "code",
   "execution_count": 36,
   "metadata": {},
   "outputs": [
    {
     "name": "stdout",
     "output_type": "stream",
     "text": [
      "udh taken\n"
     ]
    }
   ],
   "source": [
    "jomblo = False\n",
    "\n",
    "if (jomblo):\n",
    "    print(\"masih jomblo\")\n",
    "else:\n",
    "    print(\"udh taken\")"
   ]
  },
  {
   "cell_type": "code",
   "execution_count": 39,
   "metadata": {},
   "outputs": [
    {
     "name": "stdout",
     "output_type": "stream",
     "text": [
      "input x\n",
      "2\n",
      "input y\n",
      "2\n",
      "0\n",
      "x and y must be equal\n"
     ]
    }
   ],
   "source": [
    "x=int(input('input x\\n'))\n",
    "y=int(input('input y\\n'))\n",
    "\n",
    "if (x<y):\n",
    "    #statement a\n",
    "    difference = y-x\n",
    "    result = 'x is less than y'\n",
    "elif (x>y):\n",
    "    #statement b\n",
    "    difference = x-y\n",
    "    result = 'x greater than y'\n",
    "else:\n",
    "    #statement c\n",
    "    difference = 0\n",
    "    result='x and y must be equal'\n",
    "print(difference)\n",
    "print(result)"
   ]
  },
  {
   "cell_type": "code",
   "execution_count": 41,
   "metadata": {},
   "outputs": [
    {
     "name": "stdout",
     "output_type": "stream",
     "text": [
      "input x\n",
      "2\n",
      "input y\n",
      "7\n",
      "5\n",
      "x is less than y\n"
     ]
    }
   ],
   "source": [
    "x=int(input('input x\\n'))\n",
    "y=int(input('input y\\n'))\n",
    "\n",
    "if (x<y):\n",
    "    #statement a\n",
    "    difference = y-x\n",
    "    result = 'x is less than y'\n",
    "else:\n",
    "    if(x>y):\n",
    "        #statemen b\n",
    "        difference = x\n",
    "        result = 'x is greater than y'\n",
    "    else:\n",
    "        #statemen c\n",
    "        difference = 0\n",
    "        result = 'x must be equal'\n",
    "print(difference)\n",
    "print(result)"
   ]
  },
  {
   "cell_type": "markdown",
   "metadata": {},
   "source": [
    "# input soal"
   ]
  },
  {
   "cell_type": "code",
   "execution_count": 42,
   "metadata": {},
   "outputs": [
    {
     "name": "stdout",
     "output_type": "stream",
     "text": [
      "Masukkan Angka55\n",
      "angka 55 tergolong bilangan ganjil\n"
     ]
    }
   ],
   "source": [
    "#ganjil genap\n",
    "a = int(input(\"Masukkan Angka \"))\n",
    "if a%2 == 0:\n",
    "    print(\"angka \", a ,\"tergolong bilangan genap\")\n",
    "else:\n",
    "    print(\"angka\", a, \"tergolong bilangan ganjil\")"
   ]
  },
  {
   "cell_type": "code",
   "execution_count": 50,
   "metadata": {},
   "outputs": [
    {
     "name": "stdout",
     "output_type": "stream",
     "text": [
      "masukkan angka 2\n",
      "angka  2 tergolong bilangan bukan prima\n"
     ]
    }
   ],
   "source": [
    "#bilangan prima\n",
    "b = int(input(\"masukkan angka \"))\n",
    "if b == 2:\n",
    "    print(\"angka \", b ,\"tergolong bilangan bukan prima\")\n",
    "elif b == 2:\n",
    "    print(\"angka \", b,\"bilangan prima\")\n",
    "else:\n",
    "    print(\"angka \", b, \"bilangan prima\")"
   ]
  },
  {
   "cell_type": "code",
   "execution_count": 1,
   "metadata": {},
   "outputs": [
    {
     "name": "stdout",
     "output_type": "stream",
     "text": [
      "78\n",
      "178\n",
      "artinya berat badan ideal\n",
      "massa  78.0 dan tinggi 1.78\n",
      "24.61810377477591 berat badan ideal\n"
     ]
    }
   ],
   "source": [
    "#solve 2\n",
    "import math\n",
    "massa = float(input())\n",
    "tinggi = float(input())\n",
    "tinggimeter = tinggi/100\n",
    "IMT = massa/((tinggimeter)**2)\n",
    "\n",
    "if IMT<18.5:\n",
    "    print(\"artinya berat badan kurang\")\n",
    "elif IMT >= 18.5 and IMT<=24.9:\n",
    "    print(\"artinya berat badan ideal\")\n",
    "elif IMT >= 25.0 and IMT<=29.9:\n",
    "    print(\"artinya berat badan berlebih\")\n",
    "elif IMT >= 30.0 and IMT<=39.9:\n",
    "    print(\"artinya berat badan sgt berlebih\")\n",
    "else:\n",
    "    print(\"berat badan obesitas\")\n",
    "print(\"massa \",massa ,\"dan tinggi\", tinggimeter)\n",
    "print(IMT, \"berat badan ideal\")"
   ]
  },
  {
   "cell_type": "markdown",
   "metadata": {},
   "source": [
    "   # looping"
   ]
  },
  {
   "cell_type": "code",
   "execution_count": 57,
   "metadata": {},
   "outputs": [
    {
     "name": "stdout",
     "output_type": "stream",
     "text": [
      "1\n",
      "2\n",
      "3\n",
      "4\n",
      "5\n",
      "6\n",
      "7\n",
      "8\n",
      "9\n",
      "10\n"
     ]
    }
   ],
   "source": [
    "#while\n",
    "angka = 1\n",
    "while(angka<=10):\n",
    "    print(angka)\n",
    "    angka += 1"
   ]
  },
  {
   "cell_type": "code",
   "execution_count": 59,
   "metadata": {},
   "outputs": [
    {
     "name": "stdout",
     "output_type": "stream",
     "text": [
      "1 3 5 7 9 "
     ]
    }
   ],
   "source": [
    "angka = 1\n",
    "while (angka <= 10):\n",
    "    print(angka, end = ' ')\n",
    "    angka += 2"
   ]
  },
  {
   "cell_type": "code",
   "execution_count": 72,
   "metadata": {},
   "outputs": [
    {
     "name": "stdout",
     "output_type": "stream",
     "text": [
      "14 8 2 -4 -10 -16 "
     ]
    }
   ],
   "source": [
    "#solve 1\n",
    "ab = 14\n",
    "while ab >= -16 :\n",
    "    print(ab, end=' ')\n",
    "    ab -= 6"
   ]
  },
  {
   "cell_type": "code",
   "execution_count": 94,
   "metadata": {},
   "outputs": [
    {
     "name": "stdout",
     "output_type": "stream",
     "text": [
      "5 7\n",
      "7 9\n",
      "9 11\n",
      "11 13\n",
      "13 15\n"
     ]
    }
   ],
   "source": [
    "#solve 2\n",
    "ganjils = 5\n",
    "while (ganjils <= 13):\n",
    "    print(ganjils, end=' ')\n",
    "    ganjils += 2\n",
    "    print(ganjils)"
   ]
  },
  {
   "cell_type": "code",
   "execution_count": 93,
   "metadata": {},
   "outputs": [
    {
     "name": "stdout",
     "output_type": "stream",
     "text": [
      "5,7\n",
      "7,9\n",
      "9,11\n",
      "11,13\n",
      "13,15\n"
     ]
    }
   ],
   "source": [
    "#solve 2\n",
    "angka = 5\n",
    "while(angka <= 13):\n",
    "    print(angka,angka+2,sep=',')\n",
    "    angka +=2"
   ]
  },
  {
   "cell_type": "code",
   "execution_count": 96,
   "metadata": {},
   "outputs": [
    {
     "name": "stdout",
     "output_type": "stream",
     "text": [
      "1233\n",
      "2424\n",
      "141\n",
      "1212\n",
      "424\n",
      "424\n",
      "-99\n",
      "6\n"
     ]
    }
   ],
   "source": [
    "#5, 23, 21, 323, 121212,-99\n",
    "c=0\n",
    "bill = int(input()) \n",
    "while (bill != -99):\n",
    "    c += 1\n",
    "    bill = int(input())\n",
    "print(c)"
   ]
  },
  {
   "cell_type": "code",
   "execution_count": 91,
   "metadata": {},
   "outputs": [
    {
     "name": "stdout",
     "output_type": "stream",
     "text": [
      "5 7,9\n",
      "9 11,13\n",
      "13 15,17\n"
     ]
    }
   ],
   "source": [
    "#solve 2tiga baris\n",
    "angka3 = 5\n",
    "while (angka3 <= 15):\n",
    "    print(angka3, angka3+2, end=',')\n",
    "    angka3 += 4\n",
    "    print(angka3)"
   ]
  },
  {
   "cell_type": "code",
   "execution_count": 97,
   "metadata": {},
   "outputs": [
    {
     "name": "stdout",
     "output_type": "stream",
     "text": [
      "1\n",
      "2\n",
      "3\n"
     ]
    }
   ],
   "source": [
    "#break\n",
    "i= 1\n",
    "while i<6:\n",
    "    print(i)\n",
    "    if(i==3):\n",
    "        break\n",
    "    i+=1"
   ]
  },
  {
   "cell_type": "code",
   "execution_count": 98,
   "metadata": {},
   "outputs": [
    {
     "name": "stdout",
     "output_type": "stream",
     "text": [
      "1\n",
      "2\n",
      "3\n",
      "4\n",
      "5\n",
      "i is no longer less than 6\n"
     ]
    }
   ],
   "source": [
    "#continue\n",
    "i=1\n",
    "while i<6:\n",
    "    print(i)\n",
    "    i+=1\n",
    "else:\n",
    "    print(\"i is no longer less than 6\")"
   ]
  },
  {
   "cell_type": "code",
   "execution_count": 103,
   "metadata": {},
   "outputs": [
    {
     "name": "stdout",
     "output_type": "stream",
     "text": [
      "4\n",
      "3\n",
      "2\n",
      "1\n",
      "0\n"
     ]
    }
   ],
   "source": [
    "inputan = 4\n",
    "while inputan >= 0 :\n",
    "    print(inputan, end='\\n')\n",
    "    inputan -= 1"
   ]
  },
  {
   "cell_type": "code",
   "execution_count": 109,
   "metadata": {},
   "outputs": [
    {
     "name": "stdout",
     "output_type": "stream",
     "text": [
      "4\n",
      "3\n",
      "2\n",
      "1\n",
      "0\n"
     ]
    }
   ],
   "source": [
    "inputanq= 4\n",
    "while inputanq>=0:\n",
    "    print(inputanq)\n",
    "    if(inputanq==0):\n",
    "        break\n",
    "    inputanq-=1"
   ]
  },
  {
   "cell_type": "code",
   "execution_count": 108,
   "metadata": {},
   "outputs": [
    {
     "name": "stdout",
     "output_type": "stream",
     "text": [
      "4\n",
      "3\n",
      "2\n",
      "1\n",
      "0\n"
     ]
    }
   ],
   "source": [
    "#quiz\n",
    "i=4\n",
    "while(i>=0):\n",
    "    print(i)\n",
    "    i-=1"
   ]
  },
  {
   "cell_type": "code",
   "execution_count": 126,
   "metadata": {},
   "outputs": [
    {
     "name": "stdout",
     "output_type": "stream",
     "text": [
      "4\n",
      "3\n"
     ]
    }
   ],
   "source": [
    "inputanbaru = 4\n",
    "while inputanbaru>=3:\n",
    "    print(inputanbaru)\n",
    "    if(inputanbaru<3):\n",
    "        break\n",
    "    inputanbaru-=1"
   ]
  },
  {
   "cell_type": "code",
   "execution_count": 124,
   "metadata": {},
   "outputs": [
    {
     "name": "stdout",
     "output_type": "stream",
     "text": [
      "4\n",
      "3\n",
      "loop ended\n"
     ]
    }
   ],
   "source": [
    "#quiz\n",
    "inputs = 4\n",
    "while inputs>0:\n",
    "    print(inputs)\n",
    "    if(inputs==3):\n",
    "        break\n",
    "    inputs-=1\n",
    "print(\"loop ended\")"
   ]
  },
  {
   "cell_type": "code",
   "execution_count": 129,
   "metadata": {},
   "outputs": [
    {
     "name": "stdout",
     "output_type": "stream",
     "text": [
      "4\n",
      "3\n",
      "loop ended\n"
     ]
    }
   ],
   "source": [
    "#quiz jawaban kak benaya\n",
    "inputanB = 5\n",
    "while inputanB>0:\n",
    "    inputanB -=1\n",
    "    if(inputanB==2):\n",
    "        print(\"loop ended\")\n",
    "        break\n",
    "    print(inputanB)"
   ]
  },
  {
   "cell_type": "code",
   "execution_count": 132,
   "metadata": {},
   "outputs": [
    {
     "name": "stdout",
     "output_type": "stream",
     "text": [
      "5 * 1 = 5\n",
      "5 * 2 = 10\n",
      "5 * 3 = 15\n",
      "5 * 4 = 20\n",
      "5 * 5 = 25\n",
      "5 * 6 = 30\n",
      "5 * 7 = 35\n",
      "5 * 8 = 40\n",
      "5 * 9 = 45\n",
      "5 * 10 = 50\n"
     ]
    }
   ],
   "source": [
    "#quiz 2  ini yg pake break\n",
    "kali=5\n",
    "penambah=0\n",
    "while(penambah <=10):\n",
    "    penambah+=1\n",
    "    hasil_kali = kali*penambah\n",
    "    if(penambah==11):\n",
    "        break\n",
    "    print(kali,\"*\",penambah,\"=\",hasil_kali)"
   ]
  },
  {
   "cell_type": "code",
   "execution_count": 134,
   "metadata": {},
   "outputs": [
    {
     "name": "stdout",
     "output_type": "stream",
     "text": [
      "5*1*5\n",
      "5*2*10\n",
      "5*3*15\n",
      "5*4*20\n",
      "5*5*25\n",
      "5*6*30\n",
      "5*7*35\n",
      "5*8*40\n",
      "5*9*45\n",
      "5*10*50\n"
     ]
    }
   ],
   "source": [
    "#quiz 2 mas alam\n",
    "a=1\n",
    "while(a<=10):\n",
    "    print(\"5*{}={}\".format(a,5*a))\n",
    "    a+=1"
   ]
  },
  {
   "cell_type": "code",
   "execution_count": 135,
   "metadata": {},
   "outputs": [
    {
     "name": "stdout",
     "output_type": "stream",
     "text": [
      "5 * 1 = 5\n",
      "5 * 2 = 10\n",
      "5 * 3 = 15\n",
      "5 * 4 = 20\n",
      "5 * 5 = 25\n",
      "5 * 6 = 30\n",
      "5 * 7 = 35\n",
      "5 * 8 = 40\n",
      "5 * 9 = 45\n",
      "5 * 10 = 50\n"
     ]
    }
   ],
   "source": [
    "#quiz2 jawaban terakhir\n",
    "a=5\n",
    "for b in range (1,11):\n",
    "    c=a*b\n",
    "    print(a,\"*\",b,\"=\",c)"
   ]
  },
  {
   "cell_type": "code",
   "execution_count": 2,
   "metadata": {},
   "outputs": [
    {
     "name": "stdout",
     "output_type": "stream",
     "text": [
      "0.5\n",
      "1.0\n",
      "1.5\n",
      "2.0\n",
      "2.5\n",
      "3.0\n",
      "3.5\n",
      "4.0\n",
      "4.5\n"
     ]
    }
   ],
   "source": [
    "#urutan dr 1-10 yang ditampilin hasil dibagi 2\n",
    "b=2\n",
    "for i in range (1,10):\n",
    "    c=i/2\n",
    "    print(c)"
   ]
  },
  {
   "cell_type": "code",
   "execution_count": 5,
   "metadata": {},
   "outputs": [
    {
     "name": "stdout",
     "output_type": "stream",
     "text": [
      "fariz \n",
      "ariz \n",
      "riz \n",
      "iz \n",
      "z \n"
     ]
    }
   ],
   "source": [
    "#looping nama\n",
    "f = \"fariz\"\n",
    "while f:\n",
    "    print (f,'')\n",
    "    f=f[1:]"
   ]
  },
  {
   "cell_type": "code",
   "execution_count": 11,
   "metadata": {},
   "outputs": [
    {
     "name": "stdout",
     "output_type": "stream",
     "text": [
      "10\n",
      "8\n",
      "6\n",
      "4\n",
      "2\n",
      "0\n"
     ]
    }
   ],
   "source": [
    "inputansenin = int(input())\n",
    "while inputansenin:\n",
    "    inputansenin = inputansenin - 2\n",
    "    if(inputansenin %2 != 0):\n",
    "        continue\n",
    "    print(inputansenin)"
   ]
  },
  {
   "cell_type": "code",
   "execution_count": 13,
   "metadata": {},
   "outputs": [
    {
     "name": "stdout",
     "output_type": "stream",
     "text": [
      "3 bilangan ganjil neh\n",
      "5 bilangan ganjil neh\n",
      "7 bilangan ganjil neh\n",
      "9 bilangan ganjil neh\n"
     ]
    }
   ],
   "source": [
    "inputansenin2 = 1\n",
    "while(inputansenin2<10):\n",
    "    inputansenin2 +=1\n",
    "    if (inputansenin2%2 != 0):\n",
    "        print(inputansenin2,\"bilangan ganjil neh\")\n",
    "    else:\n",
    "        continue\n",
    "    "
   ]
  },
  {
   "cell_type": "code",
   "execution_count": null,
   "metadata": {},
   "outputs": [],
   "source": []
  },
  {
   "cell_type": "code",
   "execution_count": null,
   "metadata": {},
   "outputs": [],
   "source": [
    "# latihan pasca les purwadhika"
   ]
  },
  {
   "cell_type": "code",
   "execution_count": 3,
   "metadata": {},
   "outputs": [
    {
     "name": "stdout",
     "output_type": "stream",
     "text": [
      "2\n",
      "2 adalah bilangan genap\n"
     ]
    }
   ],
   "source": [
    "x=int(input())\n",
    "if x%2==0:\n",
    "    print(f\"{x} adalah bilangan genap\")\n",
    "else:\n",
    "    print(\"f{x} adalah bilangan ganjil\")"
   ]
  },
  {
   "cell_type": "code",
   "execution_count": 6,
   "metadata": {},
   "outputs": [
    {
     "name": "stdout",
     "output_type": "stream",
     "text": [
      "2\n",
      "2 adalah bilangan prima\n"
     ]
    }
   ],
   "source": [
    "x=int(input())\n",
    "if x==2:\n",
    "    print(f\"{x} adalah bilangan prima\")\n",
    "elif x==3:\n",
    "    print(\"f{x} adalah bilangan prima\")\n",
    "elif x%3==0 or x%2==0:\n",
    "    print(\"f{x} adalah bukan bilangan prima\")"
   ]
  },
  {
   "cell_type": "code",
   "execution_count": 9,
   "metadata": {},
   "outputs": [
    {
     "name": "stdout",
     "output_type": "stream",
     "text": [
      "10,12\n",
      "12,14\n"
     ]
    }
   ],
   "source": [
    "angka = 10\n",
    "while(angka <= 13):\n",
    "    print(angka,angka+2,sep=',')\n",
    "    angka +=2"
   ]
  },
  {
   "cell_type": "code",
   "execution_count": 12,
   "metadata": {},
   "outputs": [
    {
     "name": "stdout",
     "output_type": "stream",
     "text": [
      "2*1=2\n",
      "2*2=4\n",
      "2*3=6\n",
      "2*4=8\n",
      "2*5=10\n",
      "2*6=12\n",
      "2*7=14\n",
      "2*8=16\n",
      "2*9=18\n",
      "2*10=20\n"
     ]
    }
   ],
   "source": [
    "angka=2\n",
    "\n",
    "for x in range(1,11):\n",
    "    print(f\"{angka}*{x}={angka*x}\")"
   ]
  },
  {
   "cell_type": "code",
   "execution_count": 13,
   "metadata": {},
   "outputs": [
    {
     "name": "stdout",
     "output_type": "stream",
     "text": [
      "1/2=0.5\n",
      "2/2=1.0\n",
      "3/2=1.5\n",
      "4/2=2.0\n",
      "5/2=2.5\n",
      "6/2=3.0\n",
      "7/2=3.5\n",
      "8/2=4.0\n",
      "9/2=4.5\n"
     ]
    }
   ],
   "source": [
    "angka=2\n",
    "for x in range(1,10):\n",
    "    print(f\"{x}/{angka}={x/angka}\")"
   ]
  },
  {
   "cell_type": "code",
   "execution_count": 16,
   "metadata": {},
   "outputs": [
    {
     "name": "stdout",
     "output_type": "stream",
     "text": [
      "fariz \n",
      "ariz \n",
      "riz \n",
      "iz \n",
      "z \n"
     ]
    }
   ],
   "source": [
    "nama=\"fariz\"\n",
    "while nama:\n",
    "    print(nama,'')\n",
    "    nama=nama[1:]"
   ]
  },
  {
   "cell_type": "code",
   "execution_count": 23,
   "metadata": {},
   "outputs": [
    {
     "name": "stdout",
     "output_type": "stream",
     "text": [
      "5\n",
      "6ini bilangan ganjil\n",
      "9ini bilangan ganjil\n"
     ]
    }
   ],
   "source": [
    "x=int(input())\n",
    "for x in range(x,10):\n",
    "    if x%3==0:\n",
    "        print(f\"{x}ini bilangan ganjil\")"
   ]
  },
  {
   "cell_type": "code",
   "execution_count": 30,
   "metadata": {},
   "outputs": [
    {
     "name": "stdout",
     "output_type": "stream",
     "text": [
      "Turn ###### into ######\n"
     ]
    }
   ],
   "source": [
    "str = 'Turn ****** into ######'\n",
    "char = \"#\"\n",
    "newS = str.replace('*', char)\n",
    "print(newS)"
   ]
  },
  {
   "cell_type": "code",
   "execution_count": 35,
   "metadata": {},
   "outputs": [
    {
     "name": "stdout",
     "output_type": "stream",
     "text": [
      "spasi\n",
      "ppapi\n"
     ]
    }
   ],
   "source": [
    "x=input()\n",
    "char='p'\n",
    "s=x.replace('s',char)\n",
    "print(s)"
   ]
  },
  {
   "cell_type": "code",
   "execution_count": 36,
   "metadata": {},
   "outputs": [],
   "source": [
    "data = [['a', 'b'], ['e', 'f' ]]"
   ]
  },
  {
   "cell_type": "code",
   "execution_count": null,
   "metadata": {},
   "outputs": [],
   "source": []
  }
 ],
 "metadata": {
  "kernelspec": {
   "display_name": "Python 3",
   "language": "python",
   "name": "python3"
  },
  "language_info": {
   "codemirror_mode": {
    "name": "ipython",
    "version": 3
   },
   "file_extension": ".py",
   "mimetype": "text/x-python",
   "name": "python",
   "nbconvert_exporter": "python",
   "pygments_lexer": "ipython3",
   "version": "3.6.8"
  }
 },
 "nbformat": 4,
 "nbformat_minor": 2
}
