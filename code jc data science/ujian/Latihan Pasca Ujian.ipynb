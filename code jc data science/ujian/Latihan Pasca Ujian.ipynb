{
 "cells": [
  {
   "cell_type": "code",
   "execution_count": 1,
   "metadata": {},
   "outputs": [
    {
     "name": "stdout",
     "output_type": "stream",
     "text": [
      "Ketik kata: abc\n",
      "1 / 2 / 3 / \n"
     ]
    }
   ],
   "source": [
    "#konversi huruf ke angka\n",
    "data = {\n",
    "    'A':'1', 'B':'2', 'C':'3', 'D':'4', 'E':'5', 'F':'6', 'G':'7',\n",
    "    'H':'8', 'I':'9', 'J':'10', 'K':'11', 'L':'12', 'M':'13', 'N':'14',\n",
    "    'O':'15', 'P':'16', 'Q':'17', 'R':'18', 'S':'19', 'T':'20', 'U':'21', 'V':'22',\n",
    "    'W':'23', 'X':'24', 'Y':'25', 'Z':'26', ' ':'_'\n",
    "}\n",
    "cari = (input('Ketik kata: '))\n",
    "\n",
    "if cari.upper()==cari.lower():\n",
    "    kalimat = cari.split('/')\n",
    "    hasil = ''\n",
    "    for i in kalimat:\n",
    "        hasil += list(data.keys())[list(data.values()).index(i)]\n",
    "    print(hasil)\n",
    "else:\n",
    "    kalimat = cari.upper().replace(' ', '')\n",
    "    hasil = ''\n",
    "    for i in kalimat:\n",
    "        hasil += data[i] + ' / '\n",
    "    print(hasil)"
   ]
  },
  {
   "cell_type": "code",
   "execution_count": 8,
   "metadata": {},
   "outputs": [
    {
     "name": "stdout",
     "output_type": "stream",
     "text": [
      "ketik karyawan atau golongan darah: A\n",
      "Informasi tentang A adalah ['ANDI', 'ARYO']\n"
     ]
    }
   ],
   "source": [
    "#mencari karyawan dengan golongan tertentu\n",
    "nama = {\n",
    "    'ANDI': 'A', 'BUDI' : 'B', 'CACA' : 'AB', 'DEDI' : 'O',\n",
    "    'ARYO': 'A', 'BARA' : 'B', 'CHIKA': 'AB', 'DERRY': 'O',\n",
    "}\n",
    "cari =(input(\"ketik karyawan atau golongan darah: \")).upper()\n",
    "info=[]\n",
    "for i,j in nama.items():\n",
    "    if cari==j:\n",
    "        info.append(i)\n",
    "    elif cari==i:\n",
    "        info.append(j)\n",
    "print(f'Informasi tentang {cari} adalah {info}')"
   ]
  },
  {
   "cell_type": "code",
   "execution_count": 11,
   "metadata": {},
   "outputs": [
    {
     "name": "stdout",
     "output_type": "stream",
     "text": [
      "['ANDI', 'BUDI', 'ARYO', 'BARA']\n",
      "['CACA', 'DEDI', 'CHIKA', 'DERRY']\n"
     ]
    }
   ],
   "source": [
    "# MEMBUAT KELOMPOK BELAJAR BERDASARKAN GOLONGAN DARA\n",
    "#     ATURAN: Golongan darah A dengan B, GOlongan darah AB dengan O\n",
    "kelompok1=[]\n",
    "kelompok2=[]\n",
    "for i,j in nama.items():\n",
    "    if j.upper()=='A' or j.upper()=='B':\n",
    "        kelompok1.append(i)\n",
    "    else:\n",
    "        kelompok2.append(i)\n",
    "print(kelompok1)\n",
    "print(kelompok2)"
   ]
  },
  {
   "cell_type": "code",
   "execution_count": 17,
   "metadata": {},
   "outputs": [
    {
     "name": "stdout",
     "output_type": "stream",
     "text": [
      "3986\n"
     ]
    }
   ],
   "source": [
    "#converter dari romawi ke angka biasa (memakai class)\n",
    "class converter:\n",
    "    def dariRomawi(self,s):\n",
    "        valRom={'I': 1, 'V': 5, 'X': 10, 'L': 50, 'C': 100, 'D': 500, 'M': 1000}\n",
    "        intVal=0\n",
    "        for i in range(len(s)):\n",
    "                if i>0 and valRom[s[i]]>valRom[s[i-1]]:\n",
    "                    intVal+=valRom[s[i]] - 2 * valRom[s[i - 1]]\n",
    "                else:\n",
    "                    intVal += valRom[s[i]]\n",
    "        return intVal\n",
    "print(converter().dariRomawi('MMMCMLXXXVI'))"
   ]
  },
  {
   "cell_type": "code",
   "execution_count": 25,
   "metadata": {},
   "outputs": [
    {
     "name": "stdout",
     "output_type": "stream",
     "text": [
      "C\n",
      "Co\n",
      "Cod\n",
      "Code\n"
     ]
    }
   ],
   "source": [
    "def urai(string):\n",
    "    length=len(string)#agar bisa diakses oleh for, diubah ke bentuk integer\n",
    "    for row in range(0, length):#menentukan berapa panjang yang akan di print berapa baris kebawah\n",
    "        for col in range(0, row+1):#mengeprint dari pertama kalias dari 0\n",
    "            print(string[col], end='')#mengeprint string yang ada di sesuai colom berapa, jika kolom 0 maka C saja\n",
    "        print(\"\")\n",
    "urai(\"Code\")"
   ]
  },
  {
   "cell_type": "code",
   "execution_count": 26,
   "metadata": {},
   "outputs": [
    {
     "name": "stdout",
     "output_type": "stream",
     "text": [
      "\n",
      "ccocodcode\n"
     ]
    }
   ],
   "source": [
    "def urai(kata): \n",
    "    panjang =len(kata) #menghitung jumlah karakter\n",
    "    hasil=\"\" #membuat variable kosong\n",
    "    for index in range(panjang+1): #menambahkan jumlah karakter setiap looping\n",
    "        hasil+=kata[0:index] #hasil ditambah kata awal dan karakter yang ditambah setiap looping\n",
    "    print(\"\")\n",
    "    return hasil\n",
    "print(urai('code'))"
   ]
  },
  {
   "cell_type": "code",
   "execution_count": 55,
   "metadata": {},
   "outputs": [
    {
     "name": "stdout",
     "output_type": "stream",
     "text": [
      "1 \n",
      "2 3 \n",
      "4 5 6 \n",
      "7 8 9 10 \n",
      "11 12 13 14 15 \n"
     ]
    }
   ],
   "source": [
    "k = 1\n",
    "for i in range(0, 5):\n",
    "    for j in range(0, i+1):\n",
    "        print(k, end=\" \")\n",
    "        k = k + 1\n",
    "    print()"
   ]
  },
  {
   "cell_type": "code",
   "execution_count": 53,
   "metadata": {},
   "outputs": [
    {
     "name": "stdout",
     "output_type": "stream",
     "text": [
      "P \n",
      "P u \n",
      "P u r \n",
      "P u r w \n",
      "P u r w a \n",
      "P u r w a d \n",
      "P u r w a d h \n",
      "P u r w a d h i \n",
      "P u r w a d h i k \n",
      "P u r w a d h i k a \n"
     ]
    }
   ],
   "source": [
    "k = \"Purwadhika\"\n",
    "panjang=len(k)\n",
    "hasil=''\n",
    "for i in range(0, panjang):\n",
    "    for j in range(0, i+1):\n",
    "        print(k[j], end=\" \")\n",
    "        k = k + 1\n",
    "    print()"
   ]
  },
  {
   "cell_type": "code",
   "execution_count": 49,
   "metadata": {},
   "outputs": [
    {
     "name": "stdout",
     "output_type": "stream",
     "text": [
      "ccocodcode\n"
     ]
    }
   ],
   "source": [
    "def urai(kata): \n",
    "    panjang =len(kata) #menghitung jumlah karakter\n",
    "    hasil=\"\" #membuat variable kosong\n",
    "    for index in range(panjang+1): #menambahkan jumlah karakter setiap looping\n",
    "        hasil+=kata[0:index] #hasil ditambah kata awal dan karakter yang ditambah setiap looping\n",
    "    return hasil\n",
    "print(urai('code'))"
   ]
  },
  {
   "cell_type": "code",
   "execution_count": 59,
   "metadata": {},
   "outputs": [
    {
     "name": "stdout",
     "output_type": "stream",
     "text": [
      "A\n",
      "BC\n",
      "CDE\n",
      "DEFG\n",
      "EFGHI\n"
     ]
    }
   ],
   "source": [
    "for i in range(65,70):\n",
    "    k=i\n",
    "    # Inner loop\n",
    "    for j in range(65,i+1):\n",
    "        print(chr(k),end=\"\")\n",
    "        k=k+1\n",
    "    print()"
   ]
  },
  {
   "cell_type": "code",
   "execution_count": 63,
   "metadata": {},
   "outputs": [
    {
     "name": "stdout",
     "output_type": "stream",
     "text": [
      "ppupurpurwpurwapurwadpurwadhpurwadhipurwadhikpurwadhika"
     ]
    }
   ],
   "source": [
    "katas=\"purwadhika\"\n",
    "pangjang=len(katas)\n",
    "for i in range(pangjang):\n",
    "    k=i\n",
    "    for j in range(i+1):\n",
    "        print(kata[j],end='')\n",
    "        k=+1"
   ]
  },
  {
   "cell_type": "code",
   "execution_count": 111,
   "metadata": {},
   "outputs": [
    {
     "name": "stdout",
     "output_type": "stream",
     "text": [
      "a\n",
      "aa\n",
      "aaa\n",
      "a\n"
     ]
    }
   ],
   "source": [
    "def segitiga(kata):\n",
    "    if len(kata)%2==0 or len(kata)==1 or len(kata)==5:\n",
    "        print ('jumlah huruf tidak sesuai')\n",
    "    else:\n",
    "        for row in range(4):\n",
    "            for columns in range(4):\n",
    "                if(row == 0 and columns==0):\n",
    "                    print(kata[0])\n",
    "                elif (row==1 and columns==0):\n",
    "                    print(kata[1:3])\n",
    "                elif row == 2 and columns == 0:\n",
    "                    print(kata[3:6])\n",
    "                elif row == 3 and columns == 0:\n",
    "                    print(kata[6:10])\n",
    "segitiga('aaaaaaa')"
   ]
  },
  {
   "cell_type": "code",
   "execution_count": 92,
   "metadata": {},
   "outputs": [
    {
     "name": "stdout",
     "output_type": "stream",
     "text": [
      "ppupurpurwpurwapurwadpurwadhpurwadhipurwadhikpurwadhika"
     ]
    }
   ],
   "source": [
    "katas=\"purwadhika\"\n",
    "pangjang=len(katas)\n",
    "for i in range(pangjang):\n",
    "    k=i\n",
    "    for j in range(i+1):\n",
    "        print(kata[j],end='')\n",
    "        k=+1"
   ]
  },
  {
   "cell_type": "code",
   "execution_count": 88,
   "metadata": {},
   "outputs": [
    {
     "name": "stdout",
     "output_type": "stream",
     "text": [
      "p \n",
      "p u \n",
      "p u r \n",
      "p u r w \n",
      "p u r w a \n",
      "p u r w a d \n",
      "p u r w a d h \n",
      "p u r w a d h i \n",
      "p u r w a d h i k \n",
      "p u r w a d h i k a \n"
     ]
    }
   ],
   "source": [
    "katos=\"purwadhika\"\n",
    "num=len(katos)\n",
    "for row in range(0+(num)):\n",
    "    for col in range(0+row+1):\n",
    "        print(katos[col],end=' ')\n",
    "        num=num+1\n",
    "    print()"
   ]
  },
  {
   "cell_type": "code",
   "execution_count": null,
   "metadata": {},
   "outputs": [],
   "source": []
  }
 ],
 "metadata": {
  "kernelspec": {
   "display_name": "Python 3",
   "language": "python",
   "name": "python3"
  },
  "language_info": {
   "codemirror_mode": {
    "name": "ipython",
    "version": 3
   },
   "file_extension": ".py",
   "mimetype": "text/x-python",
   "name": "python",
   "nbconvert_exporter": "python",
   "pygments_lexer": "ipython3",
   "version": "3.6.8"
  }
 },
 "nbformat": 4,
 "nbformat_minor": 2
}
