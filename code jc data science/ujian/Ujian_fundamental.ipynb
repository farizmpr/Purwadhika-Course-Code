{
 "cells": [
  {
   "cell_type": "code",
   "execution_count": null,
   "metadata": {},
   "outputs": [],
   "source": [
    "#nomor satu harus integer\n",
    "#nomor dua memutar list 3x3 berlawanan arah jarum jam\n",
    "#buat file python untuk mengurai dan merajut string"
   ]
  },
  {
   "cell_type": "code",
   "execution_count": 233,
   "metadata": {},
   "outputs": [
    {
     "name": "stdout",
     "output_type": "stream",
     "text": [
      "Masukkan detik 45.0\n",
      "Invalid Input!\n"
     ]
    }
   ],
   "source": [
    "#Soal 1 - Konversi Waktu (30 Poin)\n",
    "def timeConverter(detik):\n",
    "    try:\n",
    "        detik=int(input(\"Masukkan detik \"))#mengecek inputan\n",
    "        detik = detik % (24 * 3600) #untuk menghitung jika sudah lebih dari 24 jam\n",
    "        jam = detik / 3600#menghitung jumlah jam nya, /3600 per hari karena 3600 detik\n",
    "        detik %= 3600#untuk menghitung jumlah detiknya\n",
    "        menit = detik / 60#menghitung menit dalam setiap jam nya\n",
    "        detik %= 60#menghitung detik yang tersisa jika sudah lewat dari 60 detik\n",
    "        print (\"%02d:%02d:%02d\" % (jam, menit, detik))#ini output agar dua desimal\n",
    "    except:#kalo salah masuknya kesini\n",
    "        print(\"Invalid Input!\")\n",
    "timeConverter(n)"
   ]
  },
  {
   "cell_type": "code",
   "execution_count": 173,
   "metadata": {},
   "outputs": [
    {
     "name": "stdout",
     "output_type": "stream",
     "text": [
      "[[3, 6, 9], [2, 5, 8], [1, 4, 7]]\n"
     ]
    }
   ],
   "source": [
    "#Soal 2 - List Spinner (30 Poin)\n",
    "#fungsi buat rotasi matrix 90 derajat ccw\n",
    "#list comperhension\n",
    "#fungsi buat rotasi matrix 90 derajat ccw\n",
    "def rotate_matrix( m ):\n",
    "    return [[m[j][i] for j in range(len(m))] for i in range(len(m[0])-1,-1,-1)]\n",
    "#m adalah yang menyatakan matriks. j dan i adalah yang menyatakan baris dan kolom\n",
    "#for j in range(len(m)) adalah yang menyatakan inner loop yang sesuai dengan inputan(banyaknya data)\n",
    "#for i in range(len(m[0])-1,-1,-1)adalah outerlooping berdasarkan data yang dimulai dari i = banyaknya elemen pada m[0] dikurang 1\n",
    "#outer loop decrement, inner loop increments\n",
    "#iter 1 i=2 j=0\n",
    "# return [0][j] = m[0][2]=3\n",
    "#iter 2 i=2 j=1\n",
    "#return [0][1]=m[1][2]=6\n",
    "# j nya sampai di loop baru i nya jadi i=1\n",
    "matrix = [[1,2,3], \n",
    "          [4,5,6], \n",
    "          [7,8,9]]\n",
    "matrix = rotate_matrix(matrix) #rotate 90 deg clockwise\n",
    "print(matrix)"
   ]
  },
  {
   "cell_type": "code",
   "execution_count": 185,
   "metadata": {},
   "outputs": [
    {
     "name": "stdout",
     "output_type": "stream",
     "text": [
      "CCoCodCode"
     ]
    }
   ],
   "source": [
    "#soal 3 mengurai dan merajut kata (40 poin)\n",
    "#untuk yang urai polanya mirip setengah dari segitiga\n",
    "def urai(string):\n",
    "    length=len(string)#agar bisa diakses oleh for, diubah ke bentuk integer\n",
    "    for row in range(0, length):#menentukan berapa panjang yang akan di print berapa baris kebawah\n",
    "        for col in range(0, row+1):#mengeprint dari pertama kalias dari 0\n",
    "            print(string[col], end='')#mengeprint string yang ada di sesuai colom berapa, jika kolom 0 maka C saja\n",
    "\n",
    "urai(\"Code\")"
   ]
  },
  {
   "cell_type": "code",
   "execution_count": 19,
   "metadata": {},
   "outputs": [
    {
     "data": {
      "text/plain": [
       "'Cabai'"
      ]
     },
     "execution_count": 19,
     "metadata": {},
     "output_type": "execute_result"
    }
   ],
   "source": [
    "#soal 3\n",
    "def rajut(text):    #define the function \"rajut\"\n",
    "    key = text[0]   #the first letter of the string and also the result; parameter to split the text\n",
    "    new = text.split(key)   #split the text based on the first letter of the string\n",
    "    result = key + new[-1]  #store the first letter + the following letter, making a complete word\n",
    "    return result\n",
    "rajut(\"CCaCabCabaCabai\")"
   ]
  },
  {
   "cell_type": "code",
   "execution_count": null,
   "metadata": {},
   "outputs": [],
   "source": []
  }
 ],
 "metadata": {
  "kernelspec": {
   "display_name": "Python 3",
   "language": "python",
   "name": "python3"
  },
  "language_info": {
   "codemirror_mode": {
    "name": "ipython",
    "version": 3
   },
   "file_extension": ".py",
   "mimetype": "text/x-python",
   "name": "python",
   "nbconvert_exporter": "python",
   "pygments_lexer": "ipython3",
   "version": "3.6.8"
  }
 },
 "nbformat": 4,
 "nbformat_minor": 2
}
