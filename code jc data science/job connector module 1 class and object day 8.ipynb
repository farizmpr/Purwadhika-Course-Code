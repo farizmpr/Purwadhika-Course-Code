{
 "cells": [
  {
   "cell_type": "code",
   "execution_count": 2,
   "metadata": {},
   "outputs": [
    {
     "name": "stdout",
     "output_type": "stream",
     "text": [
      "<__main__.Classkeren object at 0x10d0cef98>\n",
      "5\n"
     ]
    }
   ],
   "source": [
    "class Classkeren:\n",
    "    halo =5\n",
    "    \n",
    "obj1=Classkeren()\n",
    "print(obj1)\n",
    "print(obj1.halo)"
   ]
  },
  {
   "cell_type": "code",
   "execution_count": 36,
   "metadata": {},
   "outputs": [
    {
     "name": "stdout",
     "output_type": "stream",
     "text": [
      "9\n",
      "1 2 3 4 5 6 7 8 9\n",
      "10\n",
      "pop\n",
      "remove 9\n",
      "discard 9\n",
      "discard 8\n",
      "remove 7\n",
      "pop\n",
      "discard 6\n",
      "remove 5\n",
      "pop\n",
      "discard 5\n",
      "{4}\n"
     ]
    }
   ],
   "source": [
    "n=int(input())\n",
    "s=set(map(int,input().split()))\n",
    "N=int(input())\n",
    "for i in range(N):\n",
    "    command=input().split()\n",
    "    if command[0]==\"remove\":\n",
    "        s.remove(int(command[1]))\n",
    "    elif command[0]==\"discard\":\n",
    "        s.discard(int(command[1]))\n",
    "    else:\n",
    "        s.pop()\n",
    "print(s)"
   ]
  },
  {
   "cell_type": "code",
   "execution_count": 40,
   "metadata": {},
   "outputs": [
    {
     "name": "stdout",
     "output_type": "stream",
     "text": [
      "9\n",
      "1 2 3 4 5 6 7 8 9\n",
      "10\n",
      "pop\n",
      "{2, 3, 4, 5, 6, 7, 8, 9}\n",
      "remove 9\n",
      "{2, 3, 4, 5, 6, 7, 8}\n",
      "discard 9\n",
      "{2, 3, 4, 5, 6, 7, 8}\n",
      "discard 8\n",
      "{2, 3, 4, 5, 6, 7}\n",
      "remove 7\n",
      "{2, 3, 4, 5, 6}\n",
      "pop\n",
      "{3, 4, 5, 6}\n",
      "remove 5\n",
      "{3, 4, 6}\n",
      "pop\n",
      "{4, 6}\n",
      "discard 5\n",
      "{4, 6}\n",
      "discard 6\n",
      "{4}\n",
      "{4}\n",
      "4\n"
     ]
    }
   ],
   "source": [
    "n=int(input())\n",
    "s=set(map(int,input().split()))\n",
    "N=int(input())\n",
    "for i in range(N):\n",
    "    command=input().split()\n",
    "    if command[0]=='remove':\n",
    "        s.remove(int(command[1]))\n",
    "        print(s)\n",
    "    elif command[0]=='discard':\n",
    "        s.discard(int(command[1]))\n",
    "        print(s)\n",
    "    else:\n",
    "        s.pop()\n",
    "        print(s)\n",
    "print(s)\n",
    "print(sum(s))"
   ]
  },
  {
   "cell_type": "code",
   "execution_count": 8,
   "metadata": {},
   "outputs": [
    {
     "name": "stdout",
     "output_type": "stream",
     "text": [
      "<__main__.Manusia object at 0x10d141eb8>\n",
      "Baron\n",
      "24\n"
     ]
    }
   ],
   "source": [
    "class Manusia:#ini adalah kelas manusia yang mempunyai dua metod yaitu name and age\n",
    "    def __init__(self,name,age):#(wajib ada init)function init punya dua argumen yaitu name and age\n",
    "        self.nama=name#name disebelah tanda=, harus sama dengan name di parameter yang ada di function\n",
    "        self.umur=age#age disebelah tanda=, harus sama dengan age di parameter yang ada di function\n",
    "        \n",
    "manusia1=Manusia('Baron',24)#insert nilai\n",
    "\n",
    "print(manusia1)\n",
    "print(manusia1.nama)#method ini digunakan untuk menampilkan parameter name di function init\n",
    "print(manusia1.umur)# method ini digunakan untuk menampilkan parameter age di function init"
   ]
  },
  {
   "cell_type": "code",
   "execution_count": 11,
   "metadata": {},
   "outputs": [
    {
     "name": "stdout",
     "output_type": "stream",
     "text": [
      "hello my name is Baron, nama kamu siapa\n"
     ]
    }
   ],
   "source": [
    "class Manusia:\n",
    "    def __init__(self,name,age):\n",
    "        self.nama=name\n",
    "        self.umur=age\n",
    "        \n",
    "    def salamkenal(self,kalimatlanjut):\n",
    "        print(\"hello my name is \"+ self.nama+kalimatlanjut)\n",
    "manusia1=Manusia(\"Baron\",24)\n",
    "manusia1.salamkenal(\", nama kamu siapa\")"
   ]
  },
  {
   "cell_type": "code",
   "execution_count": 14,
   "metadata": {},
   "outputs": [
    {
     "name": "stdout",
     "output_type": "stream",
     "text": [
      "alfa\n",
      "25\n"
     ]
    }
   ],
   "source": [
    "class Human:\n",
    "    name='alfa'\n",
    "    age=25\n",
    "    def __init__(self):\n",
    "        self.name\n",
    "        self.age\n",
    "manusia=Human()\n",
    "print(manusia.name)\n",
    "print(manusia.age)"
   ]
  },
  {
   "cell_type": "code",
   "execution_count": 48,
   "metadata": {},
   "outputs": [
    {
     "name": "stdout",
     "output_type": "stream",
     "text": [
      "ini adalah  Toyota  keluaran tahun  1998  dengan tipe  SUV nah ini bisa\n"
     ]
    }
   ],
   "source": [
    "class mobil:\n",
    "    def __init__(mobil, merek, tahun,tipe):\n",
    "        mobil.merk=merek\n",
    "        mobil.thn=tahun\n",
    "        mobil.type=tipe\n",
    "        \n",
    "    def kata_kata(mobil, kalimat):\n",
    "        print(\"ini adalah \",mobil.merk,\" keluaran tahun \",mobil.thn,\" dengan tipe \",mobil.type ,kalimat)\n",
    "#ngeprint gabungan integer dan bukan\n",
    "mobil1=mobil(\"Toyota\",1998,\"SUV\")\n",
    "mobil1.kata_kata(\"nah ini bisa\")"
   ]
  },
  {
   "cell_type": "markdown",
   "metadata": {},
   "source": [
    "# inheritance"
   ]
  },
  {
   "cell_type": "code",
   "execution_count": 27,
   "metadata": {},
   "outputs": [
    {
     "name": "stdout",
     "output_type": "stream",
     "text": [
      "poko  100\n",
      "shelly  200\n"
     ]
    }
   ],
   "source": [
    "class  Hero:\n",
    "    def __init__(self,name,health):\n",
    "        self.name=name\n",
    "        self.health=health\n",
    "class hero_intelligent(Hero):\n",
    "    def __init__(self,name):\n",
    "        self.name=name\n",
    "        self.health=100\n",
    "        \n",
    "class hero_strength(Hero):\n",
    "    def __init__(self,name):\n",
    "        self.name=name\n",
    "        self.health=200\n",
    "        \n",
    "poko=hero_intelligent(\"poko\")\n",
    "shelly=hero_strength(\"shelly\")\n",
    "\n",
    "print(poko.name,'',poko.health)\n",
    "print(shelly.name,'',shelly.health)"
   ]
  },
  {
   "cell_type": "code",
   "execution_count": 31,
   "metadata": {},
   "outputs": [
    {
     "name": "stdout",
     "output_type": "stream",
     "text": [
      "mantap  100\n",
      "timo  200\n"
     ]
    }
   ],
   "source": [
    "class  Hero:\n",
    "    def __init__(self,name,health):\n",
    "        self.name=name\n",
    "        self.health=health\n",
    "class hero_intelligent(Hero):\n",
    "    def __init__(self,name):\n",
    "        Hero.__init__(self,name,100)#kaslo pake init harus pake parent\"Hero\"\n",
    "class hero_strength(Hero):\n",
    "    def __init__(self,name):\n",
    "            Hero.__init__(self,name,200)\n",
    "            \n",
    "mantap=hero_intelligent(\"mantap\")\n",
    "timo=hero_strength(\"timo\")\n",
    "\n",
    "print(mantap.name,'',mantap.health)\n",
    "print(timo.name,'',timo.health)"
   ]
  },
  {
   "cell_type": "code",
   "execution_count": 91,
   "metadata": {},
   "outputs": [
    {
     "name": "stdout",
     "output_type": "stream",
     "text": [
      "halo nama saya  24 , nama kamu siapa\n",
      "{'nama': 'andi', 'umur': 24}\n",
      "guru\n",
      "{'nama': 'andi', 'umur': 24, 'pekerjaan': 'guru'}\n",
      "jubaedah\n",
      "{'nama': 'andi', 'umur': 24, 'pekerjaan': 'guru', 'istri': 'jubaedah'}\n"
     ]
    }
   ],
   "source": [
    "class Manusia:\n",
    "    def __init__(kucing,name,age):\n",
    "        kucing.nama=name\n",
    "        kucing.umur=age\n",
    "    def salamkenal(jerapah,kalimatlanjut):\n",
    "        print(\"halo nama saya \", jerapah.umur,kalimatlanjut)\n",
    "\n",
    "manusia1=Manusia(\"baron\",24)\n",
    "manusia1.salamkenal(\", nama kamu siapa\")\n",
    "\n",
    "manusia1.nama='andi'\n",
    "print(manusia1.__dict__)\n",
    "manusia1.pekerjaan=\"guru\"#nambahin keys dan isinya\n",
    "print(manusia1.pekerjaan)\n",
    "print(manusia1.__dict__)\n",
    "manusia1.istri=\"jubaedah\"\n",
    "print(manusia1.istri)\n",
    "print(manusia1.__dict__)"
   ]
  },
  {
   "cell_type": "markdown",
   "metadata": {},
   "source": [
    "# properties"
   ]
  },
  {
   "cell_type": "code",
   "execution_count": 50,
   "metadata": {},
   "outputs": [
    {
     "name": "stdout",
     "output_type": "stream",
     "text": [
      "mantap  100  250\n",
      "timo  200\n",
      "mantap healthnya :  100 defend adalah : 250\n",
      "timo healthnya :  200 defend adalah : 285\n",
      "{'name': 'mantap', 'health': 100, 'pertahanan': 250}\n"
     ]
    }
   ],
   "source": [
    "class  Hero:\n",
    "    def __init__(self,name,health):\n",
    "        self.name=name\n",
    "        self.health=health\n",
    "class hero_intelligent(Hero):\n",
    "    def __init__(self,name,defend):#yang ada di anak tapi di induk kelas gak ada\"defend\"\n",
    "        Hero.__init__(self,name,100)#kaslo pake init harus pake parent\"Hero\"\n",
    "        self.pertahanan=defend\n",
    "class hero_strength(Hero):\n",
    "    def __init__(self,name,move_speed):\n",
    "            Hero.__init__(self,name,200)\n",
    "            self.move=move_speed\n",
    "            \n",
    "mantap=hero_intelligent(\"mantap\",250)#250 ini defend nya\n",
    "#gabisa nambah defend di parent\n",
    "#defend hanya di intelligent\n",
    "#bull=Hero(\"bull\",90,150)\n",
    "timo=hero_strength(\"timo\",285)\n",
    "#bull=Hero(\"bull\",90,150)\n",
    "\n",
    "print(mantap.name,'',mantap.health,'',mantap.pertahanan)\n",
    "print(timo.name,'',timo.health)\n",
    "#print(bull.name,'',bull.health,'',bull.pertahanan)#gabisa nambahin defend di parent class\n",
    "print(mantap.name,'healthnya : ',mantap.health,'defend adalah :', mantap.pertahanan)\n",
    "print(timo.name,'healthnya : ',timo.health,'defend adalah :', timo.move)\n",
    "\n",
    "print(mantap.__dict__)#method dict ini digunakan untuk menampilkan dictionary dari seluruh parameter"
   ]
  },
  {
   "cell_type": "markdown",
   "metadata": {},
   "source": [
    "# soal quiz class"
   ]
  },
  {
   "cell_type": "code",
   "execution_count": 52,
   "metadata": {},
   "outputs": [
    {
     "name": "stdout",
     "output_type": "stream",
     "text": [
      "luas nya adalah 78.53981633974483\n",
      "keliling nya adalah 31.41592653589793\n"
     ]
    }
   ],
   "source": [
    "#inputan radius ditanya keliling dan luas\n",
    "import math\n",
    "class circle:\n",
    "    def __init__(lingkaran,radius):\n",
    "        lingkaran.radius = radius \n",
    "        \n",
    "    def GetLuas(lingkaran):\n",
    "        lingkaran.luas=(pow(lingkaran.radius,2))*math.pi\n",
    "        return (print(f\"luas nya adalah {lingkaran.luas}\"))\n",
    "        \n",
    "    def keliling(lingkaran):\n",
    "        lingkaran.kelil=((lingkaran.radius+lingkaran.radius)*math.pi)\n",
    "        return(print(f\"keliling nya adalah {lingkaran.kelil}\"))\n",
    "\n",
    "circle(5).GetLuas()\n",
    "circle(5).keliling()"
   ]
  },
  {
   "cell_type": "code",
   "execution_count": 63,
   "metadata": {},
   "outputs": [
    {
     "name": "stdout",
     "output_type": "stream",
     "text": [
      "suhu celcius nya 37.77777777777778\n",
      "suhu fahrenheitnya 212.0\n"
     ]
    }
   ],
   "source": [
    "#inputan f convertan c, dan sebaliknya\n",
    "import math\n",
    "\n",
    "class suhu:\n",
    "    def __init__(suhu_r,suhus):\n",
    "        suhu_r.suhus=suhus\n",
    "    \n",
    "    def jadi_cels(suhu_r):\n",
    "        suhu.cels=((suhu_r.suhus-32)*5/9)\n",
    "        return (print(f\"suhu celcius nya {suhu.cels}\"))\n",
    "    def jadi_fah(suhu_r):\n",
    "        suhu.fah=(((9/5)*suhu_r.suhus)+32)\n",
    "        return (print(f\"suhu fahrenheitnya {suhu.fah}\"))\n",
    "\n",
    "suhu(100).jadi_cels()\n",
    "suhu(100).jadi_fah()"
   ]
  },
  {
   "cell_type": "code",
   "execution_count": 66,
   "metadata": {},
   "outputs": [
    {
     "data": {
      "text/plain": [
       "{'nama': 'fariz', 'posisi': 'menteri', 'age': 36, 'adress': 'Pondok Indah'}"
      ]
     },
     "execution_count": 66,
     "metadata": {},
     "output_type": "execute_result"
    }
   ],
   "source": [
    "#display worker\n",
    "class worker:\n",
    "    def __init__(pekerja,nama,posisi):\n",
    "        pekerja.nama=nama\n",
    "        pekerja.posisi=posisi\n",
    "\n",
    "    def setAge(pekerja,age):\n",
    "        pekerja.age=age\n",
    "    def setAddress(pekerja,adress):\n",
    "        pekerja.adress=adress\n",
    "    def display(pekerja):\n",
    "        return pekerja.__dict__\n",
    "pekerja1=worker(\"fariz\",\"menteri\")\n",
    "pekerja1.setAge(36)\n",
    "pekerja1.setAddress(\"Pondok Indah\")\n",
    "pekerja1.display()"
   ]
  },
  {
   "cell_type": "code",
   "execution_count": 81,
   "metadata": {},
   "outputs": [
    {
     "name": "stdout",
     "output_type": "stream",
     "text": [
      "ini jam 4.166666666666667 hour dan 0.0 minute\n",
      "250.00000000000003\n"
     ]
    }
   ],
   "source": [
    "class time:\n",
    "    def __init__(self,hours,minute):\n",
    "        self.hours=hours\n",
    "        self.minute=minute\n",
    "    def nambah(jam1,jam2):\n",
    "        jam3=time(0,0)\n",
    "        if jam1.minute+jam2.minute>60:\n",
    "            jam3.hours=(jam1.minute+jam2.minute)/60\n",
    "        jam3.hours=(jam3.hours+jam1.hours+jam2.hours)\n",
    "        jam3.minute=(jam1.minute+jam2.minute)-(((jam1.minute+jam2.minute)/60)*60)\n",
    "        return jam3\n",
    "    def display_waktu(self):\n",
    "        print(f\"ini jam {self.hours} hour dan {self.minute} minute\")\n",
    "    def display_menit(self):\n",
    "        print(self.hours*60+self.minute)\n",
    "a=time(2,50)\n",
    "b=time(1,20)\n",
    "c=time.nambah(a,b)\n",
    "c.display_waktu()\n",
    "c.display_menit()"
   ]
  },
  {
   "cell_type": "code",
   "execution_count": 85,
   "metadata": {},
   "outputs": [
    {
     "name": "stdout",
     "output_type": "stream",
     "text": [
      "Time is 4 hours and 10 minutes.\n",
      "250\n"
     ]
    }
   ],
   "source": [
    "#https://www.codesdope.com/discussion/how-to-add-two-classes/\n",
    "class Time():\n",
    "    def __init__(self, hours, mins):\n",
    "        self.hours = hours\n",
    "        self.mins = mins\n",
    "    def addTime(t1, t2):\n",
    "        t3 = Time(0,0)\n",
    "        if t1.mins+t2.mins > 60:\n",
    "            t3.hours = (t1.mins+t2.mins)/60\n",
    "        t3.hours = math.floor(t3.hours+t1.hours+t2.hours)\n",
    "        t3.mins = (t1.mins+t2.mins)%60\n",
    "        return t3\n",
    "    def displayTime(self):\n",
    "        print (\"Time is\",self.hours,\"hours and\",self.mins,\"minutes.\")\n",
    "    \n",
    "    def displayMinute(self):\n",
    "        print ((self.hours*60)+self.mins)\n",
    "\n",
    "a = Time(2,50)\n",
    "b = Time(1,20)\n",
    "c = Time.addTime(a,b)\n",
    "c.displayTime()\n",
    "c.displayMinute()"
   ]
  },
  {
   "cell_type": "markdown",
   "metadata": {},
   "source": [
    "# percobaan"
   ]
  },
  {
   "cell_type": "code",
   "execution_count": 109,
   "metadata": {},
   "outputs": [
    {
     "name": "stdout",
     "output_type": "stream",
     "text": [
      "0.2\n"
     ]
    }
   ],
   "source": [
    "#convert cm,meter,km\n",
    "class jarak():\n",
    "    def __init__(self,panjangcm):\n",
    "        self.panjangcm=panjangcm\n",
    "    def addJarak(self):\n",
    "        return (print(self.panjangcm/100))\n",
    "jarak(20).addJarak()"
   ]
  },
  {
   "cell_type": "code",
   "execution_count": 106,
   "metadata": {},
   "outputs": [
    {
     "name": "stdout",
     "output_type": "stream",
     "text": [
      "suhu celcius nya 37.77777777777778\n",
      "suhu fahrenheitnya 212.0\n"
     ]
    }
   ],
   "source": [
    "#inputan f convertan c, dan sebaliknya\n",
    "import math\n",
    "\n",
    "class suhu:\n",
    "    def __init__(suhu_r,suhus):\n",
    "        suhu_r.suhus=suhus\n",
    "    \n",
    "    def jadi_cels(suhu_r):\n",
    "        suhu.cels=((suhu_r.suhus-32)*5/9)\n",
    "        return (print(f\"suhu celcius nya {suhu.cels}\"))\n",
    "    def jadi_fah(suhu_r):\n",
    "        suhu.fah=(((9/5)*suhu_r.suhus)+32)\n",
    "        return (print(f\"suhu fahrenheitnya {suhu.fah}\"))\n",
    "\n",
    "suhu(100).jadi_cels()\n",
    "suhu(100).jadi_fah()"
   ]
  },
  {
   "cell_type": "code",
   "execution_count": null,
   "metadata": {},
   "outputs": [],
   "source": []
  }
 ],
 "metadata": {
  "kernelspec": {
   "display_name": "Python 3",
   "language": "python",
   "name": "python3"
  },
  "language_info": {
   "codemirror_mode": {
    "name": "ipython",
    "version": 3
   },
   "file_extension": ".py",
   "mimetype": "text/x-python",
   "name": "python",
   "nbconvert_exporter": "python",
   "pygments_lexer": "ipython3",
   "version": "3.6.8"
  }
 },
 "nbformat": 4,
 "nbformat_minor": 2
}
