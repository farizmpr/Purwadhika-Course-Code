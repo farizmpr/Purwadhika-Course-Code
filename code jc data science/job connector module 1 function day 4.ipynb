{
 "cells": [
  {
   "cell_type": "markdown",
   "metadata": {},
   "source": [
    "# Function"
   ]
  },
  {
   "cell_type": "code",
   "execution_count": 1,
   "metadata": {},
   "outputs": [
    {
     "data": {
      "text/plain": [
       "502.65"
      ]
     },
     "execution_count": 1,
     "metadata": {},
     "output_type": "execute_result"
    }
   ],
   "source": [
    "def tube_volume(radius,height):\n",
    "    import math\n",
    "    base_area = math.pi*radius**2\n",
    "    volume = base_area*height\n",
    "    volume=round(volume,2)\n",
    "    return volume\n",
    "\n",
    "tube_volume(4,10)"
   ]
  },
  {
   "cell_type": "code",
   "execution_count": 2,
   "metadata": {},
   "outputs": [],
   "source": [
    "def salam():\n",
    "    print(\"hallo dunia\")\n",
    "#def itu merupakan penanda kalau kita akan buat function\n",
    "#salam, adalah nama function\n",
    "#() ini adalah tempat untuk diisi satu atau lebih parameter, dan sifatnya otional\n",
    "# hello dunia adalah statement"
   ]
  },
  {
   "cell_type": "code",
   "execution_count": 3,
   "metadata": {},
   "outputs": [
    {
     "name": "stdout",
     "output_type": "stream",
     "text": [
      "hallo dunia\n"
     ]
    }
   ],
   "source": [
    "salam()"
   ]
  },
  {
   "cell_type": "code",
   "execution_count": 4,
   "metadata": {},
   "outputs": [
    {
     "data": {
      "text/plain": [
       "125"
      ]
     },
     "execution_count": 4,
     "metadata": {},
     "output_type": "execute_result"
    }
   ],
   "source": [
    "def volum_balok(panjang,lebar,tinggi):\n",
    "    volum_nih=panjang*lebar*tinggi\n",
    "    return volum_nih\n",
    "volum_balok(5,5,5)"
   ]
  },
  {
   "cell_type": "code",
   "execution_count": 6,
   "metadata": {},
   "outputs": [
    {
     "name": "stdout",
     "output_type": "stream",
     "text": [
      "masukin a : 19\n",
      "masukin b : 1\n",
      "18\n"
     ]
    }
   ],
   "source": [
    "def nilai_apa(a,b):\n",
    "    if a>=b:\n",
    "        return a-b\n",
    "    else:\n",
    "        return b-a\n",
    "x = int(input(\"masukin a : \"))\n",
    "y = int(input(\"masukin b : \"))\n",
    "print(nilai_apa(x,y))"
   ]
  },
  {
   "cell_type": "code",
   "execution_count": 19,
   "metadata": {},
   "outputs": [
    {
     "name": "stdout",
     "output_type": "stream",
     "text": [
      "5 * 1 = 5\n",
      "5 * 2 = 10\n",
      "5 * 3 = 15\n",
      "5 * 4 = 20\n",
      "5 * 5 = 25\n",
      "5 * 6 = 30\n",
      "5 * 7 = 35\n",
      "5 * 8 = 40\n",
      "5 * 9 = 45\n",
      "5 * 10 = 50\n"
     ]
    }
   ],
   "source": [
    "kali=5\n",
    "penambah=0\n",
    "while(penambah <=10):\n",
    "    penambah+=1\n",
    "    hasil_kali = kali*penambah\n",
    "    if(penambah==11):\n",
    "        break\n",
    "    print(kali,\"*\",penambah,\"=\",hasil_kali)"
   ]
  },
  {
   "cell_type": "code",
   "execution_count": 30,
   "metadata": {},
   "outputs": [
    {
     "name": "stdout",
     "output_type": "stream",
     "text": [
      "angka masukin 3\n",
      "3 * 1 = 3\n",
      "3 * 2 = 6\n",
      "3 * 3 = 9\n",
      "3 * 4 = 12\n",
      "3 * 5 = 15\n",
      "3 * 6 = 18\n",
      "3 * 7 = 21\n",
      "3 * 8 = 24\n",
      "3 * 9 = 27\n",
      "3 * 10 = 30\n"
     ]
    }
   ],
   "source": [
    "def perkalian(uhuy,penambahan=0):\n",
    "    while(penambahan<=10):\n",
    "        penambahan+=1\n",
    "        hasil=uhuy*penambahan\n",
    "        if(penambahan==11):\n",
    "            break\n",
    "        print(uhuy,\"*\",penambahan,\"=\",hasil)\n",
    "uhuy = int(input(\"angka masukin \"))\n",
    "perkalian(uhuy)"
   ]
  },
  {
   "cell_type": "code",
   "execution_count": 13,
   "metadata": {},
   "outputs": [],
   "source": [
    "def greet(nama):\n",
    "    print(\"halo \" + nama +\" met pagi\")#kalo disini ada print, berarti buat manggil fungsi gausah ada print gapapa"
   ]
  },
  {
   "cell_type": "code",
   "execution_count": 14,
   "metadata": {},
   "outputs": [
    {
     "name": "stdout",
     "output_type": "stream",
     "text": [
      "halo fariz met pagi\n"
     ]
    }
   ],
   "source": [
    "greet(\"fariz\")"
   ]
  },
  {
   "cell_type": "code",
   "execution_count": 16,
   "metadata": {},
   "outputs": [
    {
     "name": "stdout",
     "output_type": "stream",
     "text": [
      "halo aku fariz,  lahir bulan may, tahun 1998\n"
     ]
    }
   ],
   "source": [
    "#buat funciont yg nampilin nama bulan tahun \n",
    "def perkenalan(nama, bulan, tahun):\n",
    "    print(f\"halo aku {nama},  lahir bulan {bulan}, tahun {tahun}\")\n",
    "perkenalan(\"fariz\",\"may\", 1998)"
   ]
  },
  {
   "cell_type": "code",
   "execution_count": 22,
   "metadata": {},
   "outputs": [],
   "source": [
    "#function with argument\n",
    "def nyapa(name,msg):\n",
    "    print(\"halo\",name,\",\",msg)"
   ]
  },
  {
   "cell_type": "code",
   "execution_count": 28,
   "metadata": {},
   "outputs": [
    {
     "name": "stdout",
     "output_type": "stream",
     "text": [
      "halo opak , pagi pak\n"
     ]
    }
   ],
   "source": [
    "#pake parameter biar bisa pas, biar gak ngikutin parameter di fungsi\n",
    "nyapa(msg=\"pagi pak\",name=\"opak\")"
   ]
  },
  {
   "cell_type": "code",
   "execution_count": 42,
   "metadata": {},
   "outputs": [
    {
     "name": "stdout",
     "output_type": "stream",
     "text": [
      "11 24\n"
     ]
    }
   ],
   "source": [
    "def tambah_kali(a,b=8):\n",
    "    hasil_tambah = a + b\n",
    "    hasil_kali = a * b\n",
    "    return hasil_tambah,hasil_kali#return ini nyimpen hasil tapi gak dikeluarin, nilai return bisa dipake\n",
    "\n",
    "hsl_tambah,hsl_kali = tambah_kali(3)\n",
    "print(hsl_tambah,hsl_kali)"
   ]
  },
  {
   "cell_type": "code",
   "execution_count": 48,
   "metadata": {},
   "outputs": [
    {
     "name": "stdout",
     "output_type": "stream",
     "text": [
      "10\n"
     ]
    }
   ],
   "source": [
    "#global variabel adalah yang berada di luar fungsi\n",
    "#local itu yang ada di dalem fungsi\n",
    "x=5\n",
    "def contoh():\n",
    "    global x#cara biar global\n",
    "    x=x*2\n",
    "    print(x)\n",
    "contoh()"
   ]
  },
  {
   "cell_type": "code",
   "execution_count": 49,
   "metadata": {},
   "outputs": [
    {
     "name": "stdout",
     "output_type": "stream",
     "text": [
      "value inside func or local var 10\n",
      "global var 20\n"
     ]
    }
   ],
   "source": [
    "def fungsiku():\n",
    "    x=10#local\n",
    "    print(\"value inside func or local var\",x)\n",
    "x=20#global ini\n",
    "fungsiku()#ini manggil fungsi yang ada di dalem fungsi\n",
    "print(\"global var\", x)"
   ]
  },
  {
   "cell_type": "code",
   "execution_count": 50,
   "metadata": {},
   "outputs": [
    {
     "name": "stdout",
     "output_type": "stream",
     "text": [
      "hasil perkalian 4*4 adalah 16\n"
     ]
    }
   ],
   "source": [
    "def perkalian(angka):\n",
    "    hasil=angka*4\n",
    "    print(f\"hasil perkalian {angka}*4 adalah {hasil}\")\n",
    "    \n",
    "perkalian(4)"
   ]
  },
  {
   "cell_type": "code",
   "execution_count": 51,
   "metadata": {},
   "outputs": [],
   "source": [
    "#function with argument\n",
    "def greet(name,msg):\n",
    "    print(\"hallo\", name, \",\",msg)"
   ]
  },
  {
   "cell_type": "code",
   "execution_count": 52,
   "metadata": {},
   "outputs": [
    {
     "name": "stdout",
     "output_type": "stream",
     "text": [
      "hallo adit , jangan lupa mandi\n"
     ]
    }
   ],
   "source": [
    "greet(msg=\"jangan lupa mandi\", name=\"adit\")"
   ]
  },
  {
   "cell_type": "code",
   "execution_count": 55,
   "metadata": {},
   "outputs": [
    {
     "name": "stdout",
     "output_type": "stream",
     "text": [
      "nama pekerja jo, dan pekerjaannya adalah data scientist\n",
      "nama pekerja jo, dan pekerjaannya adalah Ngoding\n"
     ]
    }
   ],
   "source": [
    "#function with default keyword\n",
    "def worker(name,position=\"data scientist\"):\n",
    "    print(f\"nama pekerja {name}, dan pekerjaannya adalah {position}\")\n",
    "worker(\"jo\")\n",
    "#ingin menginput seseorang dengan perkeerjaan bukan dat scientis\n",
    "worker(\"jo\",\"Ngoding\")"
   ]
  },
  {
   "cell_type": "code",
   "execution_count": 57,
   "metadata": {},
   "outputs": [],
   "source": [
    "#function with default keyword\n",
    "#default parameter boleh didepan selama parameter di setelhanya juga default parameter\n",
    "def workers(nrp,name=\"brian\",position=\"data scientist\"):\n",
    "    print(f\"nama pekerja {name}, dan pekerjaannya adalah {position} dan nrp: {nrp}\")"
   ]
  },
  {
   "cell_type": "code",
   "execution_count": 58,
   "metadata": {},
   "outputs": [
    {
     "name": "stdout",
     "output_type": "stream",
     "text": [
      "nama pekerja brian, dan pekerjaannya adalah data scientist dan nrp: 123\n"
     ]
    }
   ],
   "source": [
    "workers(123)"
   ]
  },
  {
   "cell_type": "code",
   "execution_count": 71,
   "metadata": {},
   "outputs": [
    {
     "name": "stdout",
     "output_type": "stream",
     "text": [
      "50 30\n"
     ]
    }
   ],
   "source": [
    "#quiz function\n",
    "def ngitung(a,b):\n",
    "    hasil = a+10\n",
    "    hasil2 = b+20\n",
    "    return hasil,hasil2\n",
    "hasil1,hasil2x = ngitung(40,10)\n",
    "print(hasil1,hasil2x)"
   ]
  },
  {
   "cell_type": "code",
   "execution_count": 73,
   "metadata": {},
   "outputs": [
    {
     "name": "stdout",
     "output_type": "stream",
     "text": [
      "50 30\n"
     ]
    }
   ],
   "source": [
    "def ngitung(a,b):\n",
    "    hasil = a+10\n",
    "    hasil2 = b+20\n",
    "    print(hasil,hasil2)\n",
    "ngitung(40,10)"
   ]
  },
  {
   "cell_type": "code",
   "execution_count": 76,
   "metadata": {},
   "outputs": [
    {
     "name": "stdout",
     "output_type": "stream",
     "text": [
      "employee name fariz, and salary 100000000\n"
     ]
    }
   ],
   "source": [
    "#quiz 2\n",
    "def gajih(nama_org,gajihnya=100000000):\n",
    "    print(f\"employee name {nama_org}, and salary {gajihnya}\")\n",
    "gajih(\"fariz\",100000000)"
   ]
  },
  {
   "cell_type": "code",
   "execution_count": 79,
   "metadata": {},
   "outputs": [
    {
     "name": "stdout",
     "output_type": "stream",
     "text": [
      "-1\n",
      "1\n"
     ]
    }
   ],
   "source": [
    "a = int(input())\n",
    "hsl=(-(a))\n",
    "print(hsl)"
   ]
  },
  {
   "cell_type": "code",
   "execution_count": 77,
   "metadata": {},
   "outputs": [
    {
     "name": "stdout",
     "output_type": "stream",
     "text": [
      "employee name komeng, and salary 100000000\n"
     ]
    }
   ],
   "source": [
    "gajih(\"komeng\")"
   ]
  },
  {
   "cell_type": "code",
   "execution_count": 85,
   "metadata": {},
   "outputs": [
    {
     "name": "stdout",
     "output_type": "stream",
     "text": [
      "120\n"
     ]
    }
   ],
   "source": [
    "#quiz 3\n",
    "def absolute_value(a):\n",
    "    if a>=0:\n",
    "        return a\n",
    "    else:\n",
    "        return(-(a))\n",
    "\n",
    "print(absolute_value(-120))"
   ]
  },
  {
   "cell_type": "code",
   "execution_count": 91,
   "metadata": {},
   "outputs": [
    {
     "name": "stdout",
     "output_type": "stream",
     "text": [
      "nilai : 1\n",
      "nilai : 3\n",
      "1.0\n"
     ]
    }
   ],
   "source": [
    "def cobarumus(a,b):\n",
    "    return ((a*b)/3)\n",
    "x= int(input(\"nilai : \"))\n",
    "y = int(input(\"nilai : \"))\n",
    "print(cobarumus(x,y))"
   ]
  },
  {
   "cell_type": "code",
   "execution_count": 113,
   "metadata": {},
   "outputs": [
    {
     "name": "stdout",
     "output_type": "stream",
     "text": [
      "masukkan nama : fariz\n",
      "masukkan tinggi : 178\n",
      "masukkan berat badan : 78\n",
      "24.61810377477591\n",
      "fariz berat badan normal\n"
     ]
    }
   ],
   "source": [
    "import math\n",
    "def berat(nama,tinggi,massa):\n",
    "    tinggimeter = tinggi/100\n",
    "    bmi = massa/(pow(tinggimeter,2))\n",
    "    print(bmi)\n",
    "    if bmi >= 30.0:\n",
    "        print(f\"{nama} berat badan kegemukan\")\n",
    "    elif bmi<=29.9 and bmi>=25.0:\n",
    "        print(f\"{nama} berat badan kelebihan\")\n",
    "    elif bmi<=24.9 and bmi>=18.5:\n",
    "        print(f\"{nama} berat badan normal\")\n",
    "    elif bmi<=18.5:\n",
    "        print(f\"{nama} kekurusan\")\n",
    "        \n",
    "p = input(\"masukkan nama : \")\n",
    "m = int(input(\"masukkan tinggi : \"))\n",
    "i = int(input(\"masukkan berat badan : \"))\n",
    "berat(p,m,i)"
   ]
  },
  {
   "cell_type": "code",
   "execution_count": null,
   "metadata": {},
   "outputs": [],
   "source": []
  }
 ],
 "metadata": {
  "kernelspec": {
   "display_name": "Python 3",
   "language": "python",
   "name": "python3"
  },
  "language_info": {
   "codemirror_mode": {
    "name": "ipython",
    "version": 3
   },
   "file_extension": ".py",
   "mimetype": "text/x-python",
   "name": "python",
   "nbconvert_exporter": "python",
   "pygments_lexer": "ipython3",
   "version": "3.6.8"
  }
 },
 "nbformat": 4,
 "nbformat_minor": 2
}
