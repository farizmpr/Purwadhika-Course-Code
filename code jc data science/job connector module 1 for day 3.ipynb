{
 "cells": [
  {
   "cell_type": "markdown",
   "metadata": {},
   "source": [
    "# for loop"
   ]
  },
  {
   "cell_type": "code",
   "execution_count": 1,
   "metadata": {},
   "outputs": [
    {
     "name": "stdout",
     "output_type": "stream",
     "text": [
      "[1, 3, 5, 7, 9]\n"
     ]
    }
   ],
   "source": [
    "#ini list\n",
    "listItem = list(range(1,11,2))#bakal nge print kelipatan 2 dari 1, 11\n",
    "print(listItem)#indexing dr python kan dr 0 makanya 11 gak di print 0123456789 10"
   ]
  },
  {
   "cell_type": "code",
   "execution_count": 2,
   "metadata": {},
   "outputs": [
    {
     "name": "stdout",
     "output_type": "stream",
     "text": [
      "1\n",
      "3\n",
      "5\n",
      "7\n",
      "9\n"
     ]
    }
   ],
   "source": [
    "for item in listItem:#ngakses nilai dari list item\n",
    "    print(item)"
   ]
  },
  {
   "cell_type": "code",
   "execution_count": 9,
   "metadata": {},
   "outputs": [
    {
     "name": "stdout",
     "output_type": "stream",
     "text": [
      "[11, 10, 9, 8, 7, 6, 5, 4, 3, 2, 1]\n",
      "11\n",
      "10\n",
      "9\n",
      "8\n",
      "7\n",
      "6\n",
      "5\n",
      "4\n",
      "3\n",
      "2\n",
      "1\n"
     ]
    }
   ],
   "source": [
    "listItem2 = list(range(11,0,-1))\n",
    "print(listItem2)\n",
    "for items in listItem2:\n",
    "    print(items)"
   ]
  },
  {
   "cell_type": "code",
   "execution_count": 14,
   "metadata": {},
   "outputs": [
    {
     "name": "stdout",
     "output_type": "stream",
     "text": [
      "Nomor Urut 1\n",
      "Nomor Urut 2\n",
      "Nomor Urut 3\n",
      "Nomor Urut 4\n",
      "Nomor Urut 5\n",
      "Nomor Urut 6\n",
      "Nomor Urut 7\n",
      "Nomor Urut 8\n",
      "Nomor Urut 9\n",
      "Nomor Urut 10\n"
     ]
    }
   ],
   "source": [
    "#solve list\n",
    "listItemSolve = list(range(1,11,1))\n",
    "for itemx in listItemSolve:\n",
    "    print('Nomor Urut',itemx)"
   ]
  },
  {
   "cell_type": "code",
   "execution_count": 16,
   "metadata": {},
   "outputs": [
    {
     "name": "stdout",
     "output_type": "stream",
     "text": [
      "nomor urut1\n",
      "nomor urut2\n",
      "nomor urut3\n",
      "nomor urut4\n",
      "nomor urut5\n",
      "nomor urut6\n",
      "nomor urut7\n",
      "nomor urut8\n",
      "nomor urut9\n",
      "nomor urut10\n"
     ]
    }
   ],
   "source": [
    "y= 'nomor urut'\n",
    "for ini in range(1,11):\n",
    "    print(y+str(ini))"
   ]
  },
  {
   "cell_type": "code",
   "execution_count": 18,
   "metadata": {},
   "outputs": [
    {
     "name": "stdout",
     "output_type": "stream",
     "text": [
      "nomor urut0\n",
      "nomor urut2\n",
      "nomor urut4\n",
      "nomor urut6\n",
      "nomor urut8\n",
      "nomor urut10\n",
      "nomor urut12\n",
      "nomor urut14\n",
      "nomor urut16\n",
      "nomor urut18\n",
      "nomor urut20\n"
     ]
    }
   ],
   "source": [
    "#solve it nomber 2\n",
    "y = \"nomor urut \"\n",
    "for itu in range(0,21,2):\n",
    "    print(y + str(itu))"
   ]
  },
  {
   "cell_type": "code",
   "execution_count": 20,
   "metadata": {},
   "outputs": [
    {
     "name": "stdout",
     "output_type": "stream",
     "text": [
      "nomor urut 1\n",
      "nomor urut 3\n",
      "nomor urut 5\n",
      "nomor urut 7\n",
      "nomor urut 9\n",
      "nomor urut 11\n",
      "nomor urut 13\n",
      "nomor urut 15\n",
      "nomor urut 17\n",
      "nomor urut 19\n"
     ]
    }
   ],
   "source": [
    "#solve nomber 2\n",
    "x = \"nomor urut \"\n",
    "for eta in range(1,20,2):\n",
    "    print(x + str(eta))"
   ]
  },
  {
   "cell_type": "code",
   "execution_count": 27,
   "metadata": {},
   "outputs": [
    {
     "name": "stdout",
     "output_type": "stream",
     "text": [
      "nomor urut 1\n",
      "nomor urut 3\n",
      "nomor urut 5\n",
      "nomor urut 7\n",
      "nomor urut 9\n",
      "nomor urut 11\n",
      "nomor urut 13\n",
      "nomor urut 15\n",
      "nomor urut 17\n",
      "nomor urut 19\n"
     ]
    }
   ],
   "source": [
    "r = \"nomor urut \"\n",
    "for etis in range(1,20,2):\n",
    "    print(r+str(etis))"
   ]
  },
  {
   "cell_type": "markdown",
   "metadata": {},
   "source": [
    "# nested loop"
   ]
  },
  {
   "cell_type": "code",
   "execution_count": 28,
   "metadata": {},
   "outputs": [
    {
     "name": "stdout",
     "output_type": "stream",
     "text": [
      "0\n",
      "1\n",
      "2\n",
      "3\n",
      "4\n",
      "5\n",
      "6\n",
      "7\n",
      "8\n",
      "9\n",
      "10\n",
      "11\n",
      "12\n",
      "13\n",
      "14\n",
      "15\n",
      "nah ini 15\n",
      "16\n",
      "17\n",
      "18\n",
      "19\n",
      "20\n",
      "21\n",
      "22\n",
      "23\n",
      "24\n",
      "25\n",
      "26\n",
      "27\n",
      "28\n",
      "29\n"
     ]
    }
   ],
   "source": [
    "number = 15\n",
    "for i in range(30):\n",
    "    print(i)\n",
    "    if i is number:\n",
    "        print(\"nah ini 15\")"
   ]
  },
  {
   "cell_type": "code",
   "execution_count": 30,
   "metadata": {},
   "outputs": [
    {
     "name": "stdout",
     "output_type": "stream",
     "text": [
      "0\n",
      "angkanya mana nih\n",
      "1\n",
      "angkanya mana nih\n",
      "2\n",
      "angkanya mana nih\n",
      "3\n",
      "angkanya mana nih\n",
      "4\n",
      "angkanya mana nih\n",
      "5\n",
      "angkanya mana nih\n",
      "6\n",
      "angkanya mana nih\n",
      "7\n",
      "angkanya mana nih\n",
      "8\n",
      "angkanya mana nih\n",
      "9\n",
      "angkanya mana nih\n",
      "10\n",
      "angkanya mana nih\n",
      "11\n",
      "angkanya mana nih\n",
      "12\n",
      "angkanya mana nih\n",
      "13\n",
      "angkanya mana nih\n",
      "14\n",
      "angkanya mana nih\n",
      "15\n",
      "nah ini 15\n"
     ]
    }
   ],
   "source": [
    "#ini keluar kalo udah ketemu angka 15\n",
    "number = 15\n",
    "for i in range(30):\n",
    "    print(i)\n",
    "    if i is number:\n",
    "        print(\"nah ini 15\")\n",
    "        break"
   ]
  },
  {
   "cell_type": "code",
   "execution_count": 31,
   "metadata": {},
   "outputs": [
    {
     "name": "stdout",
     "output_type": "stream",
     "text": [
      "0\n",
      "angkanya mana nih\n",
      "1\n",
      "angkanya mana nih\n",
      "2\n",
      "angkanya mana nih\n",
      "3\n",
      "angkanya mana nih\n",
      "4\n",
      "angkanya mana nih\n",
      "5\n",
      "angkanya mana nih\n",
      "6\n",
      "angkanya mana nih\n",
      "7\n",
      "angkanya mana nih\n",
      "8\n",
      "angkanya mana nih\n",
      "9\n",
      "angkanya mana nih\n",
      "10\n",
      "angkanya mana nih\n",
      "11\n",
      "angkanya mana nih\n",
      "12\n",
      "angkanya mana nih\n",
      "13\n",
      "angkanya mana nih\n",
      "14\n",
      "angkanya mana nih\n",
      "15\n",
      "nah ini 15\n"
     ]
    }
   ],
   "source": [
    "#ini keluar kalo udah ketemu angka 15 tapi nge print angkanya mana nih soalnya kan 15 belum ketemu sampe 15\n",
    "number = 15\n",
    "for i in range(30):\n",
    "    print(i)\n",
    "    if i is number:\n",
    "        print(\"nah ini 15\")\n",
    "        break\n",
    "    else:\n",
    "        print(\"angkanya mana nih\")"
   ]
  },
  {
   "cell_type": "code",
   "execution_count": 35,
   "metadata": {},
   "outputs": [
    {
     "name": "stdout",
     "output_type": "stream",
     "text": [
      "1 1 1 1 1 \n",
      "1 1 1 1 1 \n",
      "1 1 1 1 1 \n",
      "1 1 1 1 1 \n",
      "1 1 1 1 1 \n"
     ]
    }
   ],
   "source": [
    "#loop in loop\n",
    "for i in range (5):\n",
    "    for j in range(5):\n",
    "        print(1,end=' ')\n",
    "    print('')\n",
    "#jadi ini cara nge print nya per baris, bari index pertama dimasukin tuh nilainya 1 jebret langsung\n",
    "#terus kalo udah menempuh sampe range lima pas print j, bikin newline"
   ]
  },
  {
   "cell_type": "code",
   "execution_count": 36,
   "metadata": {},
   "outputs": [
    {
     "name": "stdout",
     "output_type": "stream",
     "text": [
      ":* :* \n",
      ":* :* \n",
      ":* :* \n",
      ":* :* \n",
      ":* :* \n",
      ":* :* \n"
     ]
    }
   ],
   "source": [
    "#bikin baris dulu \n",
    "for x in range(6):\n",
    "    for y in range(2):\n",
    "        print(\":*\", end = \" \")\n",
    "    print(\"\")"
   ]
  },
  {
   "cell_type": "code",
   "execution_count": 37,
   "metadata": {},
   "outputs": [
    {
     "name": "stdout",
     "output_type": "stream",
     "text": [
      "1 2 3 \n",
      "4 5 6 \n",
      "7 8 9 \n"
     ]
    }
   ],
   "source": [
    "#percobaan\n",
    "k = 1\n",
    "for i in range(3):\n",
    "    for j in range(3):\n",
    "        print(k,end = \" \")\n",
    "        k += 1\n",
    "    print(\"\")"
   ]
  },
  {
   "cell_type": "code",
   "execution_count": 53,
   "metadata": {},
   "outputs": [
    {
     "name": "stdout",
     "output_type": "stream",
     "text": [
      "1 2 3 4 \n",
      "5 6 7 8 \n",
      "9 10"
     ]
    }
   ],
   "source": [
    "k = 1\n",
    "for i in range (4) :\n",
    "    for j in range (4):\n",
    "        print(k, end = ' ')\n",
    "        k += 1\n",
    "        \n",
    "        if k == 10:\n",
    "            print(k, end = \"\")\n",
    "            break\n",
    "    if k == 10:\n",
    "        break\n",
    "    print ('')"
   ]
  },
  {
   "cell_type": "code",
   "execution_count": 57,
   "metadata": {},
   "outputs": [
    {
     "name": "stdout",
     "output_type": "stream",
     "text": [
      "  x  x  x  x  x \n"
     ]
    }
   ],
   "source": [
    "#for loop drawing * * * * *, kalo ini print nya sekalian beugh\n",
    "z=\" \"\n",
    "for i in range(0,5):\n",
    "    z+=\" x \"\n",
    "print(z)"
   ]
  },
  {
   "cell_type": "code",
   "execution_count": 59,
   "metadata": {},
   "outputs": [
    {
     "name": "stdout",
     "output_type": "stream",
     "text": [
      " x  x  x  x  x "
     ]
    }
   ],
   "source": [
    "#cara kedua, kalo ini print nya sekalian\n",
    "for i in range(5):\n",
    "    print(end=' x ')"
   ]
  },
  {
   "cell_type": "code",
   "execution_count": 61,
   "metadata": {},
   "outputs": [
    {
     "name": "stdout",
     "output_type": "stream",
     "text": [
      "  x \n",
      "  x  x \n",
      "  x  x  x \n",
      "  x  x  x  x \n",
      "  x  x  x  x  x \n"
     ]
    }
   ],
   "source": [
    "#bikin segitiga setengah kalo ini ditambah dicetak, print nya gak sekalian\n",
    "z=\" \"\n",
    "for i in range(0,5):\n",
    "    z = z + \" x \"\n",
    "    print(z)"
   ]
  },
  {
   "cell_type": "code",
   "execution_count": 67,
   "metadata": {},
   "outputs": [
    {
     "name": "stdout",
     "output_type": "stream",
     "text": [
      " * \n",
      " * \n",
      " * \n",
      " * \n",
      " * \n"
     ]
    }
   ],
   "source": [
    "z = \"\"\n",
    "for itembet in range(0,5):\n",
    "    if itembet < 4:# ini pertama di cek nah kasus ini tuh newline semua soalnya jumlahnya masih dibawah 5\n",
    "        z += \" * \\n\"\n",
    "    else:\n",
    "        z += \" * \"#kalo kondisi f gak terpenuhi masuk kesini\n",
    "print(z)"
   ]
  },
  {
   "cell_type": "code",
   "execution_count": 68,
   "metadata": {},
   "outputs": [
    {
     "name": "stdout",
     "output_type": "stream",
     "text": [
      " x \n",
      " x \n",
      " x \n",
      " x \n",
      " x \n"
     ]
    }
   ],
   "source": [
    "for item in range(5):#range 5 kebawah karena satu case dan newline\n",
    "    print(end = \" x \\n\")"
   ]
  },
  {
   "cell_type": "code",
   "execution_count": 80,
   "metadata": {},
   "outputs": [
    {
     "name": "stdout",
     "output_type": "stream",
     "text": [
      " x  x  x  x  x \n",
      " x  x  x  x  x \n",
      " x  x  x  x  x \n",
      " x  x  x  x  x \n",
      " x  x  x  x  x \n",
      "\n"
     ]
    }
   ],
   "source": [
    "#solve halaman ke 20\n",
    "z = \"\"\n",
    "for itemkuy in range(5):#pas awal baris 0 cetak ruang kosong pake bintangterus balik ke itemnih\n",
    "    for itemnih in range(5):#sampai pojok kanan atas terus bikin newline karna udh diluar range\n",
    "        z +=\" x \"\n",
    "    z+=\"\\n\"\n",
    "print(z)"
   ]
  },
  {
   "cell_type": "code",
   "execution_count": 81,
   "metadata": {},
   "outputs": [
    {
     "name": "stdout",
     "output_type": "stream",
     "text": [
      " *  *  *  *  * \n",
      "\n",
      " *  *  *  *  * \n",
      "\n",
      " *  *  *  *  * \n",
      "\n",
      " *  *  *  *  * \n",
      "\n",
      " *  *  *  *  * \n",
      "\n"
     ]
    }
   ],
   "source": [
    "#solve ke halaman 20 cara 2\n",
    "for itemuy in range(5):\n",
    "    for items1 in range(5):\n",
    "        print(end=\" * \")\n",
    "    print(\"\\n\")"
   ]
  },
  {
   "cell_type": "code",
   "execution_count": 84,
   "metadata": {},
   "outputs": [
    {
     "name": "stdout",
     "output_type": "stream",
     "text": [
      " x  x  x  x  x \n",
      " x  x  x  x  x \n",
      " x  x  x  x  x \n",
      " x  x  x  x  x \n",
      " x  x  x  x  x \n"
     ]
    }
   ],
   "source": [
    "#solve ke halaman 20 cara 3\n",
    "z=''\n",
    "for ino in range(5):\n",
    "    for inj in range(5):\n",
    "        z +=\" x \"\n",
    "    if ino < 4:#ngecek nih barisnya kalo udh lewat 4 new space\n",
    "        z+=\"\\n\"\n",
    "    else:\n",
    "        z+=\"\"\n",
    "print(z)"
   ]
  },
  {
   "cell_type": "code",
   "execution_count": 115,
   "metadata": {},
   "outputs": [
    {
     "name": "stdout",
     "output_type": "stream",
     "text": [
      "\n",
      " x \n",
      " x  x \n",
      " x  x  x \n",
      " x  x  x  x \n"
     ]
    }
   ],
   "source": [
    "for y in range(5):\n",
    "    print(\" x \"*y)"
   ]
  },
  {
   "cell_type": "code",
   "execution_count": 113,
   "metadata": {},
   "outputs": [
    {
     "name": "stdout",
     "output_type": "stream",
     "text": [
      " * \n",
      " *  * \n",
      " *  *  * \n",
      " *  *  *  * \n",
      " *  *  *  *  * \n",
      "\n"
     ]
    }
   ],
   "source": [
    "z=\"\"\n",
    "for item in range(5):\n",
    "    for items in range(0,item+1):\n",
    "        z+=\" * \"\n",
    "    z+=\"\\n\"\n",
    "print(z)"
   ]
  },
  {
   "cell_type": "code",
   "execution_count": 116,
   "metadata": {},
   "outputs": [
    {
     "name": "stdout",
     "output_type": "stream",
     "text": [
      " * \n",
      " *  * \n",
      " *  *  * \n",
      " *  *  *  * \n",
      " *  *  *  *  * \n"
     ]
    }
   ],
   "source": [
    "for i in range(5):\n",
    "    for j in range(0,i+1):\n",
    "        print(\" * \", end = \"\")\n",
    "    print(\"\")"
   ]
  },
  {
   "cell_type": "code",
   "execution_count": 142,
   "metadata": {},
   "outputs": [
    {
     "name": "stdout",
     "output_type": "stream",
     "text": [
      "*****\n",
      "****\n",
      "***\n",
      "**\n",
      "*\n"
     ]
    }
   ],
   "source": [
    "#solved 2\n",
    "rows = \"*\"\n",
    "for i in range(5,0,-1):#ini kan batesnya sampe 0 dari 5\n",
    "    for j in range(0,i):#nah terus ini kan batesnya sampe 5 terus balik lagi batasnya jadi 4,karna ada -1\n",
    "        print(rows,end = \"\")\n",
    "    print()"
   ]
  },
  {
   "cell_type": "code",
   "execution_count": 154,
   "metadata": {},
   "outputs": [
    {
     "name": "stdout",
     "output_type": "stream",
     "text": [
      "*\n",
      "*\n",
      "*\n",
      "*\n",
      "*\n",
      "*\n",
      "*****\n"
     ]
    }
   ],
   "source": [
    "rows = \"*\"\n",
    "for i in range(0,7):\n",
    "    for j in range(0,5):\n",
    "        if(j==0 or(i==6 and j>0)):\n",
    "            print(rows,end=\"\")\n",
    "    print()"
   ]
  },
  {
   "cell_type": "code",
   "execution_count": 158,
   "metadata": {},
   "outputs": [
    {
     "name": "stdout",
     "output_type": "stream",
     "text": [
      "*\n",
      "*\n",
      "*\n",
      "*\n",
      "*\n",
      "*\n",
      "*****"
     ]
    }
   ],
   "source": [
    "for i in range(6):\n",
    "    print(\"*\")\n",
    "for i in range(5):\n",
    "    print(\"*\",end=\"\")"
   ]
  },
  {
   "cell_type": "code",
   "execution_count": 157,
   "metadata": {},
   "outputs": [
    {
     "name": "stdout",
     "output_type": "stream",
     "text": [
      "*\n",
      "*\n",
      "*\n",
      "*\n",
      "*\n",
      "*\n",
      "*\n",
      "*****"
     ]
    }
   ],
   "source": [
    "for i in range(7):\n",
    "    print(\"*\")\n",
    "    if i==6:\n",
    "        for j in range(5):\n",
    "            print(\"*\", end = \"\")"
   ]
  },
  {
   "cell_type": "code",
   "execution_count": 212,
   "metadata": {},
   "outputs": [
    {
     "name": "stdout",
     "output_type": "stream",
     "text": [
      "i*****i\n",
      "iii*iii\n",
      "iii*iii\n",
      "iii*iii\n",
      "iii*iii\n",
      "iii*iii\n",
      "iii*iii\n",
      "\n"
     ]
    }
   ],
   "source": [
    "z=\"\"\n",
    "for row in range(0,7):\n",
    "    for coloumn in range(0,7):\n",
    "        if (coloumn==3 or(row==0 and coloumn >0 and coloumn<6)):\n",
    "            z+=\"*\"\n",
    "        else:\n",
    "            z+=\"i\"\n",
    "    z+=\"\\n\"\n",
    "print(z)"
   ]
  },
  {
   "cell_type": "code",
   "execution_count": 195,
   "metadata": {},
   "outputs": [
    {
     "name": "stdout",
     "output_type": "stream",
     "text": [
      "LLLLL\n",
      "  L  \n",
      "  L  \n",
      "  L  \n",
      "  L  \n",
      "  L  \n"
     ]
    }
   ],
   "source": [
    "for row in range(6):\n",
    "    for col in range(5):\n",
    "        if  col == 2 or (row == 0 and col != 2):\n",
    "            print(\"L\",end=\"\")\n",
    "        else:\n",
    "            print(end =\" \")\n",
    "    print()"
   ]
  },
  {
   "cell_type": "code",
   "execution_count": 215,
   "metadata": {},
   "outputs": [
    {
     "name": "stdout",
     "output_type": "stream",
     "text": [
      " ***** \n",
      "   *   \n",
      "   *   \n",
      "   *   \n",
      "   *   \n",
      "   *   \n",
      "   *   \n",
      "\n"
     ]
    }
   ],
   "source": [
    "z=\"\"\n",
    "for row in range(0,7):\n",
    "    for coloumn in range(0,7):\n",
    "        if (coloumn==3 or(row==0 and coloumn >0 and coloumn<6)):\n",
    "            z+=\"*\"\n",
    "        else:\n",
    "            z+=\" \"\n",
    "    z+=\"\\n\"\n",
    "print(z)"
   ]
  },
  {
   "cell_type": "code",
   "execution_count": 260,
   "metadata": {},
   "outputs": [
    {
     "name": "stdout",
     "output_type": "stream",
     "text": [
      " *   * \n",
      " *   * \n",
      " *   * \n",
      " *   * \n",
      " *   * \n",
      " *   * \n",
      "  ***  \n",
      "\n"
     ]
    }
   ],
   "source": [
    "z=\"\"\n",
    "for row in range(0,7):\n",
    "    for coloumn in range(0,7):\n",
    "        if (((coloumn == 1 or coloumn == 5) and row != 6) or (row == 6 and coloumn > 1 and coloumn < 5)):  \n",
    "            z=z+\"*\"\n",
    "        else:\n",
    "            z=z+\" \"\n",
    "    z=z+\"\\n\"\n",
    "print(z)"
   ]
  },
  {
   "cell_type": "code",
   "execution_count": 255,
   "metadata": {},
   "outputs": [
    {
     "name": "stdout",
     "output_type": "stream",
     "text": [
      " *   * \n",
      " *   * \n",
      " *   * \n",
      " *   * \n",
      " *   * \n",
      " *   * \n",
      "  ***  \n",
      "\n"
     ]
    }
   ],
   "source": [
    "result_str=\"\";    \n",
    "for row in range(0,7):    \n",
    "    for column in range(0,7):     \n",
    "        if (((column == 1 or column == 5) and row != 6) or (row == 6 and column > 1 and column < 5)):  \n",
    "            result_str=result_str+\"*\"    \n",
    "        else:      \n",
    "            result_str=result_str+\" \"    \n",
    "    result_str=result_str+\"\\n\"    \n",
    "print(result_str);"
   ]
  },
  {
   "cell_type": "code",
   "execution_count": 243,
   "metadata": {},
   "outputs": [
    {
     "name": "stdout",
     "output_type": "stream",
     "text": [
      " ***** \n",
      "   *   \n",
      "   *   \n",
      "   *   \n",
      "   *   \n",
      "   *   \n",
      "   *   \n",
      "\n"
     ]
    }
   ],
   "source": [
    "z = ''\n",
    "for row in range(7):\n",
    "    for column in range(7):\n",
    "        if(column == 3 or (row == 0 and column > 0 and column < 6)):\n",
    "            z += '*'\n",
    "        else :\n",
    "            z += ' '\n",
    "    z += '\\n'\n",
    "print(z)"
   ]
  },
  {
   "cell_type": "code",
   "execution_count": 280,
   "metadata": {},
   "outputs": [
    {
     "name": "stdout",
     "output_type": "stream",
     "text": [
      "  ***  \n",
      " *   * \n",
      " *   * \n",
      " ***** \n",
      " *   * \n",
      " *   * \n",
      " *   * \n",
      "\n"
     ]
    }
   ],
   "source": [
    "z=\"\"\n",
    "#row != 0 buat ngapus bintang di index baris 0\n",
    "#coloumn >1 dan coloumn <5 itu buat bintang di tengahnya itu, row 5 itu buat ngeprint yg di index itu aja\n",
    "#syarat ketiga itu buat yg tengahnya, nah diatur tuh dimunculin di kolom mana aja\n",
    "\n",
    "for row in range(0,7):\n",
    "    for coloumn in range(0,7):\n",
    "        if (((coloumn == 1 or coloumn == 5) and row != 0) or (row == 0 and coloumn > 1 and coloumn < 5) or (row ==3 and coloumn>1 and coloumn <5)):  \n",
    "            z=z+\"*\"\n",
    "        else:\n",
    "            z=z+\" \"\n",
    "    z=z+\"\\n\"\n",
    "print(z)"
   ]
  },
  {
   "cell_type": "code",
   "execution_count": 317,
   "metadata": {},
   "outputs": [
    {
     "name": "stdout",
     "output_type": "stream",
     "text": [
      " ****  \n",
      " *   * \n",
      " *   * \n",
      " *   * \n",
      " *   * \n",
      " *   * \n",
      " ****  \n",
      "\n"
     ]
    }
   ],
   "source": [
    "z=\"\"\n",
    "for row in range(0,7):\n",
    "    for coloumn in range(0,7):\n",
    "        if((coloumn ==1 or coloumn ==5)and(row !=0 and row !=6)or ((row==0 or row==6) and coloumn>=1 and coloumn <5)):\n",
    "            z=z+\"*\"\n",
    "        else:\n",
    "            z=z+\" \"\n",
    "    z=z+\"\\n\"\n",
    "print(z)"
   ]
  },
  {
   "cell_type": "code",
   "execution_count": 344,
   "metadata": {},
   "outputs": [
    {
     "name": "stdout",
     "output_type": "stream",
     "text": [
      "       \n",
      "       \n",
      "       \n",
      " ****  \n",
      "       \n",
      "       \n",
      " ****  \n",
      "\n"
     ]
    }
   ],
   "source": [
    "#penjelasan atas\n",
    "#oke pertama kita nge print coloum 1 dan 5 untuk bagian bintangnya \"(coloumn ==1 or coloumn ==5)\"\n",
    "#kedua \"and(row !=0 and row !=6)\" ini buat nentuin barisan mana yg diapus\n",
    "#coloumn>=1 and coloumn <5 buat ngeprint yg di tengahnya itu bagian atas dan bawahnya biar ada D\n",
    "#(row==0 or row==6) ini dipilih mau row mana aja yg di print"
   ]
  },
  {
   "cell_type": "markdown",
   "metadata": {},
   "source": [
    "## quiz ngitung"
   ]
  },
  {
   "cell_type": "code",
   "execution_count": 403,
   "metadata": {},
   "outputs": [
    {
     "name": "stdout",
     "output_type": "stream",
     "text": [
      "masukin angka 5\n",
      "masukin angka 2\n",
      "masukin angka 2\n",
      "masukin angka 2\n",
      "masukin angka 2\n",
      "2.6\n"
     ]
    }
   ],
   "source": [
    "hasil=0\n",
    "for i in range(0,5):\n",
    "    masukin = int(input(\"masukin angka \"))\n",
    "    hasil+=masukin\n",
    "jumlah=hasil/5\n",
    "print(jumlah)"
   ]
  },
  {
   "cell_type": "code",
   "execution_count": 333,
   "metadata": {},
   "outputs": [
    {
     "name": "stdout",
     "output_type": "stream",
     "text": [
      "angkanya nih4\n",
      "masukin angka 1\n",
      "masukin angka 2\n",
      "masukin angka 3\n",
      "masukin angka 4\n",
      "2.5\n"
     ]
    }
   ],
   "source": [
    "#quiz ngitung modifikasi\n",
    "hasil=0\n",
    "j = int(input(\"angkanya nih\"))\n",
    "for i in range(0,j):\n",
    "    masukin = int(input(\"masukin angka \"))\n",
    "    hasil+=masukin\n",
    "jumlah=hasil/j\n",
    "print(jumlah)"
   ]
  },
  {
   "cell_type": "code",
   "execution_count": 345,
   "metadata": {},
   "outputs": [
    {
     "name": "stdout",
     "output_type": "stream",
     "text": [
      "masukkan angka5\n",
      "masukkan bilangan ke1 :1\n",
      "masukkan bilangan ke2 :2\n",
      "masukkan bilangan ke3 :3\n",
      "masukkan bilangan ke4 :4\n",
      "masukkan bilangan ke5 :5\n",
      "3.0\n"
     ]
    }
   ],
   "source": [
    "#quiz kalo make list\n",
    "n = int(input(\"masukkan angka\"))\n",
    "data = []#define list\n",
    "\n",
    "for i in range(n):\n",
    "    listnum=int(input(f\"masukkan bilangan ke{i+1} :\"))\n",
    "    data.append(listnum)#buat nambahin angka ke belakangnya kalo gak ada ini gamasuk input nya\n",
    "    rata=sum(data)/n\n",
    "print(rata)"
   ]
  },
  {
   "cell_type": "code",
   "execution_count": 348,
   "metadata": {},
   "outputs": [
    {
     "name": "stdout",
     "output_type": "stream",
     "text": [
      " *  *  *  *  * \n",
      " *  *  *  * \n",
      " *  *  * \n",
      " *  * \n",
      " * \n"
     ]
    }
   ],
   "source": [
    "#solve it 1\n",
    "for i in range(5,0,-1):\n",
    "    for j in range(0,i):\n",
    "        print(\" * \" ,end=\"\")\n",
    "    print()"
   ]
  },
  {
   "cell_type": "code",
   "execution_count": 369,
   "metadata": {},
   "outputs": [
    {
     "name": "stdout",
     "output_type": "stream",
     "text": [
      " *  *  *  *  * \n",
      " *  *  *  * \n",
      " *  *  * \n",
      " *  * \n",
      " * \n"
     ]
    }
   ],
   "source": [
    "#solve it 2\n",
    "for i in range(5,0,-1):\n",
    "    for j in range(0,i):\n",
    "        print(\" * \" ,end=\"\")\n",
    "    print()"
   ]
  },
  {
   "cell_type": "code",
   "execution_count": 394,
   "metadata": {},
   "outputs": [],
   "source": [
    "#solve solve 3\n"
   ]
  },
  {
   "cell_type": "code",
   "execution_count": null,
   "metadata": {},
   "outputs": [],
   "source": []
  }
 ],
 "metadata": {
  "kernelspec": {
   "display_name": "Python 3",
   "language": "python",
   "name": "python3"
  },
  "language_info": {
   "codemirror_mode": {
    "name": "ipython",
    "version": 3
   },
   "file_extension": ".py",
   "mimetype": "text/x-python",
   "name": "python",
   "nbconvert_exporter": "python",
   "pygments_lexer": "ipython3",
   "version": "3.6.8"
  }
 },
 "nbformat": 4,
 "nbformat_minor": 2
}
