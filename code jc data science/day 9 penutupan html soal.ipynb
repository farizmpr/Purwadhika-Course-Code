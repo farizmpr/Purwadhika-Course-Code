{
 "cells": [
  {
   "cell_type": "code",
   "execution_count": 1,
   "metadata": {},
   "outputs": [],
   "source": [
    "# LATIHAN PYTHON FUNDAMENTAL\n",
    "# ==================================================================\n",
    "# SOAL 1 \n",
    "# Buat function pengurai angka\n",
    "# 5 ---> [1, 2, 3, 4, 5]\n",
    "# 3 ---> [1, 2, 3]\n",
    "# urai(5) ---> [1, 2, 3, 4, 5]\n",
    "\n",
    "# SOAL 2 \n",
    "# Buat function auto capital setelah titik dan koma dalam string\n",
    "# \"Halo. selamat pagi.\"     --> \"Halo. Selamat pagi.\"\n",
    "# 'Hai. ibu. kami hadir.'   --> 'Hai. Ibu. Kami hadir.'\n",
    "# autocapital(\"Halo. selamat pagi.\")     --> \"Halo. Selamat pagi.\")\n",
    "\n",
    "# SOAL 3\n",
    "# Buat function yang mengubah huruf vocal a, i, e, o menjadi 4, 1, 3, 0\n",
    "# \"kemerdekaan\" --> 'k3m3rd3k44n'\n",
    "# \"sailendra\"   --> 's41l3ndr4'\n",
    "# ubah(\"kemerdekaan\") --> 'k3m3rd3k44n')\n",
    "\n",
    "# ====================================================================="
   ]
  },
  {
   "cell_type": "code",
   "execution_count": 44,
   "metadata": {},
   "outputs": [
    {
     "name": "stdout",
     "output_type": "stream",
     "text": [
      "[1, 2, 3, 4, 5]\n"
     ]
    }
   ],
   "source": [
    "#soal nomor 1\n",
    "def urai(x):\n",
    "    y=[]\n",
    "    for i in range(1,x+1):#ini buat batasnya aja yg ditentuin dari inputan\n",
    "        y.append(i)#kalau list masukin angkanya memakai append\n",
    "    print(y)\n",
    "urai(5)"
   ]
  },
  {
   "cell_type": "code",
   "execution_count": 45,
   "metadata": {},
   "outputs": [
    {
     "name": "stdout",
     "output_type": "stream",
     "text": [
      "[1, 2, 3, 4, 5]\n"
     ]
    }
   ],
   "source": [
    "#nomor 1 alternatif\n",
    "def uraix(num):\n",
    "    a=[]\n",
    "    for i in range(num):\n",
    "        a.append(i+1)\n",
    "    print(a)\n",
    "uraix(5)"
   ]
  },
  {
   "cell_type": "code",
   "execution_count": 93,
   "metadata": {},
   "outputs": [
    {
     "name": "stdout",
     "output_type": "stream",
     "text": [
      "Hai. Ibu. Kami. Hadir.\n"
     ]
    }
   ],
   "source": [
    "#soal 2\n",
    "def capitalss(kata_masukan):\n",
    "    kata_masukan=kata_masukan.split(\". \")\n",
    "    y=[i.capitalize() for i in kata_masukan]\n",
    "    y=\". \".join(y)\n",
    "    print(y)\n",
    "    \n",
    "capitalss(\"Hai. ibu. kami. hadir.\")"
   ]
  },
  {
   "cell_type": "code",
   "execution_count": 46,
   "metadata": {},
   "outputs": [
    {
     "name": "stdout",
     "output_type": "stream",
     "text": [
      "h4h4\n"
     ]
    }
   ],
   "source": [
    "#soal 3\n",
    "def kata(nama):\n",
    "    nama=nama.replace(\"a\",\"4\")\n",
    "    nama=nama.replace(\"i\",\"1\")\n",
    "    nama=nama.replace(\"e\",\"3\")\n",
    "    nama=nama.replace(\"o\",\"0\")\n",
    "    return nama\n",
    "print(kata(\"haha\"))"
   ]
  },
  {
   "cell_type": "code",
   "execution_count": 95,
   "metadata": {},
   "outputs": [
    {
     "name": "stdout",
     "output_type": "stream",
     "text": [
      "['halo', 'ngapain', 'nih']\n"
     ]
    }
   ],
   "source": [
    "#buat split algorithm\n",
    "#percobaan pertama pakai biasa built in\n",
    "def percobaan_text(kalimats):\n",
    "    x=kalimats.split()\n",
    "    print(x)\n",
    "percobaan_text(\"halo ngapain nih\")"
   ]
  },
  {
   "cell_type": "code",
   "execution_count": 112,
   "metadata": {},
   "outputs": [
    {
     "data": {
      "text/plain": [
       "['kenapa', 'ini', 'uhuy']"
      ]
     },
     "execution_count": 112,
     "metadata": {},
     "output_type": "execute_result"
    }
   ],
   "source": [
    "def words(sentences):\n",
    "    split_value = []\n",
    "    new_letter = ''\n",
    "    for letter in sentences:#keluar ketika kata terakhir udah diproses\n",
    "        if letter == ' ':#spasi masuk k\n",
    "            split_value.append(new_letter)#spasi masuk kesini\n",
    "            new_letter = ''\n",
    "        else:\n",
    "            new_letter += letter#temp variable\n",
    "    if new_letter:#memproses kata terakhir masuk ke list\n",
    "        split_value.append(new_letter)\n",
    "        return split_value\n",
    "words(\"kenapa ini uhuy\")"
   ]
  },
  {
   "cell_type": "code",
   "execution_count": 114,
   "metadata": {},
   "outputs": [
    {
     "data": {
      "text/plain": [
       "['kenapa', 'ini', 'uhuy']"
      ]
     },
     "execution_count": 114,
     "metadata": {},
     "output_type": "execute_result"
    }
   ],
   "source": [
    "def words(sentences):\n",
    "    split_value = []\n",
    "    new_letter = ''\n",
    "    for letter in sentences:#keluar ketika kata terakhir udah diproses\n",
    "        if letter == ' ':#spasi masuk k\n",
    "            split_value.append(new_letter)#spasi masuk kesini\n",
    "            new_letter = ''\n",
    "        else:\n",
    "            new_letter += letter#temp variable\n",
    "    if new_letter!='':#memproses kata terakhir masuk ke list. dan ngecek ada isinya atau engga\n",
    "        split_value.append(new_letter)#operasi dilakukan ketika adaisinya\n",
    "        return split_value\n",
    "words(\"kenapa ini uhuy\")"
   ]
  },
  {
   "cell_type": "markdown",
   "metadata": {},
   "source": [
    "# jawaban"
   ]
  },
  {
   "cell_type": "code",
   "execution_count": 117,
   "metadata": {},
   "outputs": [
    {
     "name": "stdout",
     "output_type": "stream",
     "text": [
      "[1, 2, 3]\n"
     ]
    }
   ],
   "source": [
    "#soal 1 versi mas kim\n",
    "def uraiKim(num):#kita membuat function dengan nama urai dan satu parameter num\n",
    "    a=[]#membuat list kosong\n",
    "    for i in range(num):#looping pengulangan, sebanyak range dari parameter num\n",
    "        a.append(i+1)#setiap pengulangan,list kosong(a) diisi dengan i(element) dari range parameter num+1\n",
    "    return a#return hasil akhir nya menampilkan A: list kosong yang sudah terisi\n",
    "print(uraiKim(3))"
   ]
  },
  {
   "cell_type": "code",
   "execution_count": null,
   "metadata": {},
   "outputs": [],
   "source": [
    "#titik dan spasi\n",
    "def capitalss(kata_masukan):\n",
    "    kata_masukan=kata_masukan.split(\". \")#ini dibuat split spasi dan titik\n",
    "    y=[i.capitalize() for i in kata_masukan]#variabel y isinya capitalize, list comperhension\n",
    "    y=\". \".join(y)#join ini ngegabung per elemen sekaligus mengubah list jadi string\n",
    "    print(y)\n",
    "    \n",
    "capitalss(\"Hai. ibu. kami. hadir.\")"
   ]
  },
  {
   "cell_type": "code",
   "execution_count": 118,
   "metadata": {},
   "outputs": [
    {
     "name": "stdout",
     "output_type": "stream",
     "text": [
      "halo. Selamat pagi. Bapak ibu. Kita di sini belajar ds\n"
     ]
    }
   ],
   "source": [
    "#jawaban mas kim nomor 2\n",
    "def autokapital(teks):\n",
    "    separator=\". \"#SEPARATOR untuk memecah string\n",
    "    x=teks.split(separator)#string dipecah berdasarkan separator dan berubah menjadi list\n",
    "    final_teks=x[0]#membuat variabel final teks, dimulai dari indeks ke 0\n",
    "    for i in range(1,len(x)):\n",
    "        new_teks=x[i].capitalize()\n",
    "        final_teks+=separator+new_teks\n",
    "    return final_teks\n",
    "print(autokapital(\"halo. selamat pagi. bapak ibu. kita di sini belajar DS\"))"
   ]
  },
  {
   "cell_type": "code",
   "execution_count": 121,
   "metadata": {},
   "outputs": [
    {
     "name": "stdout",
     "output_type": "stream",
     "text": [
      "k3n4p4 1n1\n"
     ]
    }
   ],
   "source": [
    "#jawaban nomor 3\n",
    "def kalimat_baru(kalimatsss):\n",
    "    kalimatsss=kalimatsss.replace(\"a\",\"4\")\n",
    "    kalimatsss=kalimatsss.replace(\"i\",\"1\")\n",
    "    kalimatsss=kalimatsss.replace(\"e\",\"3\")\n",
    "    kalimatsss=kalimatsss.replace(\"o\",\"0\")\n",
    "    print(kalimatsss)\n",
    "kalimat_baru(\"kenapa ini\")"
   ]
  },
  {
   "cell_type": "code",
   "execution_count": 122,
   "metadata": {},
   "outputs": [
    {
     "name": "stdout",
     "output_type": "stream",
     "text": [
      "k3m3rd3k44n\n"
     ]
    }
   ],
   "source": [
    "#jawaban mas kim\n",
    "def ubah(teks):\n",
    "    convert={'a':4,'i':1,'e':3,'o':0}\n",
    "    huruf=list(convert.keys())\n",
    "    final=[]\n",
    "    x=teks.split()\n",
    "    for j in range(len(x)):\n",
    "        for i in x[j]:\n",
    "            if not i in huruf:\n",
    "                final.append(i)\n",
    "            else:\n",
    "                angka=str(convert[i])\n",
    "                final.append(angka)\n",
    "    final=''.join(final)\n",
    "    return final\n",
    "kata='kemerdekaan'\n",
    "print(ubah(kata))"
   ]
  },
  {
   "cell_type": "code",
   "execution_count": null,
   "metadata": {},
   "outputs": [],
   "source": []
  }
 ],
 "metadata": {
  "kernelspec": {
   "display_name": "Python 3",
   "language": "python",
   "name": "python3"
  },
  "language_info": {
   "codemirror_mode": {
    "name": "ipython",
    "version": 3
   },
   "file_extension": ".py",
   "mimetype": "text/x-python",
   "name": "python",
   "nbconvert_exporter": "python",
   "pygments_lexer": "ipython3",
   "version": "3.6.8"
  }
 },
 "nbformat": 4,
 "nbformat_minor": 2
}
