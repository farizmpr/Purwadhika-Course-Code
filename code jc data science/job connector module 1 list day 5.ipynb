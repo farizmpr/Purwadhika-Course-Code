{
 "cells": [
  {
   "cell_type": "markdown",
   "metadata": {},
   "source": [
    "# List"
   ]
  },
  {
   "cell_type": "code",
   "execution_count": 3,
   "metadata": {},
   "outputs": [
    {
     "name": "stdout",
     "output_type": "stream",
     "text": [
      "[1, [2, 'three'], 4.5]\n"
     ]
    }
   ],
   "source": [
    "coba = [1,[2,\"three\"],4.5]\n",
    "print(coba)"
   ]
  },
  {
   "cell_type": "code",
   "execution_count": 4,
   "metadata": {},
   "outputs": [
    {
     "name": "stdout",
     "output_type": "stream",
     "text": [
      "['pajero', 'xenia', 'avanza']\n"
     ]
    }
   ],
   "source": [
    "mobil = [\"pajero\",\"xenia\",\"avanza\"]#punya tiga elemen\n",
    "print(mobil)"
   ]
  },
  {
   "cell_type": "code",
   "execution_count": 5,
   "metadata": {},
   "outputs": [
    {
     "name": "stdout",
     "output_type": "stream",
     "text": [
      "['mobil', 'transmision', 'fuel', 'distance', 'year', 'region']\n"
     ]
    }
   ],
   "source": [
    "df = ['mobil','transmision','fuel','distance','year','region']\n",
    "print(df)"
   ]
  },
  {
   "cell_type": "code",
   "execution_count": 6,
   "metadata": {},
   "outputs": [
    {
     "name": "stdout",
     "output_type": "stream",
     "text": [
      "xenia\n"
     ]
    }
   ],
   "source": [
    "print(mobil[1])"
   ]
  },
  {
   "cell_type": "markdown",
   "metadata": {},
   "source": [
    "# akses list menggunakan looping"
   ]
  },
  {
   "cell_type": "code",
   "execution_count": 7,
   "metadata": {},
   "outputs": [
    {
     "name": "stdout",
     "output_type": "stream",
     "text": [
      "jeruk\n",
      "mangga\n",
      "apel\n"
     ]
    }
   ],
   "source": [
    "buah = [\"jeruk\", \"mangga\",\"apel\"]#variabel buah berisi list yg ada 3 elemen\n",
    "\n",
    "for item in buah:#sebenernya tampilan ini udah keluar dari list\n",
    "    print(item)"
   ]
  },
  {
   "cell_type": "code",
   "execution_count": 9,
   "metadata": {},
   "outputs": [
    {
     "name": "stdout",
     "output_type": "stream",
     "text": [
      "[]\n",
      "[1, 2, 3]\n",
      "[1, 'string', 3.4, True]\n",
      "['mouse', [8, 4, 6], ['a']]\n"
     ]
    }
   ],
   "source": [
    "my_list = []#empty list ini berguna kalau nanti ada append\n",
    "print(my_list)\n",
    "\n",
    "my_list1=[1,2,3]#list integer\n",
    "print(my_list1)\n",
    "\n",
    "my_list2=[1,\"string\",3.4,True]#list of mix data\n",
    "print(my_list2)\n",
    "\n",
    "my_list3 = [\"mouse\",[8,4,6],[\"a\"]]#list dapat memuat list didalamnya\n",
    "print(my_list3)"
   ]
  },
  {
   "cell_type": "markdown",
   "metadata": {},
   "source": [
    "# access element"
   ]
  },
  {
   "cell_type": "code",
   "execution_count": 11,
   "metadata": {},
   "outputs": [
    {
     "data": {
      "text/plain": [
       "True"
      ]
     },
     "execution_count": 11,
     "metadata": {},
     "output_type": "execute_result"
    }
   ],
   "source": [
    "#akses mylist2 nilai true\n",
    "my_list2[3]"
   ]
  },
  {
   "cell_type": "code",
   "execution_count": 15,
   "metadata": {},
   "outputs": [
    {
     "name": "stdout",
     "output_type": "stream",
     "text": [
      "['mangga', 'apel']\n",
      "['jeruk', 'mangga', 'apel']\n",
      "['apel']\n"
     ]
    }
   ],
   "source": [
    "#akses yang buah\n",
    "print(buah[1:])#ngakses nilai elemen 1 sampai selesai\n",
    "print(buah[:3])#ngakses seluruh sampai list kedua\n",
    "print(buah[2:4])#untuk mengakses element yang mulai dari 2"
   ]
  },
  {
   "cell_type": "code",
   "execution_count": 17,
   "metadata": {},
   "outputs": [
    {
     "data": {
      "text/plain": [
       "8"
      ]
     },
     "execution_count": 17,
     "metadata": {},
     "output_type": "execute_result"
    }
   ],
   "source": [
    "#ngambil elemen\n",
    "my_list3[0]\n",
    "#akses elemen dengan index pada nested list\n",
    "my_list3[1][0]#untuk akses elemen ke 1 yaitu[8,4,6]serta index ke 0 di dalam [8,4,6]"
   ]
  },
  {
   "cell_type": "code",
   "execution_count": 19,
   "metadata": {},
   "outputs": [
    {
     "data": {
      "text/plain": [
       "3"
      ]
     },
     "execution_count": 19,
     "metadata": {},
     "output_type": "execute_result"
    }
   ],
   "source": [
    "len(my_list3)#ngakses jumlah yang ada di dalam list"
   ]
  },
  {
   "cell_type": "code",
   "execution_count": 22,
   "metadata": {},
   "outputs": [
    {
     "data": {
      "text/plain": [
       "[8, 4, 6]"
      ]
     },
     "execution_count": 22,
     "metadata": {},
     "output_type": "execute_result"
    }
   ],
   "source": [
    "my_list3[1][0:]"
   ]
  },
  {
   "cell_type": "code",
   "execution_count": 23,
   "metadata": {},
   "outputs": [
    {
     "data": {
      "text/plain": [
       "3"
      ]
     },
     "execution_count": 23,
     "metadata": {},
     "output_type": "execute_result"
    }
   ],
   "source": [
    "len(my_list3[1])#untuk ngakses panjang list yg ada di dalam list"
   ]
  },
  {
   "cell_type": "code",
   "execution_count": 28,
   "metadata": {},
   "outputs": [
    {
     "name": "stdout",
     "output_type": "stream",
     "text": [
      "i\n",
      "l\n"
     ]
    }
   ],
   "source": [
    "#akses element dengan negative indexing\n",
    "my_listx=[\"l\",\"u\",\"i\",\"g\",\"i\"]\n",
    "print(my_listx[-1])#akses dimulai dari 1 paling belakang\n",
    "print(my_listx[-5])"
   ]
  },
  {
   "cell_type": "code",
   "execution_count": 25,
   "metadata": {},
   "outputs": [],
   "source": [
    "buah_asik = [\"jeruk\",\"mangga\",\"nangka\",\"kelapa\"]"
   ]
  },
  {
   "cell_type": "code",
   "execution_count": 26,
   "metadata": {},
   "outputs": [],
   "source": [
    "buah_asik[1] = 'rujak'#ganti satu nilai"
   ]
  },
  {
   "cell_type": "code",
   "execution_count": 27,
   "metadata": {},
   "outputs": [
    {
     "name": "stdout",
     "output_type": "stream",
     "text": [
      "['jeruk', 'rujak', 'nangka', 'kelapa']\n"
     ]
    }
   ],
   "source": [
    "print(buah_asik)"
   ]
  },
  {
   "cell_type": "code",
   "execution_count": 31,
   "metadata": {},
   "outputs": [],
   "source": [
    "#ganti dua elemen\n",
    "buah_asik = [\"jeruk\",\"mangga\",\"nangka\",\"kelapa\"]\n",
    "buah_asik[2:4] = [\"durian\",\"manggis\"]#ganti dua nilai "
   ]
  },
  {
   "cell_type": "code",
   "execution_count": 32,
   "metadata": {},
   "outputs": [
    {
     "name": "stdout",
     "output_type": "stream",
     "text": [
      "['jeruk', 'mangga', 'durian', 'manggis']\n"
     ]
    }
   ],
   "source": [
    "print(buah_asik)"
   ]
  },
  {
   "cell_type": "code",
   "execution_count": 36,
   "metadata": {},
   "outputs": [
    {
     "data": {
      "text/plain": [
       "['jeruk']"
      ]
     },
     "execution_count": 36,
     "metadata": {},
     "output_type": "execute_result"
    }
   ],
   "source": [
    "buah_asik[0:1]"
   ]
  },
  {
   "cell_type": "code",
   "execution_count": 38,
   "metadata": {},
   "outputs": [],
   "source": [
    "#ngakses nilai jeruk dan durian\n",
    "buah_asik[0],buah_asik[2] = [\"srikaya\",\"duku\"]"
   ]
  },
  {
   "cell_type": "code",
   "execution_count": 39,
   "metadata": {},
   "outputs": [
    {
     "name": "stdout",
     "output_type": "stream",
     "text": [
      "['srikaya', 'mangga', 'duku', 'manggis']\n"
     ]
    }
   ],
   "source": [
    "print(buah_asik)"
   ]
  },
  {
   "cell_type": "code",
   "execution_count": 40,
   "metadata": {},
   "outputs": [
    {
     "data": {
      "text/plain": [
       "['jeruk', 'apel']"
      ]
     },
     "execution_count": 40,
     "metadata": {},
     "output_type": "execute_result"
    }
   ],
   "source": [
    "buah_asik[::2]#ngakses nilai jeruk dan apel"
   ]
  },
  {
   "cell_type": "code",
   "execution_count": 42,
   "metadata": {},
   "outputs": [],
   "source": [
    "buah_asik[::2] = [\"jeruk\",\"apel\"]#ganti elemen ke 0 dan 2"
   ]
  },
  {
   "cell_type": "code",
   "execution_count": 43,
   "metadata": {},
   "outputs": [
    {
     "name": "stdout",
     "output_type": "stream",
     "text": [
      "['jeruk', 'mangga', 'apel', 'manggis']\n"
     ]
    }
   ],
   "source": [
    "print(buah_asik)"
   ]
  },
  {
   "cell_type": "code",
   "execution_count": 45,
   "metadata": {},
   "outputs": [
    {
     "data": {
      "text/plain": [
       "['jeruk', 'manggis']"
      ]
     },
     "execution_count": 45,
     "metadata": {},
     "output_type": "execute_result"
    }
   ],
   "source": [
    "buah_asik[::3]#:: ini tuh kaya nyekip sampe elemen yang kita ambil"
   ]
  },
  {
   "cell_type": "code",
   "execution_count": 46,
   "metadata": {},
   "outputs": [
    {
     "data": {
      "text/plain": [
       "['mangga', 'apel', 'manggis']"
      ]
     },
     "execution_count": 46,
     "metadata": {},
     "output_type": "execute_result"
    }
   ],
   "source": [
    "buah_asik[1::]"
   ]
  },
  {
   "cell_type": "markdown",
   "metadata": {},
   "source": [
    "# list append and pop"
   ]
  },
  {
   "cell_type": "code",
   "execution_count": 52,
   "metadata": {},
   "outputs": [
    {
     "name": "stdout",
     "output_type": "stream",
     "text": [
      "['jeruk', 'nanas', 'apel', 'mangga', 'manggis']\n"
     ]
    }
   ],
   "source": [
    "buah_baru1=[\"jeruk\",\"nanas\",\"apel\",\"mangga\"]\n",
    "\n",
    "buah_baru1.append(\"manggis\")#append cuman bisa menambahkan di akhir dan hanya satu argumen\n",
    "print(buah_baru1)"
   ]
  },
  {
   "cell_type": "code",
   "execution_count": 53,
   "metadata": {},
   "outputs": [
    {
     "data": {
      "text/plain": [
       "'manggis'"
      ]
     },
     "execution_count": 53,
     "metadata": {},
     "output_type": "execute_result"
    }
   ],
   "source": [
    "buah_baru1.pop()#ngeremove nilai dari yang paling belakang"
   ]
  },
  {
   "cell_type": "code",
   "execution_count": 54,
   "metadata": {},
   "outputs": [
    {
     "name": "stdout",
     "output_type": "stream",
     "text": [
      "['jeruk', 'nanas', 'apel', 'mangga']\n"
     ]
    }
   ],
   "source": [
    "print(buah_baru1)"
   ]
  },
  {
   "cell_type": "code",
   "execution_count": 55,
   "metadata": {},
   "outputs": [],
   "source": [
    "buah_baru1.extend([\"duren\",\"manggis\"])#menambah elemen lebih dari 1, dan letaknya di paling terakhir"
   ]
  },
  {
   "cell_type": "code",
   "execution_count": 56,
   "metadata": {},
   "outputs": [
    {
     "name": "stdout",
     "output_type": "stream",
     "text": [
      "['jeruk', 'nanas', 'apel', 'mangga', 'duren', 'manggis']\n"
     ]
    }
   ],
   "source": [
    "print(buah_baru1)"
   ]
  },
  {
   "cell_type": "code",
   "execution_count": 57,
   "metadata": {},
   "outputs": [
    {
     "data": {
      "text/plain": [
       "'jeruk'"
      ]
     },
     "execution_count": 57,
     "metadata": {},
     "output_type": "execute_result"
    }
   ],
   "source": [
    "buah_baru1.pop(0)#buat ngehapus indeks tertentu"
   ]
  },
  {
   "cell_type": "code",
   "execution_count": 58,
   "metadata": {},
   "outputs": [
    {
     "name": "stdout",
     "output_type": "stream",
     "text": [
      "['nanas', 'apel', 'mangga', 'duren', 'manggis']\n"
     ]
    }
   ],
   "source": [
    "print(buah_baru1)"
   ]
  },
  {
   "cell_type": "code",
   "execution_count": 59,
   "metadata": {},
   "outputs": [
    {
     "name": "stdout",
     "output_type": "stream",
     "text": [
      "['nanas', 'apel', 'mangga', 'duren', 'manggis', ['kelapa', 'duren']]\n"
     ]
    }
   ],
   "source": [
    "buah_baru1.append([\"kelapa\",\"duren\"])#append juga bisa menambahkan list di dalam list\n",
    "print(buah_baru1)"
   ]
  },
  {
   "cell_type": "code",
   "execution_count": 64,
   "metadata": {},
   "outputs": [],
   "source": [
    "odd= [1,2,3]\n",
    "odd = odd+[7,9,11]#cara kerja pake tambah bakal menghasilkan yang sama kaya extend"
   ]
  },
  {
   "cell_type": "code",
   "execution_count": 65,
   "metadata": {},
   "outputs": [
    {
     "name": "stdout",
     "output_type": "stream",
     "text": [
      "[1, 2, 3, 7, 9, 11]\n"
     ]
    }
   ],
   "source": [
    "print(odd)"
   ]
  },
  {
   "cell_type": "code",
   "execution_count": 66,
   "metadata": {},
   "outputs": [
    {
     "name": "stdout",
     "output_type": "stream",
     "text": [
      "['a', 'n', 'i', 'k']\n"
     ]
    }
   ],
   "source": [
    "#penambahan list word\n",
    "word = [\"n\",\"i\",\"k\"]\n",
    "word = [\"a\"] + word\n",
    "print(word)"
   ]
  },
  {
   "cell_type": "code",
   "execution_count": 67,
   "metadata": {},
   "outputs": [
    {
     "name": "stdout",
     "output_type": "stream",
     "text": [
      "[100, 'a', 'n', 'i', 'k']\n"
     ]
    }
   ],
   "source": [
    "word = [100] + word\n",
    "print(word)"
   ]
  },
  {
   "cell_type": "code",
   "execution_count": 68,
   "metadata": {},
   "outputs": [],
   "source": [
    "#buat nambah extend yang lebih dari dua var, pake tanda tambah\n",
    "word.extend([\"a\"]+[\"b\"]+[\"c\"])"
   ]
  },
  {
   "cell_type": "code",
   "execution_count": 69,
   "metadata": {},
   "outputs": [
    {
     "name": "stdout",
     "output_type": "stream",
     "text": [
      "[100, 'a', 'n', 'i', 'k', 'a', 'b', 'c']\n"
     ]
    }
   ],
   "source": [
    "print(word)"
   ]
  },
  {
   "cell_type": "code",
   "execution_count": 70,
   "metadata": {},
   "outputs": [
    {
     "name": "stdout",
     "output_type": "stream",
     "text": [
      "[1, 1, 1]\n"
     ]
    }
   ],
   "source": [
    "print([1]*3)"
   ]
  },
  {
   "cell_type": "code",
   "execution_count": 73,
   "metadata": {},
   "outputs": [
    {
     "name": "stdout",
     "output_type": "stream",
     "text": [
      "[1, 2, 3, 7, 9, 11]\n"
     ]
    }
   ],
   "source": [
    "print(odd)"
   ]
  },
  {
   "cell_type": "code",
   "execution_count": 74,
   "metadata": {},
   "outputs": [],
   "source": [
    "#menambahkan elemen di dalam list\n",
    "odd.insert(1,3)#parameter pertama (1)menunjukan di index berapa nilai tersebut pengen ditambah\n",
    "#parameter kedua itu nilainya"
   ]
  },
  {
   "cell_type": "code",
   "execution_count": 75,
   "metadata": {},
   "outputs": [
    {
     "name": "stdout",
     "output_type": "stream",
     "text": [
      "[1, 3, 2, 3, 7, 9, 11]\n"
     ]
    }
   ],
   "source": [
    "print(odd)"
   ]
  },
  {
   "cell_type": "code",
   "execution_count": 77,
   "metadata": {},
   "outputs": [],
   "source": [
    "#nambahin list di parameter\n",
    "odd.insert(2,[3,4])"
   ]
  },
  {
   "cell_type": "code",
   "execution_count": 78,
   "metadata": {},
   "outputs": [
    {
     "name": "stdout",
     "output_type": "stream",
     "text": [
      "[1, 3, [3, 4], 2, 3, 7, 9, 11]\n"
     ]
    }
   ],
   "source": [
    "print(odd)"
   ]
  },
  {
   "cell_type": "code",
   "execution_count": 79,
   "metadata": {},
   "outputs": [
    {
     "name": "stdout",
     "output_type": "stream",
     "text": [
      "[1, 3, 5, 7, 9]\n"
     ]
    }
   ],
   "source": [
    "x= [1,3,9]\n",
    "x[2:2] = [5,7]#masukin nilai 5,7 di index kedua, index nya itu pas 2:2\n",
    "print(x)"
   ]
  },
  {
   "cell_type": "code",
   "execution_count": 80,
   "metadata": {},
   "outputs": [
    {
     "name": "stdout",
     "output_type": "stream",
     "text": [
      "['p', 'r', 'm']\n"
     ]
    }
   ],
   "source": [
    "#ngedelet elemen dr list\n",
    "list_new= ['p','r','o','m']\n",
    "del list_new[2]\n",
    "print(list_new)"
   ]
  },
  {
   "cell_type": "code",
   "execution_count": 81,
   "metadata": {},
   "outputs": [
    {
     "name": "stdout",
     "output_type": "stream",
     "text": [
      "['m']\n"
     ]
    }
   ],
   "source": [
    "#delete multiple item\n",
    "del list_new[0:2]#2 nya minus 1\n",
    "print(list_new)"
   ]
  },
  {
   "cell_type": "code",
   "execution_count": null,
   "metadata": {},
   "outputs": [],
   "source": [
    "del list_new#ngehapus variabel"
   ]
  },
  {
   "cell_type": "code",
   "execution_count": 82,
   "metadata": {},
   "outputs": [
    {
     "name": "stdout",
     "output_type": "stream",
     "text": [
      "['u', 'r', 'n', 'o', 'm', 'o']\n"
     ]
    }
   ],
   "source": [
    "list_uhuy = ['p','u','r','n','o','m','o']\n",
    "list_uhuy.remove(\"p\")#remove menggunakan nilai dr list\n",
    "print(list_uhuy)"
   ]
  },
  {
   "cell_type": "code",
   "execution_count": 83,
   "metadata": {},
   "outputs": [
    {
     "name": "stdout",
     "output_type": "stream",
     "text": [
      "['r', 'n', 'o', 'm', 'o']\n"
     ]
    }
   ],
   "source": [
    "list_uhuy.pop(0)#menghapus dengan masukan nilai indexnya\n",
    "print(list_uhuy)"
   ]
  },
  {
   "cell_type": "code",
   "execution_count": 86,
   "metadata": {},
   "outputs": [],
   "source": [
    "list_uhuy.clear()#ngehapus semua element"
   ]
  },
  {
   "cell_type": "code",
   "execution_count": 87,
   "metadata": {},
   "outputs": [
    {
     "name": "stdout",
     "output_type": "stream",
     "text": [
      "[]\n"
     ]
    }
   ],
   "source": [
    "print(list_uhuy)"
   ]
  },
  {
   "cell_type": "code",
   "execution_count": 88,
   "metadata": {},
   "outputs": [
    {
     "name": "stdout",
     "output_type": "stream",
     "text": [
      "['b', 'c', 'd', 'e', 'a']\n"
     ]
    }
   ],
   "source": [
    "huruf=['a','b','c','d','e','a']\n",
    "huruf.remove('a')\n",
    "print(huruf)"
   ]
  },
  {
   "cell_type": "code",
   "execution_count": 89,
   "metadata": {},
   "outputs": [],
   "source": [
    "huruf.insert(0,\"a\")"
   ]
  },
  {
   "cell_type": "code",
   "execution_count": 90,
   "metadata": {},
   "outputs": [
    {
     "name": "stdout",
     "output_type": "stream",
     "text": [
      "['a', 'b', 'c', 'd', 'e', 'a']\n"
     ]
    }
   ],
   "source": [
    "print(huruf)"
   ]
  },
  {
   "cell_type": "code",
   "execution_count": 91,
   "metadata": {},
   "outputs": [],
   "source": [
    "#ngeapus make loop\n",
    "while \"a\" in huruf:\n",
    "    while \"b\" in huruf:\n",
    "        huruf.remove(\"b\")\n",
    "    huruf.remove(\"a\")"
   ]
  },
  {
   "cell_type": "code",
   "execution_count": 92,
   "metadata": {},
   "outputs": [
    {
     "name": "stdout",
     "output_type": "stream",
     "text": [
      "['c', 'd', 'e']\n"
     ]
    }
   ],
   "source": [
    "print(huruf)"
   ]
  },
  {
   "cell_type": "code",
   "execution_count": 94,
   "metadata": {},
   "outputs": [
    {
     "name": "stdout",
     "output_type": "stream",
     "text": [
      "['sekar', 'natval', 'adib']\n"
     ]
    }
   ],
   "source": [
    "#ngeapus pakai for\n",
    "nama_nama = [\"teguh\",\"sekar\",'natval','adib']\n",
    "for nama in nama_nama:\n",
    "    if nama ==\"teguh\":\n",
    "        nama_nama.remove(\"teguh\")\n",
    "print(nama_nama)"
   ]
  },
  {
   "cell_type": "code",
   "execution_count": 98,
   "metadata": {},
   "outputs": [
    {
     "name": "stdout",
     "output_type": "stream",
     "text": [
      "[1, 2, 3, 4, 5, 6, 1, 2, 3, 3]\n"
     ]
    }
   ],
   "source": [
    "#quiz fariz\n",
    "list_mencoba = [1,2,3,4,5,6,1,2,3,3]\n",
    "print(list_mencoba)"
   ]
  },
  {
   "cell_type": "code",
   "execution_count": 99,
   "metadata": {},
   "outputs": [
    {
     "name": "stdout",
     "output_type": "stream",
     "text": [
      "[1, 2, 4, 5, 6, 1, 2]\n"
     ]
    }
   ],
   "source": [
    "#nyoba count kalo lebih dr 2 diapus\n",
    "for i in list_mencoba:\n",
    "    if list_mencoba.count(i)>2:\n",
    "        while i in list_mencoba:\n",
    "            list_mencoba.remove(i)\n",
    "print(list_mencoba)"
   ]
  },
  {
   "cell_type": "markdown",
   "metadata": {},
   "source": [
    "# list comperhasion"
   ]
  },
  {
   "cell_type": "code",
   "execution_count": 100,
   "metadata": {},
   "outputs": [
    {
     "name": "stdout",
     "output_type": "stream",
     "text": [
      "[0, 1, 2, 3, 4]\n"
     ]
    }
   ],
   "source": [
    "#list comperhasion\n",
    "alist = [i for i in range(5)]#jalanin loop nya di dalem list\n",
    "print(alist)"
   ]
  },
  {
   "cell_type": "code",
   "execution_count": 101,
   "metadata": {},
   "outputs": [
    {
     "name": "stdout",
     "output_type": "stream",
     "text": [
      "0\n",
      "1\n",
      "2\n",
      "3\n",
      "4\n"
     ]
    }
   ],
   "source": [
    "for i in range(5):\n",
    "    print(i)"
   ]
  },
  {
   "cell_type": "code",
   "execution_count": 103,
   "metadata": {},
   "outputs": [
    {
     "name": "stdout",
     "output_type": "stream",
     "text": [
      "[1, 4, 9, 16, 25]\n"
     ]
    }
   ],
   "source": [
    "blist = [1,2,3,4,5]\n",
    "yourlist = [item ** 2 for item in blist]\n",
    "print(yourlist)"
   ]
  },
  {
   "cell_type": "code",
   "execution_count": 105,
   "metadata": {},
   "outputs": [
    {
     "name": "stdout",
     "output_type": "stream",
     "text": [
      "[10, 2]\n"
     ]
    }
   ],
   "source": [
    "clist = [5,2,1,4,20]#ngeksekusi yang gak abis dibagi dua aja\n",
    "shitlist = [item * 2 for item in clist if item%2==1]\n",
    "print(shitlist)"
   ]
  },
  {
   "cell_type": "code",
   "execution_count": 106,
   "metadata": {},
   "outputs": [
    {
     "name": "stdout",
     "output_type": "stream",
     "text": [
      "[10]\n"
     ]
    }
   ],
   "source": [
    "alist = [4,2,8,6,5]\n",
    "blist = [num*2 \n",
    "         for num in alist \n",
    "         if num%2==1]\n",
    "print(blist)"
   ]
  },
  {
   "cell_type": "markdown",
   "metadata": {},
   "source": [
    "# code quiz"
   ]
  },
  {
   "cell_type": "code",
   "execution_count": 108,
   "metadata": {},
   "outputs": [
    {
     "name": "stdout",
     "output_type": "stream",
     "text": [
      "[10, 20, [300, 400, [5000, 6000], 500], 30, 40]\n"
     ]
    }
   ],
   "source": [
    "#tambahkan nilai 7000 setelah angka 6000\n",
    "list1x =[10,20,[300,400,[5000,6000],500],30,40]\n",
    "print(list1x)"
   ]
  },
  {
   "cell_type": "code",
   "execution_count": 140,
   "metadata": {},
   "outputs": [],
   "source": [
    "list1x[2][2].append(7000)#masukin 2 di depan karena 300,400 itu di index dua, terus itung lagi\n",
    "#5000,6000 itu dimana, ternyata di 2, yaudah, pake append buat ditambahin di belakang"
   ]
  },
  {
   "cell_type": "code",
   "execution_count": 163,
   "metadata": {},
   "outputs": [
    {
     "name": "stdout",
     "output_type": "stream",
     "text": [
      "['a', 'b', ['c', ['d', 'e', ['f', 'g'], 'k'], 'l'], 'm', 'n']\n"
     ]
    }
   ],
   "source": [
    "#tambahlan nested list dengan sublist h,i,j\n",
    "listalfay = ['a','b',['c',['d','e',['f','g'],'k'],'l'],'m','n']\n",
    "print(listalfay)"
   ]
  },
  {
   "cell_type": "code",
   "execution_count": 164,
   "metadata": {},
   "outputs": [],
   "source": [
    "listalfay[2][1][2].extend([\"h\",\"i\",\"j\"])"
   ]
  },
  {
   "cell_type": "code",
   "execution_count": 165,
   "metadata": {},
   "outputs": [
    {
     "name": "stdout",
     "output_type": "stream",
     "text": [
      "['a', 'b', ['c', ['d', 'e', ['f', 'g', 'h', 'i', 'j'], 'k'], 'l'], 'm', 'n']\n"
     ]
    }
   ],
   "source": [
    "print(listalfay)"
   ]
  },
  {
   "cell_type": "code",
   "execution_count": 112,
   "metadata": {},
   "outputs": [],
   "source": [
    "#pangkat 3 nilai pada list\n",
    "xlist = [1,2,3,4,5,6,7]"
   ]
  },
  {
   "cell_type": "code",
   "execution_count": 113,
   "metadata": {},
   "outputs": [],
   "source": [
    "hasillist = [item**3 for item in xlist]"
   ]
  },
  {
   "cell_type": "code",
   "execution_count": 114,
   "metadata": {},
   "outputs": [
    {
     "name": "stdout",
     "output_type": "stream",
     "text": [
      "[1, 8, 27, 64, 125, 216, 343]\n"
     ]
    }
   ],
   "source": [
    "print(hasillist)"
   ]
  },
  {
   "cell_type": "code",
   "execution_count": 115,
   "metadata": {},
   "outputs": [],
   "source": [
    "#sum all the item list in a list\n",
    "sum_list = [1,2,-8]"
   ]
  },
  {
   "cell_type": "code",
   "execution_count": 134,
   "metadata": {},
   "outputs": [],
   "source": [
    "total=0\n",
    "for ele in range(0,len(sum_list)):\n",
    "    total = total+sum_list[ele]"
   ]
  },
  {
   "cell_type": "code",
   "execution_count": 135,
   "metadata": {},
   "outputs": [
    {
     "name": "stdout",
     "output_type": "stream",
     "text": [
      "-5\n"
     ]
    }
   ],
   "source": [
    "print(total)"
   ]
  },
  {
   "cell_type": "code",
   "execution_count": 120,
   "metadata": {},
   "outputs": [],
   "source": [
    "#menghitung rata rata\n",
    "cal_average = [18,25,3,41,5]"
   ]
  },
  {
   "cell_type": "code",
   "execution_count": 138,
   "metadata": {},
   "outputs": [],
   "source": [
    "totals = 0\n",
    "for elemen in range(0,len(cal_average)):\n",
    "    totals=totals+cal_average[elemen]\n",
    "    hasil=totals/len(cal_average)"
   ]
  },
  {
   "cell_type": "code",
   "execution_count": 139,
   "metadata": {},
   "outputs": [
    {
     "name": "stdout",
     "output_type": "stream",
     "text": [
      "18.4\n"
     ]
    }
   ],
   "source": [
    "print(hasil)"
   ]
  },
  {
   "cell_type": "code",
   "execution_count": 166,
   "metadata": {},
   "outputs": [
    {
     "name": "stdout",
     "output_type": "stream",
     "text": [
      "[40, 100, 1, 5, 25, 10]\n"
     ]
    }
   ],
   "source": [
    "#solve it 1\n",
    "xy = [40,100,1,5,25,10]\n",
    "print(xy)"
   ]
  },
  {
   "cell_type": "code",
   "execution_count": 172,
   "metadata": {},
   "outputs": [],
   "source": [
    "for elemente in range(len(xy)):\n",
    "    for ini in range(elemente+1,len(xy)):\n",
    "        if xy[elemente]>xy[ini]:\n",
    "            xy[elemente],xy[ini]=xy[ini],xy[elemente]"
   ]
  },
  {
   "cell_type": "code",
   "execution_count": 173,
   "metadata": {},
   "outputs": [
    {
     "name": "stdout",
     "output_type": "stream",
     "text": [
      "[1, 5, 10, 25, 40, 100]\n"
     ]
    }
   ],
   "source": [
    "print(xy)"
   ]
  },
  {
   "cell_type": "code",
   "execution_count": 174,
   "metadata": {},
   "outputs": [
    {
     "data": {
      "text/plain": [
       "False"
      ]
     },
     "execution_count": 174,
     "metadata": {},
     "output_type": "execute_result"
    }
   ],
   "source": [
    "4 in xy"
   ]
  },
  {
   "cell_type": "code",
   "execution_count": 176,
   "metadata": {},
   "outputs": [
    {
     "name": "stdout",
     "output_type": "stream",
     "text": [
      "a\n"
     ]
    }
   ],
   "source": [
    "nama=\"fariz purnomo\"\n",
    "print (nama[1])"
   ]
  },
  {
   "cell_type": "code",
   "execution_count": 180,
   "metadata": {},
   "outputs": [],
   "source": [
    "nama = [\"widodo\",1,2,3]"
   ]
  },
  {
   "cell_type": "code",
   "execution_count": 183,
   "metadata": {},
   "outputs": [],
   "source": [
    "data_user = [\n",
    "    {\"nik\": 5116100133,\"nama\":\"fariz\"},\n",
    "    {\"nik\": 5116100140,\"nama\":\"alam\"}\n",
    "]"
   ]
  },
  {
   "cell_type": "code",
   "execution_count": 187,
   "metadata": {},
   "outputs": [
    {
     "data": {
      "text/plain": [
       "{'nik': 5116100140, 'nama': 'alam'}"
      ]
     },
     "execution_count": 187,
     "metadata": {},
     "output_type": "execute_result"
    }
   ],
   "source": [
    "data_user[1]"
   ]
  },
  {
   "cell_type": "code",
   "execution_count": 188,
   "metadata": {},
   "outputs": [
    {
     "data": {
      "text/plain": [
       "'alam'"
      ]
     },
     "execution_count": 188,
     "metadata": {},
     "output_type": "execute_result"
    }
   ],
   "source": [
    "data_user[1]['nama']"
   ]
  },
  {
   "cell_type": "code",
   "execution_count": 189,
   "metadata": {},
   "outputs": [],
   "source": [
    "data3= nama +data_user"
   ]
  },
  {
   "cell_type": "code",
   "execution_count": 190,
   "metadata": {},
   "outputs": [
    {
     "name": "stdout",
     "output_type": "stream",
     "text": [
      "['widodo', 1, 2, 3, {'nik': 5116100133, 'nama': 'fariz'}, {'nik': 5116100140, 'nama': 'alam'}]\n"
     ]
    }
   ],
   "source": [
    "print(data3)"
   ]
  },
  {
   "cell_type": "code",
   "execution_count": 192,
   "metadata": {},
   "outputs": [
    {
     "data": {
      "text/plain": [
       "['widodo', 1, 2, 3, 'widodo', 1, 2, 3]"
      ]
     },
     "execution_count": 192,
     "metadata": {},
     "output_type": "execute_result"
    }
   ],
   "source": [
    "nama*2"
   ]
  },
  {
   "cell_type": "code",
   "execution_count": 193,
   "metadata": {},
   "outputs": [
    {
     "name": "stdout",
     "output_type": "stream",
     "text": [
      "namanya itu widodo\n",
      "namanya itu 1\n",
      "namanya itu 2\n",
      "namanya itu 3\n"
     ]
    }
   ],
   "source": [
    "for elemens in nama:\n",
    "    print(f\"namanya itu {elemens}\")"
   ]
  },
  {
   "cell_type": "code",
   "execution_count": 194,
   "metadata": {},
   "outputs": [
    {
     "data": {
      "text/plain": [
       "['widodo', 1, 2, 3]"
      ]
     },
     "execution_count": 194,
     "metadata": {},
     "output_type": "execute_result"
    }
   ],
   "source": [
    "nama"
   ]
  },
  {
   "cell_type": "code",
   "execution_count": 195,
   "metadata": {},
   "outputs": [],
   "source": [
    "data_nama=nama.pop(2)"
   ]
  },
  {
   "cell_type": "code",
   "execution_count": 196,
   "metadata": {},
   "outputs": [
    {
     "data": {
      "text/plain": [
       "2"
      ]
     },
     "execution_count": 196,
     "metadata": {},
     "output_type": "execute_result"
    }
   ],
   "source": [
    "data_nama"
   ]
  },
  {
   "cell_type": "code",
   "execution_count": 207,
   "metadata": {},
   "outputs": [
    {
     "data": {
      "text/plain": [
       "[{'nik': 5116100133, 'nama': 'fariz'}, {'nik': 5116100140, 'nama': 'alam'}]"
      ]
     },
     "execution_count": 207,
     "metadata": {},
     "output_type": "execute_result"
    }
   ],
   "source": [
    "data_user"
   ]
  },
  {
   "cell_type": "code",
   "execution_count": null,
   "metadata": {},
   "outputs": [],
   "source": [
    "import time\n"
   ]
  }
 ],
 "metadata": {
  "kernelspec": {
   "display_name": "Python 3",
   "language": "python",
   "name": "python3"
  },
  "language_info": {
   "codemirror_mode": {
    "name": "ipython",
    "version": 3
   },
   "file_extension": ".py",
   "mimetype": "text/x-python",
   "name": "python",
   "nbconvert_exporter": "python",
   "pygments_lexer": "ipython3",
   "version": "3.6.8"
  }
 },
 "nbformat": 4,
 "nbformat_minor": 2
}
