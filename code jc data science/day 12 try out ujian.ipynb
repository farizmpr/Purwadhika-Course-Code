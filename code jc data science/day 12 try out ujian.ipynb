{
 "cells": [
  {
   "cell_type": "code",
   "execution_count": null,
   "metadata": {},
   "outputs": [],
   "source": [
    "## SOAL PERTAMA \n",
    "# BUATLAH PROGRAM MENGGUNAKAN IF ELSE (conditional) untuk menentukan\n",
    "# apakah suatu bilangan tergolong bilangan PRIMA atau BUKAN\n",
    "\n",
    "# SOAL KEDUA\n",
    "# Buatlah function untuk mengganti/duplikasi built-in function REPLACE() pada data string!\n",
    "# Output yang diharapkan: \n",
    "# data = 'Visualisasi' \n",
    "# ganti(data, 'V', 'P') =====> keluarnya = 'Pisualisasi'\n",
    "\n",
    "# SOAL KETIGA (TAKE HOME)\n",
    "## Buat function untuk membalikkan posisi list\n",
    "# data = [['a', 'b'], ['e', 'f' ]]\n",
    "\n",
    "# menjadi/output yang diharapkan:\n",
    "# data_mutar = [['e', 'a'], ['f', 'b' ]]\n"
   ]
  },
  {
   "cell_type": "code",
   "execution_count": 57,
   "metadata": {},
   "outputs": [
    {
     "name": "stdout",
     "output_type": "stream",
     "text": [
      "angka ini tidak prima\n"
     ]
    }
   ],
   "source": [
    "#soal pertama pake fungsi\n",
    "def primaangka(angka):\n",
    "    if angka==2 or angka==3:\n",
    "        print(\"angka ini prima\")\n",
    "    elif angka%2==0 or angka%3==0 or angka<=1:\n",
    "        print (\"angka ini tidak prima\")\n",
    "primaangka(1)"
   ]
  },
  {
   "cell_type": "code",
   "execution_count": 59,
   "metadata": {},
   "outputs": [
    {
     "name": "stdout",
     "output_type": "stream",
     "text": [
      "1\n",
      "angka ini tidak prima\n"
     ]
    }
   ],
   "source": [
    "angka=int(input())\n",
    "if angka==2 or angka==3:\n",
    "    print(\"angka ini prima\")\n",
    "elif angka%2==0 or angka%3==0 or angka<=1:\n",
    "    print (\"angka ini tidak prima\")"
   ]
  },
  {
   "cell_type": "code",
   "execution_count": 113,
   "metadata": {},
   "outputs": [
    {
     "name": "stdout",
     "output_type": "stream",
     "text": [
      "sisualisasi\n"
     ]
    }
   ],
   "source": [
    "#soal kedua \n",
    "datakata='Visualisasi'\n",
    "def penggantianKatas(a,b,c):\n",
    "    hasilAkhir=[]\n",
    "    for j in a:\n",
    "        if j.lower() == b.lower():\n",
    "            j=c\n",
    "        hasilAkhir.append(j)\n",
    "    print(''.join(hasilAkhir))\n",
    "penggantianKatas(datakata,'v','s')"
   ]
  },
  {
   "cell_type": "code",
   "execution_count": 117,
   "metadata": {},
   "outputs": [
    {
     "name": "stdout",
     "output_type": "stream",
     "text": [
      "Visualisasi kenaoa ini\n"
     ]
    }
   ],
   "source": [
    "datakata='Visualisasi kenapa ini'\n",
    "def penggantianKatass(a,b,c):\n",
    "    hasilAkhir=''\n",
    "    for j in a:\n",
    "        if j.lower() == b.lower():\n",
    "            j=c\n",
    "        hasilAkhir+=j\n",
    "    print(''.join(hasilAkhir))\n",
    "penggantianKatass(datakata,'p','o')"
   ]
  },
  {
   "cell_type": "code",
   "execution_count": 120,
   "metadata": {},
   "outputs": [
    {
     "name": "stdout",
     "output_type": "stream",
     "text": [
      "[['e', 'a'], ['f', 'b']]\n"
     ]
    }
   ],
   "source": [
    "#soal ketiga\n",
    "data = [['a', 'b'], ['e', 'f' ]]\n",
    "def tranpose(yourlist):\n",
    "    data_mutar=[[],[]]\n",
    "    for i in range(len(yourlist)):\n",
    "        for j in range(len(yourlist)):\n",
    "            data_mutar[i].append(yourlist[(len(yourlist)-1)-j][i])#append [1][0]->[0][0]\n",
    "    return data_mutar\n",
    "print(tranpose(data))"
   ]
  },
  {
   "cell_type": "code",
   "execution_count": 121,
   "metadata": {},
   "outputs": [
    {
     "data": {
      "text/plain": [
       "[['e', 'a'], ['f', 'b']]"
      ]
     },
     "execution_count": 121,
     "metadata": {},
     "output_type": "execute_result"
    }
   ],
   "source": [
    "#soal ketiga mas alam\n",
    "def data_mutar(datanya):\n",
    "    temp1=datanya[0][0]\n",
    "    datanya[0][0]=datanya[0][1]\n",
    "    datanya[0][1]=temp1\n",
    "    \n",
    "    temp2=datanya[1][0]\n",
    "    datanya[1][0]=datanya[1][1]\n",
    "    datanya[1][1]=temp2\n",
    "    \n",
    "    temp3=datanya[0][0]\n",
    "    datanya[0][0]=datanya[1][1]\n",
    "    datanya[1][1]=temp3\n",
    "    return datanya\n",
    "data_mutar([['a', 'b'], ['e', 'f' ]])"
   ]
  },
  {
   "cell_type": "markdown",
   "metadata": {},
   "source": [
    "# soal hackerrank"
   ]
  },
  {
   "cell_type": "code",
   "execution_count": 105,
   "metadata": {},
   "outputs": [
    {
     "name": "stdout",
     "output_type": "stream",
     "text": [
      "2\n",
      "3\n",
      "5\n"
     ]
    }
   ],
   "source": [
    "#soal satu\n",
    "def solveMeFirst(a,b):\n",
    "    # Hint: Type return a+b below\n",
    "    result=a+b\n",
    "    return result\n",
    "\n",
    "num1 = int(input())\n",
    "num2 = int(input())\n",
    "res = solveMeFirst(num1,num2)\n",
    "print(res)\n"
   ]
  },
  {
   "cell_type": "code",
   "execution_count": 106,
   "metadata": {},
   "outputs": [
    {
     "name": "stdout",
     "output_type": "stream",
     "text": [
      "14\n"
     ]
    }
   ],
   "source": [
    "#simple array\n",
    "#ada array isinya 2,3,4,5 outputnya itu penjumlahan\n",
    "\n",
    "def angkasimple(angka):\n",
    "    jumlah=0\n",
    "    for angkas in angka:\n",
    "        jumlah+=angkas\n",
    "    print(jumlah)\n",
    "perangkaan=[2,3,4,5]\n",
    "angkasimple(perangkaan)"
   ]
  },
  {
   "cell_type": "code",
   "execution_count": null,
   "metadata": {},
   "outputs": [],
   "source": []
  }
 ],
 "metadata": {
  "kernelspec": {
   "display_name": "Python 3",
   "language": "python",
   "name": "python3"
  },
  "language_info": {
   "codemirror_mode": {
    "name": "ipython",
    "version": 3
   },
   "file_extension": ".py",
   "mimetype": "text/x-python",
   "name": "python",
   "nbconvert_exporter": "python",
   "pygments_lexer": "ipython3",
   "version": "3.6.8"
  }
 },
 "nbformat": 4,
 "nbformat_minor": 2
}
