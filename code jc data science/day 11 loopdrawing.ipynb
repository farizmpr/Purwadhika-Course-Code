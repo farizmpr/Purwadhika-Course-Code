{
 "cells": [
  {
   "cell_type": "code",
   "execution_count": 1,
   "metadata": {},
   "outputs": [
    {
     "name": "stdout",
     "output_type": "stream",
     "text": [
      " *  *  *  *  * \n"
     ]
    }
   ],
   "source": [
    "teks=''\n",
    "for i in range(0,5):#pengulangan perintah dibawah ini sebanyak jumlah item di range 0-5\n",
    "    teks+=\" * \"\n",
    "print(teks)"
   ]
  },
  {
   "cell_type": "code",
   "execution_count": 3,
   "metadata": {},
   "outputs": [
    {
     "name": "stdout",
     "output_type": "stream",
     "text": [
      " * \n",
      " * \n",
      " * \n",
      " * \n",
      " * \n",
      "\n"
     ]
    }
   ],
   "source": [
    "teks2=''\n",
    "for i in range(0,5):#looping sebanyak range(0,5)\n",
    "    teks2+=\" * \\n\"#teks kosong akan ditambahkan '*\\n' sebanyak i (5 kali), '\\n' = ganti baris\n",
    "print(teks2)"
   ]
  },
  {
   "cell_type": "code",
   "execution_count": 6,
   "metadata": {},
   "outputs": [
    {
     "name": "stdout",
     "output_type": "stream",
     "text": [
      "*****\n",
      "*****\n",
      "*****\n",
      "*****\n",
      "*****\n",
      "\n"
     ]
    }
   ],
   "source": [
    "teks3=\"\"#variabel dengan nama teks yang isinya string kosong\n",
    "for i in range(0,5):#pengulangan printah sebanyak jumlah item di range 0-5 \n",
    "    for item in range(0,5):#pengulangan printah sebanyak jumlah item di range 0-5 \n",
    "        teks3+=\"*\"\n",
    "    teks3+=\"\\n\"\n",
    "print(teks3)"
   ]
  },
  {
   "cell_type": "code",
   "execution_count": 31,
   "metadata": {},
   "outputs": [
    {
     "name": "stdout",
     "output_type": "stream",
     "text": [
      " * \n",
      " *  * \n",
      " *  *  * \n",
      " *  *  *  * \n",
      " *  *  *  *  * \n",
      "\n"
     ]
    }
   ],
   "source": [
    "#loop drawing segitiga\n",
    "teks4=\"\"\n",
    "for j in range(0,5):#ini kaya bikin kotak sebanyak lima kebawah tapi, pas dilima stop\n",
    "    #------1\n",
    "    #------2\n",
    "    #------3\n",
    "    #------4\n",
    "    #------5\n",
    "    for i in range(0,j+1):#kan segitiga dimulainya dari 0 terus i ditambah satu jadi keluarnya cuman satu bintang\n",
    "        teks4+=\" * \"\n",
    "    teks4+=\"\\n\"\n",
    "print(teks4)"
   ]
  },
  {
   "cell_type": "code",
   "execution_count": 55,
   "metadata": {},
   "outputs": [
    {
     "name": "stdout",
     "output_type": "stream",
     "text": [
      " *  *  *  *  * \n",
      " *  *  *  * \n",
      " *  *  * \n",
      " *  * \n",
      " * \n",
      "\n"
     ]
    }
   ],
   "source": [
    "#loop drawing segitiga kebalik\n",
    "teks4=\"\"\n",
    "for j in range(0,5):#ini kaya bikin kotak sebanyak lima kebawah tapi, pas dilima stop\n",
    "    #------1\n",
    "    #------2\n",
    "    #------3\n",
    "    #------4\n",
    "    #------5\n",
    "    for i in range(5,j,-1):#kan segitiga dimulainya dari 0 terus i ditambah satu jadi keluarnya cuman satu bintang\n",
    "        teks4+=\" * \"\n",
    "    teks4+=\"\\n\"\n",
    "print(teks4)"
   ]
  },
  {
   "cell_type": "code",
   "execution_count": 39,
   "metadata": {},
   "outputs": [
    {
     "data": {
      "text/plain": [
       "33"
      ]
     },
     "execution_count": 39,
     "metadata": {},
     "output_type": "execute_result"
    }
   ],
   "source": [
    "#quiz pertama\n",
    "angkas=[1,2,3,4,5,12]\n",
    "max(angkas)\n",
    "#SOAL PERTAMA\n",
    "#Buatlah function untuk menentukan nilai TERBESAR di \n",
    "#list tanpa menggunakan built-in function python max()!\n",
    "def ngemax(angka):\n",
    "    currentmax=angka[0]#start dari index pertama\n",
    "    for numbre in angka:\n",
    "        if numbre >currentmax:\n",
    "            currentmax=numbre\n",
    "    return currentmax\n",
    "            \n",
    "ngemax([22,33,11,33,31])"
   ]
  },
  {
   "cell_type": "code",
   "execution_count": 60,
   "metadata": {},
   "outputs": [
    {
     "name": "stdout",
     "output_type": "stream",
     "text": [
      "121\n"
     ]
    }
   ],
   "source": [
    "#quiz 1 mas pierre\n",
    "def maximal(nilainya):\n",
    "    angka=sorted(nilainya)\n",
    "    maximum=angka[-1]#nilai terakhir pasti terbesar\n",
    "    return maximum\n",
    "array=[1,2,4,11,121]\n",
    "print(maximal(array))"
   ]
  },
  {
   "cell_type": "code",
   "execution_count": 61,
   "metadata": {},
   "outputs": [
    {
     "name": "stdout",
     "output_type": "stream",
     "text": [
      "22222\n"
     ]
    }
   ],
   "source": [
    "#quiz 1 mas damar\n",
    "def maksimal(nums):\n",
    "    x=nums[0]#ngambil indeks 0 itu dari awal\n",
    "    for i in nums:#untuk setiap i dalam nums\n",
    "        if x<i:#kalau x nya lebih kecil dari i nanti bakal jadi nilai x yang baru\n",
    "            x=i#nanti x nya bakal diganti oleh i\n",
    "    return x\n",
    "print(maksimal([121,241,211,22222]))"
   ]
  },
  {
   "cell_type": "code",
   "execution_count": 66,
   "metadata": {},
   "outputs": [
    {
     "name": "stdout",
     "output_type": "stream",
     "text": [
      "('max number :', 121421)\n"
     ]
    }
   ],
   "source": [
    "#quiz 1 \n",
    "def maxnumbre(list_number):\n",
    "    sort=set(list_number)\n",
    "    return \"max number :\",list(sort)[len(sort)-1]\n",
    "array=[121421,11,233]\n",
    "print(maxnumbre(array))"
   ]
  },
  {
   "cell_type": "code",
   "execution_count": 19,
   "metadata": {},
   "outputs": [
    {
     "data": {
      "text/plain": [
       "-1"
      ]
     },
     "execution_count": 19,
     "metadata": {},
     "output_type": "execute_result"
    }
   ],
   "source": [
    "#SOAL KEDUA\n",
    "#Buatlah function untuk menentukan nilai TERKECIL di list tanpa \n",
    "#menggunakan built-in function python min()!\n",
    "def palingkecil(IniAngkaList):\n",
    "    current_minimal=IniAngkaList[0]\n",
    "    for numbers in IniAngkaList:\n",
    "        if numbers < current_minimal:\n",
    "            current_minimal=numbers\n",
    "    return current_minimal\n",
    "palingkecil([-1,2,1,0])"
   ]
  },
  {
   "cell_type": "code",
   "execution_count": 24,
   "metadata": {},
   "outputs": [
    {
     "data": {
      "text/plain": [
       "3"
      ]
     },
     "execution_count": 24,
     "metadata": {},
     "output_type": "execute_result"
    }
   ],
   "source": [
    "#SOAL KETIGA\n",
    "#Buatlah function untuk menghitung jumlah anggota list tanpa menggunakan \n",
    "#built-in function dari python len()\n",
    "def itungAnggota(listKita):\n",
    "    jumlah=0#buat variabel 0\n",
    "    for ini in listKita:\n",
    "        jumlah+=1#ditambah sesuai jumlah dari i\n",
    "    return jumlah\n",
    "itungAnggota([\"kenapa\",'aku',\"begini\"])"
   ]
  },
  {
   "cell_type": "code",
   "execution_count": 70,
   "metadata": {},
   "outputs": [
    {
     "name": "stdout",
     "output_type": "stream",
     "text": [
      "['deka']\n"
     ]
    }
   ],
   "source": [
    "#SOAL KEEMPAT\n",
    "#Buat Function untuk mencari teks dalam list berdasarkan keyword tertentu. \n",
    "#Lalu yang ditampilkan adalah TEKS yang dikurangi KEYWORD tersebut. \n",
    "#Tidak boleh pakai built in function REPLACE()\n",
    "\n",
    "gudang_teks=['merdeka',\"kari ayam\", \"karantina\",\"larantina\",\"Sukses\"]\n",
    "\n",
    "def hilangkata(key, listtext):\n",
    "    key=key.lower()\n",
    "    teks=[]\n",
    "    for i in range(len(listtext)):\n",
    "        if key.lower() in listtext[i].lower():\n",
    "            teks.append(listtext[i].lower())\n",
    "    result=[]\n",
    "    \n",
    "    for j in range(len(teks)):\n",
    "        index_awal=teks[j].index(key)\n",
    "        index_akhir=teks[j].index(key)+len(key)\n",
    "        new_teks=teks[j].replace(teks[j][index_awal:index_akhir],\"\")\n",
    "        result.append(new_teks)\n",
    "    return result\n",
    "\n",
    "print(hilangkata('Mer',gudang_teks))"
   ]
  },
  {
   "cell_type": "code",
   "execution_count": null,
   "metadata": {},
   "outputs": [],
   "source": []
  }
 ],
 "metadata": {
  "kernelspec": {
   "display_name": "Python 3",
   "language": "python",
   "name": "python3"
  },
  "language_info": {
   "codemirror_mode": {
    "name": "ipython",
    "version": 3
   },
   "file_extension": ".py",
   "mimetype": "text/x-python",
   "name": "python",
   "nbconvert_exporter": "python",
   "pygments_lexer": "ipython3",
   "version": "3.6.8"
  }
 },
 "nbformat": 4,
 "nbformat_minor": 2
}
