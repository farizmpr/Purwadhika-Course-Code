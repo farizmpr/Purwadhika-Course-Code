{
 "cells": [
  {
   "cell_type": "markdown",
   "metadata": {},
   "source": [
    "# latihan 1"
   ]
  },
  {
   "cell_type": "code",
   "execution_count": 6,
   "metadata": {},
   "outputs": [
    {
     "name": "stdout",
     "output_type": "stream",
     "text": [
      "0.8333333333333334\n"
     ]
    }
   ],
   "source": [
    "#solve pertama\n",
    "import math\n",
    "x=4\n",
    "y=3\n",
    "z=2\n",
    "a=x+(y*z)\n",
    "b=x*y\n",
    "c=a/b\n",
    "w=pow(c,2)\n",
    "print(c)"
   ]
  },
  {
   "cell_type": "code",
   "execution_count": 7,
   "metadata": {},
   "outputs": [
    {
     "name": "stdout",
     "output_type": "stream",
     "text": [
      "Silahkan masukkan angka berapapun : 4\n",
      "Kuadrat dari 4 = 16\n"
     ]
    }
   ],
   "source": [
    "#solve kedua\n",
    "angka = int(input(\"Silahkan masukkan angka berapapun : \"))\n",
    "hsl = (angka**2)\n",
    "print(f\"Kuadrat dari {angka} = {hsl}\")"
   ]
  },
  {
   "cell_type": "code",
   "execution_count": 15,
   "metadata": {},
   "outputs": [
    {
     "name": "stdout",
     "output_type": "stream",
     "text": [
      "1 tahun, 4 bulan, 5 hari\n"
     ]
    }
   ],
   "source": [
    "#solve ketiga\n",
    "day = 485\n",
    "year = math.floor(day/360)\n",
    "month = (math.floor(day/30)-12) \n",
    "hari = day%12\n",
    "print(f\"{year} tahun, {month} bulan, {hari} hari\")"
   ]
  },
  {
   "cell_type": "code",
   "execution_count": 2,
   "metadata": {},
   "outputs": [
    {
     "name": "stdout",
     "output_type": "stream",
     "text": [
      "umur andi 16.0, umur budi 37.0\n"
     ]
    }
   ],
   "source": [
    "#solve keempat\n",
    "andi = (2/7)*49\n",
    "budi = (5/7)*49\n",
    "print(f\"umur andi {andi+2}, umur budi {budi+2}\")"
   ]
  },
  {
   "cell_type": "code",
   "execution_count": 29,
   "metadata": {},
   "outputs": [
    {
     "name": "stdout",
     "output_type": "stream",
     "text": [
      "masukkan kata : bandung\n",
      "masukkan huruf : a\n",
      "huruf a memiliki 1 buah\n"
     ]
    }
   ],
   "source": [
    "#solve kelima\n",
    "karakter=input(\"masukkan kata : \")\n",
    "huruf = input(\"masukkan huruf : \")\n",
    "hitung=0\n",
    "for i in range(len(karakter)):\n",
    "    if(karakter[i]==huruf):\n",
    "        hitung+=1\n",
    "print(f\"huruf {huruf} memiliki {hitung} buah\")"
   ]
  },
  {
   "cell_type": "code",
   "execution_count": 38,
   "metadata": {},
   "outputs": [
    {
     "name": "stdout",
     "output_type": "stream",
     "text": [
      "masukkan angka : 81\n",
      "ini bukan bilangan prima\n"
     ]
    }
   ],
   "source": [
    "#solve menentukan bilangan prima atau tidak\n",
    "angkaPrima = int(input(\"masukkan angka : \"))\n",
    "if (angkaPrima%2==0 or angkaPrima%3==0):\n",
    "    if(angkaPrima==2 or angkaPrima==3):\n",
    "        print(\"ini angka prima\")\n",
    "    else:\n",
    "        print(\"ini bukan bilangan prima\")\n",
    "else:\n",
    "    print(\"ini bilangan prima\")"
   ]
  },
  {
   "cell_type": "code",
   "execution_count": 43,
   "metadata": {},
   "outputs": [
    {
     "name": "stdout",
     "output_type": "stream",
     "text": [
      "masukkan angka faktor 25\n",
      "1\n",
      "5\n",
      "25\n"
     ]
    }
   ],
   "source": [
    "#solve menentukan faktor dari sebuah bilangan\n",
    "angkaFaktor = int(input(\"masukkan angka faktor \"))\n",
    "for i in range(1,angkaFaktor+1):\n",
    "    if angkaFaktor%i==0:\n",
    "        print(i)"
   ]
  },
  {
   "cell_type": "code",
   "execution_count": 50,
   "metadata": {},
   "outputs": [
    {
     "name": "stdout",
     "output_type": "stream",
     "text": [
      "['hello', 'hellos']\n"
     ]
    }
   ],
   "source": [
    "#ppt 5\n",
    "solve = [\"merdeka\",'hello','hellos','sohib','kari ayam']\n",
    "angka =\"hell\"\n",
    "\n",
    "solve=list(filter(lambda x: angka in x, solve))\n",
    "print(solve)"
   ]
  },
  {
   "cell_type": "markdown",
   "metadata": {},
   "source": [
    "# latihan 2"
   ]
  },
  {
   "cell_type": "code",
   "execution_count": 3,
   "metadata": {},
   "outputs": [
    {
     "name": "stdout",
     "output_type": "stream",
     "text": [
      "7\n",
      "angka 7 tergolong bilangan ganjil\n"
     ]
    }
   ],
   "source": [
    "#solve 1\n",
    "angka = int(input())\n",
    "if angka%2==0:\n",
    "    print (f\"angka {angka} tergolong bilangan genap\")\n",
    "else:\n",
    "    print (f\"angka {angka} tergolong bilangan ganjil\")"
   ]
  },
  {
   "cell_type": "code",
   "execution_count": 11,
   "metadata": {},
   "outputs": [
    {
     "name": "stdout",
     "output_type": "stream",
     "text": [
      "masukkan angka : 79\n",
      "masukkan tinggi : 180\n",
      "IMT 24.382716049382715 artinya berat badan ideal\n"
     ]
    }
   ],
   "source": [
    "#solve 2\n",
    "mass = int(input(\"masukkan angka : \"))\n",
    "tinggi = int(input(\"masukkan tinggi : \"))\n",
    "tinggi_real = pow(tinggi/100,2)\n",
    "IMT = mass/tinggi_real\n",
    "if IMT<18.5:\n",
    "    print(f\"IMT {IMT} artinya berat badan kurang\")\n",
    "elif IMT >=18.5 and IMT<=24.9:\n",
    "    print(f\"IMT {IMT} artinya berat badan ideal\")\n",
    "elif IMT >=25.0 and IMT<=29.9:\n",
    "    print(f\"IMT {IMT} artinya berat badan berlebih\")\n",
    "elif IMT >=30.0 and IMT<=39.9:\n",
    "    print(f\"IMT {IMT} artinya berat badan sangat berlebih\")\n",
    "elif IMT >=39.9:\n",
    "    print(f\"IMT {IMT} artinya obesitas\")"
   ]
  },
  {
   "cell_type": "code",
   "execution_count": 12,
   "metadata": {},
   "outputs": [
    {
     "name": "stdout",
     "output_type": "stream",
     "text": [
      "masukkan angka : 23\n",
      "angka ganjil\n"
     ]
    }
   ],
   "source": [
    "#bilangan ganjil dan genap\n",
    "angka=int(input(\"masukkan angka : \"))\n",
    "if angka%2!=0:\n",
    "    print(\"angka ganjil\")\n",
    "else:\n",
    "    print(\"angka genap\")"
   ]
  },
  {
   "cell_type": "code",
   "execution_count": 19,
   "metadata": {},
   "outputs": [
    {
     "name": "stdout",
     "output_type": "stream",
     "text": [
      "masukkan angka : 7\n",
      "Bilangan prima\n"
     ]
    }
   ],
   "source": [
    "#bilangan prima\n",
    "angka_masukan=int(input(\"masukkan angka : \"))\n",
    "if angka_masukan==2 or angka_masukan==3:\n",
    "    print(\"Bilangan Prima\")\n",
    "elif angka_masukan%2==0 or angka_masukan%3==0:\n",
    "    print(\"Bukan bilangan prima\")\n",
    "else:\n",
    "    print(\"Bilangan prima\")"
   ]
  },
  {
   "cell_type": "code",
   "execution_count": 22,
   "metadata": {},
   "outputs": [
    {
     "name": "stdout",
     "output_type": "stream",
     "text": [
      "1\n",
      "2\n",
      "3\n",
      "4\n",
      "5\n",
      "6\n",
      "7\n",
      "8\n",
      "9\n",
      "10\n"
     ]
    }
   ],
   "source": [
    "#looping\n",
    "angka_loop=1\n",
    "while angka_loop<=10:\n",
    "    print(angka_loop)\n",
    "    angka_loop+=1"
   ]
  },
  {
   "cell_type": "code",
   "execution_count": 27,
   "metadata": {},
   "outputs": [
    {
     "name": "stdout",
     "output_type": "stream",
     "text": [
      "3 5 7 9 11 "
     ]
    }
   ],
   "source": [
    "#print menyamping 1-9 ganjilnya aja\n",
    "angka2=1\n",
    "while angka2<10:\n",
    "    angka2+=2\n",
    "    print(angka2,end=\" \")"
   ]
  },
  {
   "cell_type": "code",
   "execution_count": 33,
   "metadata": {},
   "outputs": [
    {
     "name": "stdout",
     "output_type": "stream",
     "text": [
      "masukkan angka: 14\n",
      "8 2 -4 -10 -16 "
     ]
    }
   ],
   "source": [
    "#kurang 6 dari 14 sampe 16\n",
    "angka_soal=int(input(\"masukkan angka: \"))\n",
    "while angka_soal>-16:   \n",
    "    angka_soal-=6\n",
    "    print(angka_soal,end=\" \")"
   ]
  },
  {
   "cell_type": "code",
   "execution_count": 36,
   "metadata": {},
   "outputs": [
    {
     "name": "stdout",
     "output_type": "stream",
     "text": [
      "masukkan angka: 5\n",
      "5 7\n",
      "7 9\n",
      "9 11\n",
      "11 13\n",
      "13 15\n",
      "15 17\n"
     ]
    }
   ],
   "source": [
    "angka_soal_a=int(input(\"masukkan angka: \"))\n",
    "while angka_soal_a<=15:\n",
    "    print(angka_soal_a,angka_soal_a+2, sep=\" \")\n",
    "    angka_soal_a+=2"
   ]
  },
  {
   "cell_type": "code",
   "execution_count": 40,
   "metadata": {},
   "outputs": [
    {
     "name": "stdout",
     "output_type": "stream",
     "text": [
      "masukkan input: 4\n",
      "4\n",
      "3\n",
      "2\n",
      "1\n"
     ]
    }
   ],
   "source": [
    "#cara memakai break\n",
    "inputanq=int(input(\"masukkan input: \"))\n",
    "while inputanq>=0:\n",
    "    print(inputanq)\n",
    "    inputanq-=1\n",
    "    if(inputanq==0):\n",
    "        break"
   ]
  },
  {
   "cell_type": "code",
   "execution_count": 42,
   "metadata": {},
   "outputs": [
    {
     "name": "stdout",
     "output_type": "stream",
     "text": [
      "masukkan angka 4\n",
      "4\n",
      "3\n",
      "keluar loop\n"
     ]
    }
   ],
   "source": [
    "#soal\n",
    "inputan=int(input(\"masukkan angka \"))\n",
    "while inputan>2:\n",
    "    print(inputan)\n",
    "    inputan-=1\n",
    "print(\"keluar loop\")"
   ]
  },
  {
   "cell_type": "code",
   "execution_count": 51,
   "metadata": {},
   "outputs": [
    {
     "name": "stdout",
     "output_type": "stream",
     "text": [
      "masukan angka perkalian 1\n",
      "5*2 = 10\n",
      "5*3 = 15\n",
      "5*4 = 20\n",
      "5*5 = 25\n",
      "5*6 = 30\n",
      "5*7 = 35\n",
      "5*8 = 40\n",
      "5*9 = 45\n",
      "5*10 = 50\n"
     ]
    }
   ],
   "source": [
    "#perkalian looping\n",
    "inputan_baru = int(input(\"masukan angka perkalian \"))\n",
    "while inputan_baru<=10:\n",
    "    inputan_baru+=1\n",
    "    hasil=5*inputan_baru\n",
    "    if(inputan_baru==11):\n",
    "        break\n",
    "    print(f\"5*{inputan_baru} = {hasil}\")\n",
    "    \n"
   ]
  },
  {
   "cell_type": "markdown",
   "metadata": {},
   "source": [
    "# latihan day 3"
   ]
  },
  {
   "cell_type": "code",
   "execution_count": 55,
   "metadata": {},
   "outputs": [
    {
     "name": "stdout",
     "output_type": "stream",
     "text": [
      "Nomor Urut  1\n",
      "Nomor Urut  2\n",
      "Nomor Urut  3\n",
      "Nomor Urut  4\n",
      "Nomor Urut  5\n",
      "Nomor Urut  6\n",
      "Nomor Urut  7\n",
      "Nomor Urut  8\n",
      "Nomor Urut  9\n",
      "Nomor Urut  10\n"
     ]
    }
   ],
   "source": [
    "#solve it 1\n",
    "listItem = list(range(1,11,1))\n",
    "for itemx in listItem:\n",
    "    print(\"Nomor Urut \", itemx)"
   ]
  },
  {
   "cell_type": "code",
   "execution_count": 57,
   "metadata": {},
   "outputs": [
    {
     "name": "stdout",
     "output_type": "stream",
     "text": [
      "Nomor urut 0\n",
      "Nomor urut 2\n",
      "Nomor urut 4\n",
      "Nomor urut 6\n",
      "Nomor urut 8\n",
      "Nomor urut 10\n",
      "Nomor urut 12\n",
      "Nomor urut 14\n",
      "Nomor urut 16\n",
      "Nomor urut 18\n",
      "Nomor urut 20\n"
     ]
    }
   ],
   "source": [
    "#solve 2\n",
    "listItems=list(range(0,21,2))\n",
    "for items in listItems:\n",
    "    print(f\"Nomor urut {items}\")"
   ]
  },
  {
   "cell_type": "code",
   "execution_count": 58,
   "metadata": {},
   "outputs": [
    {
     "name": "stdout",
     "output_type": "stream",
     "text": [
      "Nomor urut 1\n",
      "Nomor urut 3\n",
      "Nomor urut 5\n",
      "Nomor urut 7\n",
      "Nomor urut 9\n",
      "Nomor urut 11\n",
      "Nomor urut 13\n",
      "Nomor urut 15\n",
      "Nomor urut 17\n",
      "Nomor urut 19\n"
     ]
    }
   ],
   "source": [
    "#solve 3\n",
    "listItemx = list(range(1,20,2))\n",
    "for items in listItemx:\n",
    "    print(f\"Nomor urut {items}\")"
   ]
  },
  {
   "cell_type": "code",
   "execution_count": 85,
   "metadata": {},
   "outputs": [
    {
     "name": "stdout",
     "output_type": "stream",
     "text": [
      " *  *  *  *  * \n",
      " *  *  *  *  * \n",
      " *  *  *  *  * \n",
      " *  *  *  *  * \n",
      " *  *  *  *  * \n"
     ]
    }
   ],
   "source": [
    "#solve it 4\n",
    "for i in range(5):\n",
    "    for o in range(5):\n",
    "        print(\" * \", end=\"\")\n",
    "    print(\"\")"
   ]
  },
  {
   "cell_type": "code",
   "execution_count": 84,
   "metadata": {},
   "outputs": [
    {
     "name": "stdout",
     "output_type": "stream",
     "text": [
      " * \n",
      " *  * \n",
      " *  *  * \n",
      " *  *  *  * \n",
      " *  *  *  *  * \n"
     ]
    }
   ],
   "source": [
    "#solve it 5\n",
    "for i in range(5):\n",
    "    for o in range(0,i+1):#kan awalnya i nya 0, nah makanya ditambah satu biar ada bintagnya\n",
    "        print(\" * \", end=\"\")\n",
    "    print(\"\")"
   ]
  },
  {
   "cell_type": "code",
   "execution_count": 116,
   "metadata": {},
   "outputs": [
    {
     "name": "stdout",
     "output_type": "stream",
     "text": [
      " *  *  *  *  * \n",
      " *  *  *  * \n",
      " *  *  * \n",
      " *  * \n",
      " * \n"
     ]
    }
   ],
   "source": [
    "#solve it 6\n",
    "for i in range(5):\n",
    "    for o in range(i-1,4):#kan awalnya i nya 0, nah makanya ditambah satu biar ada bintagnya\n",
    "        print(\" * \", end=\"\")\n",
    "    print(\"\")"
   ]
  },
  {
   "cell_type": "code",
   "execution_count": 118,
   "metadata": {},
   "outputs": [
    {
     "name": "stdout",
     "output_type": "stream",
     "text": [
      " *  *  *  *  * \n",
      " *  *  *  * \n",
      " *  *  * \n",
      " *  * \n",
      " * \n"
     ]
    }
   ],
   "source": [
    "#solve it 6\n",
    "for i in range(5):\n",
    "    for o in range(i-1,4):\n",
    "        print(\" * \", end=\"\")\n",
    "    print(\"\")"
   ]
  },
  {
   "cell_type": "code",
   "execution_count": 158,
   "metadata": {},
   "outputs": [
    {
     "name": "stdout",
     "output_type": "stream",
     "text": [
      "***** \n",
      "**** \n",
      "*** \n",
      "** \n",
      "* \n",
      "**\n",
      "***\n",
      "****\n",
      "*****\n"
     ]
    }
   ],
   "source": [
    "rows=5\n",
    "for i in range(rows+1,0,-1):\n",
    "    for j in range(0,i-1):\n",
    "        print(\"*\",end=\"\")\n",
    "    if(i!=1):\n",
    "        print(\" \")\n",
    "for j in range(2,rows+1):\n",
    "    print(\"*\"*j)"
   ]
  },
  {
   "cell_type": "code",
   "execution_count": 189,
   "metadata": {},
   "outputs": [
    {
     "name": "stdout",
     "output_type": "stream",
     "text": [
      "\n",
      " * \n",
      " *  * \n",
      " *  *  * \n",
      " *  *  *  * \n",
      " *  *  *  *  * \n",
      " *  *  *  *  *  * \n",
      " *  *  *  *  *  *  * \n",
      " *  *  *  *  *  *  *  * \n",
      " *  *  *  *  *  *  *  *  * \n",
      " *  *  *  *  *  *  *  *  *  * \n"
     ]
    }
   ],
   "source": [
    "#solve it\n",
    "rows=11\n",
    "for x in range(0,rows):\n",
    "    \n",
    "    print(\" * \"*x)"
   ]
  },
  {
   "cell_type": "code",
   "execution_count": 194,
   "metadata": {},
   "outputs": [
    {
     "name": "stdout",
     "output_type": "stream",
     "text": [
      "        * * * * * * \n",
      "         * * * * * \n",
      "          * * * * \n",
      "           * * * \n",
      "            * * \n",
      "             * \n"
     ]
    }
   ],
   "source": [
    "rows = 5\n",
    "k = 2 * rows - 2\n",
    "for i in range(rows, -1, -1):\n",
    "    for j in range(k, 0, -1):\n",
    "        print(end=\" \")\n",
    "    k = k + 1\n",
    "    for j in range(0, i + 1):\n",
    "        print(\"*\", end=\" \")\n",
    "    print(\"\")"
   ]
  },
  {
   "cell_type": "code",
   "execution_count": null,
   "metadata": {},
   "outputs": [],
   "source": []
  }
 ],
 "metadata": {
  "kernelspec": {
   "display_name": "Python 3",
   "language": "python",
   "name": "python3"
  },
  "language_info": {
   "codemirror_mode": {
    "name": "ipython",
    "version": 3
   },
   "file_extension": ".py",
   "mimetype": "text/x-python",
   "name": "python",
   "nbconvert_exporter": "python",
   "pygments_lexer": "ipython3",
   "version": "3.6.8"
  }
 },
 "nbformat": 4,
 "nbformat_minor": 2
}
