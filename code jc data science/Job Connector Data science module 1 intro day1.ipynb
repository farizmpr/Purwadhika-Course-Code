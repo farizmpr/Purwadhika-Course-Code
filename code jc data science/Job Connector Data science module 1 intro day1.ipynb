{
 "cells": [
  {
   "cell_type": "code",
   "execution_count": 1,
   "metadata": {},
   "outputs": [
    {
     "name": "stdout",
     "output_type": "stream",
     "text": [
      "5\n"
     ]
    }
   ],
   "source": [
    "#modul 1 tgl 29 juli\n",
    "a = 5\n",
    "print(a)"
   ]
  },
  {
   "cell_type": "code",
   "execution_count": 2,
   "metadata": {},
   "outputs": [
    {
     "name": "stdout",
     "output_type": "stream",
     "text": [
      "andi\n",
      "32\n",
      "True\n"
     ]
    }
   ],
   "source": [
    "#variabel \n",
    "#variabel digunakan ketika kita menggunakan berulang kali\n",
    "#integer angka tanpa koma\n",
    "#float angka yang ada koma nya\n",
    "#boolean true and false\n",
    "nama = \"andi\"#string\n",
    "print(nama)\n",
    "\n",
    "usia = 22#integer\n",
    "usia = 32#yang ke print 32 karna mendeklarasikan yang baru karna python itu run nya baris per baris\n",
    "print(usia)\n",
    "\n",
    "jomblo = True#boolean\n",
    "print(jomblo)\n",
    "\n",
    "umur = 25\n"
   ]
  },
  {
   "cell_type": "code",
   "execution_count": 3,
   "metadata": {},
   "outputs": [
    {
     "name": "stdout",
     "output_type": "stream",
     "text": [
      "1\n",
      "2\n",
      "3\n"
     ]
    }
   ],
   "source": [
    "x,y,z =1,2,3\n",
    "print(x)\n",
    "print(y)\n",
    "print(z)"
   ]
  },
  {
   "cell_type": "code",
   "execution_count": 4,
   "metadata": {},
   "outputs": [
    {
     "name": "stdout",
     "output_type": "stream",
     "text": [
      "10\n",
      "10\n",
      "10\n"
     ]
    }
   ],
   "source": [
    "x=y=z =10\n",
    "print(x)\n",
    "print(y)\n",
    "print(z)"
   ]
  },
  {
   "cell_type": "code",
   "execution_count": 5,
   "metadata": {},
   "outputs": [
    {
     "name": "stdout",
     "output_type": "stream",
     "text": [
      "python is cool\n"
     ]
    }
   ],
   "source": [
    "x = \"cool\"#tanda tambah cetak variabel misalnya punya string\n",
    "print('python is ' + x)"
   ]
  },
  {
   "cell_type": "code",
   "execution_count": 6,
   "metadata": {},
   "outputs": [
    {
     "name": "stdout",
     "output_type": "stream",
     "text": [
      "python is cool 5\n"
     ]
    }
   ],
   "source": [
    "x = \"python is cool \"\n",
    "y = 5\n",
    "z = x + str(y)\n",
    "print(z)"
   ]
  },
  {
   "cell_type": "code",
   "execution_count": 7,
   "metadata": {},
   "outputs": [
    {
     "name": "stdout",
     "output_type": "stream",
     "text": [
      "python awesome\n"
     ]
    }
   ],
   "source": [
    "y='python '\n",
    "z='awesome'\n",
    "g=y+z\n",
    "print(g)"
   ]
  },
  {
   "cell_type": "code",
   "execution_count": 8,
   "metadata": {},
   "outputs": [
    {
     "name": "stdout",
     "output_type": "stream",
     "text": [
      "andi\n",
      "33\n",
      "True\n"
     ]
    }
   ],
   "source": [
    "nama, usia,jomblo =\"andi\",33,True\n",
    "print(nama)\n",
    "print(usia)\n",
    "print(jomblo)"
   ]
  },
  {
   "cell_type": "code",
   "execution_count": 9,
   "metadata": {},
   "outputs": [
    {
     "name": "stdout",
     "output_type": "stream",
     "text": [
      "<class 'str'>\n",
      "<class 'int'>\n",
      "<class 'bool'>\n"
     ]
    }
   ],
   "source": [
    "nama = \"fariz\"\n",
    "usia=22\n",
    "jomblo=True\n",
    "print(type(nama))\n",
    "print(type(usia))\n",
    "print(type(jomblo))"
   ]
  },
  {
   "cell_type": "markdown",
   "metadata": {},
   "source": [
    "## input"
   ]
  },
  {
   "cell_type": "code",
   "execution_count": 10,
   "metadata": {},
   "outputs": [
    {
     "name": "stdout",
     "output_type": "stream",
     "text": [
      "whats your name ? : fariz\n",
      "fariz\n"
     ]
    }
   ],
   "source": [
    "#input\n",
    "#tipe data menggunakan input adalah string\n",
    "name = input(\"whats your name ? : \")\n",
    "print(name)"
   ]
  },
  {
   "cell_type": "code",
   "execution_count": 11,
   "metadata": {},
   "outputs": [
    {
     "name": "stdout",
     "output_type": "stream",
     "text": [
      "<class 'str'>\n"
     ]
    }
   ],
   "source": [
    "print(type(name))"
   ]
  },
  {
   "cell_type": "code",
   "execution_count": 12,
   "metadata": {},
   "outputs": [
    {
     "name": "stdout",
     "output_type": "stream",
     "text": [
      "22\n",
      "22\n"
     ]
    }
   ],
   "source": [
    "nomor = input()\n",
    "print(nomor)"
   ]
  },
  {
   "cell_type": "code",
   "execution_count": 13,
   "metadata": {},
   "outputs": [
    {
     "name": "stdout",
     "output_type": "stream",
     "text": [
      "<class 'str'>\n"
     ]
    }
   ],
   "source": [
    "print(type(nomor))"
   ]
  },
  {
   "cell_type": "code",
   "execution_count": 14,
   "metadata": {},
   "outputs": [
    {
     "name": "stdout",
     "output_type": "stream",
     "text": [
      "whats your number ? : 2\n",
      "2\n"
     ]
    }
   ],
   "source": [
    "#numeric\n",
    "number = int(input(\"whats your number ? : \"))\n",
    "print(number)"
   ]
  },
  {
   "cell_type": "code",
   "execution_count": 15,
   "metadata": {},
   "outputs": [
    {
     "name": "stdout",
     "output_type": "stream",
     "text": [
      "<class 'int'>\n"
     ]
    }
   ],
   "source": [
    "print(type(number))"
   ]
  },
  {
   "cell_type": "code",
   "execution_count": 16,
   "metadata": {},
   "outputs": [
    {
     "name": "stdout",
     "output_type": "stream",
     "text": [
      "whats your number ? : 56.0\n",
      "56.0\n"
     ]
    }
   ],
   "source": [
    "#float\n",
    "angka = float(input(\"whats your number ? : \"))\n",
    "print(angka)"
   ]
  },
  {
   "cell_type": "code",
   "execution_count": 17,
   "metadata": {},
   "outputs": [
    {
     "name": "stdout",
     "output_type": "stream",
     "text": [
      "<class 'float'>\n"
     ]
    }
   ],
   "source": [
    "print(type(angka))"
   ]
  },
  {
   "cell_type": "markdown",
   "metadata": {},
   "source": [
    "## solved it"
   ]
  },
  {
   "cell_type": "code",
   "execution_count": 18,
   "metadata": {},
   "outputs": [
    {
     "name": "stdout",
     "output_type": "stream",
     "text": [
      "Nama Kamu ? :fariz\n",
      "Umur Kamu ? :22\n",
      "Kelamin Kamu ? :pria\n",
      "Pekerjaan Kamu ? :mahasiswa\n",
      "Nama : fariz\n",
      "Umur :  22\n",
      "Kelamin : pria\n",
      "Pekerjaan : mahasiswa\n"
     ]
    }
   ],
   "source": [
    "your_name = input(\"Nama Kamu ? :\")\n",
    "your_age = int(input(\"Umur Kamu ? :\"))\n",
    "your_gender = input(\"Kelamin Kamu ? :\")\n",
    "your_job = input(\"Pekerjaan Kamu ? :\")\n",
    "print(\"Nama : \" + your_name)\n",
    "print(\"Umur : \", your_age)#kalo koma bisa apa aja\n",
    "print(\"Kelamin : \" + your_gender)\n",
    "print(\"Pekerjaan : \" + your_job)"
   ]
  },
  {
   "cell_type": "markdown",
   "metadata": {},
   "source": [
    "## materi"
   ]
  },
  {
   "cell_type": "code",
   "execution_count": 19,
   "metadata": {},
   "outputs": [
    {
     "name": "stdout",
     "output_type": "stream",
     "text": [
      "800\n",
      "2.0\n",
      "60\n",
      "20\n",
      "0\n",
      "1600\n"
     ]
    }
   ],
   "source": [
    "#numbers and arithmetic operators\n",
    "usiaAndi = 40\n",
    "usiaBudi = 20\n",
    "print(usiaAndi * usiaBudi)\n",
    "print(usiaAndi / usiaBudi)\n",
    "print(usiaAndi + usiaBudi)\n",
    "print(usiaAndi - usiaBudi)\n",
    "print(usiaAndi % usiaBudi)#sisa bagi\n",
    "print(usiaAndi ** 2)#pangkat"
   ]
  },
  {
   "cell_type": "code",
   "execution_count": 20,
   "metadata": {},
   "outputs": [
    {
     "name": "stdout",
     "output_type": "stream",
     "text": [
      "43\n"
     ]
    }
   ],
   "source": [
    "usiaAndi += 3 #cara simple penambahan\n",
    "print(usiaAndi)"
   ]
  },
  {
   "cell_type": "code",
   "execution_count": 21,
   "metadata": {},
   "outputs": [
    {
     "name": "stdout",
     "output_type": "stream",
     "text": [
      "46\n"
     ]
    }
   ],
   "source": [
    "usiaAndi += 3\n",
    "print(usiaAndi)"
   ]
  },
  {
   "cell_type": "code",
   "execution_count": 22,
   "metadata": {},
   "outputs": [
    {
     "name": "stdout",
     "output_type": "stream",
     "text": [
      "80\n"
     ]
    }
   ],
   "source": [
    "usiaPur = 20\n",
    "usiaPur *= 4\n",
    "print(usiaPur)"
   ]
  },
  {
   "cell_type": "code",
   "execution_count": 23,
   "metadata": {},
   "outputs": [],
   "source": [
    "#math module\n",
    "import math"
   ]
  },
  {
   "cell_type": "code",
   "execution_count": 24,
   "metadata": {},
   "outputs": [
    {
     "name": "stdout",
     "output_type": "stream",
     "text": [
      "3.141592653589793\n"
     ]
    }
   ],
   "source": [
    "print(math.pi)#ini nilai pi"
   ]
  },
  {
   "cell_type": "code",
   "execution_count": 25,
   "metadata": {},
   "outputs": [
    {
     "name": "stdout",
     "output_type": "stream",
     "text": [
      "4.7\n"
     ]
    }
   ],
   "source": [
    "print(math.fabs(-4.7))#ini yg nge absolut in nilai"
   ]
  },
  {
   "cell_type": "code",
   "execution_count": 26,
   "metadata": {},
   "outputs": [
    {
     "name": "stdout",
     "output_type": "stream",
     "text": [
      "64.0\n"
     ]
    }
   ],
   "source": [
    "print(math.pow(8,2))#perpangkatan"
   ]
  },
  {
   "cell_type": "code",
   "execution_count": null,
   "metadata": {},
   "outputs": [],
   "source": [
    "print(math.pow(8,1/2))#bisa jadi akar juga soalnya ini pangkat kan kalo 1/2 jadi akar"
   ]
  },
  {
   "cell_type": "code",
   "execution_count": 27,
   "metadata": {},
   "outputs": [
    {
     "name": "stdout",
     "output_type": "stream",
     "text": [
      "8.0\n"
     ]
    }
   ],
   "source": [
    "print(math.sqrt(64))#akar"
   ]
  },
  {
   "cell_type": "code",
   "execution_count": 29,
   "metadata": {},
   "outputs": [
    {
     "name": "stdout",
     "output_type": "stream",
     "text": [
      "5\n",
      "4\n",
      "4\n",
      "5\n"
     ]
    }
   ],
   "source": [
    "#round ceil and floor\n",
    "print(round(4.7))#dibelutin ke atas kalo diatas 5, kalo dibawah 5 dibuletin kebawah\n",
    "print(round(4.4))#kalau basis depannya genap kebawah, kalau ganjil ke atas\n",
    "print(math.floor(4.7))#pembulatan kebawa mau berapapun\n",
    "print(math.ceil((4.4)))#pokonya lebih 4 dikit langsung dibuletin keatas"
   ]
  },
  {
   "cell_type": "code",
   "execution_count": 34,
   "metadata": {},
   "outputs": [
    {
     "data": {
      "text/plain": [
       "2.63"
      ]
     },
     "execution_count": 34,
     "metadata": {},
     "output_type": "execute_result"
    }
   ],
   "source": [
    "#penyederhanaan berapa banyak angka dibelakang koma,diatur dua angka dibelakang koma\n",
    "#round bisa digunakan berapa banyak angka desimal dibelakang koma\n",
    "round(2.6264932432,2)"
   ]
  },
  {
   "cell_type": "code",
   "execution_count": 39,
   "metadata": {},
   "outputs": [
    {
     "name": "stdout",
     "output_type": "stream",
     "text": [
      "12\n",
      "5\n",
      "['halo purnomo']\n",
      "halo purnomo\n",
      "HALO PURNOMO\n",
      "Halo purnomo\n"
     ]
    }
   ],
   "source": [
    "#string\n",
    "h = \"halo purnomo\"\n",
    "print(len(h))#ngehitung banyak karakter\n",
    "print(h.index(\"purnomo\"))#ngecek purnomo ini ada di urutan keberapa\n",
    "print(h.split(' '))#split pakai spasi\n",
    "print(h.lower())#semua text dijadiin lower\n",
    "print(h.upper())#semua text dijadiin upper\n",
    "print(h.capitalize())#paling depan kapital"
   ]
  },
  {
   "cell_type": "code",
   "execution_count": 42,
   "metadata": {},
   "outputs": [
    {
     "name": "stdout",
     "output_type": "stream",
     "text": [
      "Halo Purnomo\n"
     ]
    }
   ],
   "source": [
    "print(h.title())#h dan d nya gede"
   ]
  },
  {
   "cell_type": "code",
   "execution_count": 46,
   "metadata": {},
   "outputs": [
    {
     "name": "stdout",
     "output_type": "stream",
     "text": [
      "single quotes\n",
      "double qoutes\n",
      "wrap lot's of other quotes\n"
     ]
    }
   ],
   "source": [
    "singleQuotes = 'single quotes'\n",
    "doubleQuotes = \"double qoutes\"\n",
    "combineQuotes = \"wrap lot's of other quotes\"\n",
    "\n",
    "print(singleQuotes)\n",
    "print(doubleQuotes)\n",
    "print(combineQuotes)"
   ]
  },
  {
   "cell_type": "code",
   "execution_count": 51,
   "metadata": {},
   "outputs": [
    {
     "name": "stdout",
     "output_type": "stream",
     "text": [
      "'\n",
      "m Baron, nice to meet you\n",
      "I'm \n",
      "m B\n",
      "I'm Baron, nice to meet you\n"
     ]
    }
   ],
   "source": [
    "#string indexing\n",
    "text = \"I'm Baron, nice to meet you\"\n",
    "print(text[1])\n",
    "print(text[2:])#index dua sampai selesai\n",
    "print(text[:4])#dari awal sampai 4\n",
    "print(text[2:5])#dari 2 sampai 5\n",
    "print(text[:])#semua index diambil"
   ]
  },
  {
   "cell_type": "code",
   "execution_count": 54,
   "metadata": {},
   "outputs": [
    {
     "name": "stdout",
     "output_type": "stream",
     "text": [
      "Masuikkan Angka 1 : 20\n",
      "Masukkan Angka 2 : 1\n",
      "201\n",
      "21\n",
      "21.0\n"
     ]
    }
   ],
   "source": [
    "#convert strings to numbers\n",
    "angka1 = input(\"Masuikkan Angka 1 : \")\n",
    "angka2 =  input(\"Masukkan Angka 2 : \")\n",
    "print(angka1 + angka2)#ini sama aja ngegabungin string, nilainya masih string\n",
    "print(int(angka1) + int(angka2))#merubah nilai jadi int\n",
    "angka1 = float(angka1)#merubah jadi float\n",
    "angka2 = float(angka2)#merubah nilai jadi float\n",
    "\n",
    "print(angka1 + angka2)#penambahan ketika udah jadi float"
   ]
  },
  {
   "cell_type": "code",
   "execution_count": 58,
   "metadata": {},
   "outputs": [
    {
     "name": "stdout",
     "output_type": "stream",
     "text": [
      "44\n",
      "andi andi\n",
      "andi 22\n"
     ]
    }
   ],
   "source": [
    "#adding string\n",
    "usia = 22 \n",
    "siapa = \"andi\"\n",
    "\n",
    "print(usia + usia)\n",
    "print(siapa + \" \" +siapa)\n",
    "print(siapa + \" \"+str(usia))"
   ]
  },
  {
   "cell_type": "markdown",
   "metadata": {},
   "source": [
    "## solve it"
   ]
  },
  {
   "cell_type": "code",
   "execution_count": 60,
   "metadata": {},
   "outputs": [
    {
     "name": "stdout",
     "output_type": "stream",
     "text": [
      "0.6944444444444445\n"
     ]
    }
   ],
   "source": [
    "#number 1\n",
    "x = 4\n",
    "y = 3\n",
    "z = 2\n",
    "t = y*z\n",
    "u = t+x\n",
    "i = u/(x*y)\n",
    "print(math.pow(i,z))"
   ]
  },
  {
   "cell_type": "code",
   "execution_count": 77,
   "metadata": {},
   "outputs": [
    {
     "name": "stdout",
     "output_type": "stream",
     "text": [
      "0.69\n"
     ]
    }
   ],
   "source": [
    "#number1 kak dinda\n",
    "x,y,z = 4,3,2\n",
    "w = math.pow((x+(y*z))/(x*y),z)\n",
    "print(round(w,2))"
   ]
  },
  {
   "cell_type": "code",
   "execution_count": 82,
   "metadata": {},
   "outputs": [
    {
     "name": "stdout",
     "output_type": "stream",
     "text": [
      "Silahkan masukkan angka berapapun : 4\n",
      "Kuadrat dari 4 = 16.0\n"
     ]
    }
   ],
   "source": [
    "#number2\n",
    "o = int(input(\"Silahkan masukkan angka berapapun : \"))\n",
    "hasil = print(\"Kuadrat dari\", o ,\"=\", math.pow(o,2))"
   ]
  },
  {
   "cell_type": "code",
   "execution_count": 90,
   "metadata": {},
   "outputs": [
    {
     "name": "stdout",
     "output_type": "stream",
     "text": [
      "1.3  tahun\n",
      "16.2  bulan\n",
      "64.7  minggu\n",
      "485\n"
     ]
    }
   ],
   "source": [
    "#number3\n",
    "perhitungan_minggu = 30/4\n",
    "hari = 485\n",
    "tahun = hari/360\n",
    "bulan = hari/30\n",
    "minggu = hari/perhitungan_minggu\n",
    "print(round(tahun,1), \" tahun\")\n",
    "print(round(bulan,1), \" bulan\")\n",
    "print(round(minggu,1), \" minggu\")\n",
    "print(hari,\" hari\")"
   ]
  },
  {
   "cell_type": "code",
   "execution_count": 114,
   "metadata": {},
   "outputs": [
    {
     "name": "stdout",
     "output_type": "stream",
     "text": [
      "1 tahun 4 bulan 5 hari\n"
     ]
    }
   ],
   "source": [
    "#number 3 hasilnya 1 xxx\n",
    "hari =485\n",
    "tahun = math.floor(hari/360)\n",
    "bulan = math.floor(hari/30 - tahun*12)\n",
    "print(tahun, 'tahun', bulan, 'bulan',hari%12, \"hari\")"
   ]
  },
  {
   "cell_type": "code",
   "execution_count": 103,
   "metadata": {},
   "outputs": [
    {
     "name": "stdout",
     "output_type": "stream",
     "text": [
      "usia Andi :  16.0\n",
      "usia Budi :  37.0\n"
     ]
    }
   ],
   "source": [
    "#number 4\n",
    "jmlh_keduanya = 49\n",
    "usiaAndi = ((2/(2+5))*jmlh_keduanya)\n",
    "usiaBudi = ((5/(2+5))*jmlh_keduanya)\n",
    "usiaAndi += 2\n",
    "usiaBudi += 2\n",
    "print(\"usia Andi : \",usiaAndi)\n",
    "print(\"usia Budi : \",usiaBudi)"
   ]
  },
  {
   "cell_type": "code",
   "execution_count": 123,
   "metadata": {},
   "outputs": [
    {
     "name": "stdout",
     "output_type": "stream",
     "text": [
      "Masukkan Kalimat : haha\n"
     ]
    },
    {
     "data": {
      "text/plain": [
       "2"
      ]
     },
     "execution_count": 123,
     "metadata": {},
     "output_type": "execute_result"
    }
   ],
   "source": [
    "#number 5\n",
    "kal = input(\"Masukkan Kalimat : \")\n",
    "kal.count('a')"
   ]
  },
  {
   "cell_type": "code",
   "execution_count": 126,
   "metadata": {},
   "outputs": [
    {
     "name": "stdout",
     "output_type": "stream",
     "text": [
      "fariz maulana\n",
      "a\n",
      "kata  a jumlahnya =  4\n"
     ]
    }
   ],
   "source": [
    "kal = input()\n",
    "kata = input()\n",
    "\n",
    "count=0\n",
    "for i in range(len(kal)):\n",
    "    if(kal[i]==kata):#ngecek nih si kata yang dimasukin sudah cocok belum \n",
    "        count += 1#looping penambahan\n",
    "print(\"kata \",kata, \"jumlahnya = \", count)"
   ]
  },
  {
   "cell_type": "code",
   "execution_count": 132,
   "metadata": {},
   "outputs": [
    {
     "name": "stdout",
     "output_type": "stream",
     "text": [
      "masukkan jarak antara mobil a dan b 120\n",
      "masukkan kecepatan a 60\n",
      "masukkan kecepatan b 40\n",
      "60.0\n",
      "10.2\n"
     ]
    }
   ],
   "source": [
    "#number 6\n",
    "jarak_mobilAB = float(input(\"masukkan jarak antara mobil a dan b \"))\n",
    "kec_a = float(input(\"masukkan kecepatan a \"))\n",
    "kec_b = float(input(\"masukkan kecepatan b \"))\n",
    "hour_start = 9\n",
    "t = jarak_mobilAB/(kec_a + kec_b)\n",
    "result = hour_start + t\n",
    "print(result)"
   ]
  },
  {
   "cell_type": "code",
   "execution_count": 139,
   "metadata": {},
   "outputs": [
    {
     "name": "stdout",
     "output_type": "stream",
     "text": [
      "masukkan jarak antara mobil a dan b 120\n",
      "masukkan kecepatan a 60\n",
      "masukkan kecepatan b 40\n",
      "berangkat 9\n",
      "10.12\n"
     ]
    }
   ],
   "source": [
    "jarak_mobilAB = float(input(\"masukkan jarak antara mobil a dan b \"))\n",
    "kec_a = float(input(\"masukkan kecepatan a \"))\n",
    "kec_b = float(input(\"masukkan kecepatan b \"))\n",
    "jam = float(input(\"berangkat \"))\n",
    "t = jarak_mobilAB/(kec_a + kec_b)\n",
    "tbjam =  math.floor(t)\n",
    "tb = float((t-tbjam)*60*0.010)\n",
    "tabrakan = jam + tbjam +tb\n",
    "print(tabrakan)"
   ]
  },
  {
   "cell_type": "code",
   "execution_count": 145,
   "metadata": {},
   "outputs": [
    {
     "name": "stdout",
     "output_type": "stream",
     "text": [
      "masukkan panjang : 2\n",
      "masukkan lebar : 2\n",
      "8\n"
     ]
    }
   ],
   "source": [
    "#menghitunh keliling persegi panjang\n",
    "p = int(input(\"masukkan panjang : \"))\n",
    "l = int(input(\"masukkan lebar : \"))\n",
    "k = 2*(p+l)\n",
    "print(k)"
   ]
  },
  {
   "cell_type": "code",
   "execution_count": 148,
   "metadata": {},
   "outputs": [
    {
     "name": "stdout",
     "output_type": "stream",
     "text": [
      "\n",
      "Masukan Panjang: 4.2\n",
      "Masukan Lebar: 2.1\n",
      "Keliling Persegi Panjang\t: 12.600000000000001\n"
     ]
    }
   ],
   "source": [
    "## menghitunh keliling persegi panjang\n",
    "panjang = float(input(\"\\nMasukan Panjang: \"))\n",
    "lebar = float(input(\"Masukan Lebar: \"))\n",
    "\n",
    "keliling = 2 * (panjang+lebar)\n",
    "\n",
    "print(\"Keliling Persegi Panjang\\t:\",keliling)"
   ]
  },
  {
   "cell_type": "code",
   "execution_count": null,
   "metadata": {},
   "outputs": [],
   "source": []
  }
 ],
 "metadata": {
  "kernelspec": {
   "display_name": "Python 3",
   "language": "python",
   "name": "python3"
  },
  "language_info": {
   "codemirror_mode": {
    "name": "ipython",
    "version": 3
   },
   "file_extension": ".py",
   "mimetype": "text/x-python",
   "name": "python",
   "nbconvert_exporter": "python",
   "pygments_lexer": "ipython3",
   "version": "3.6.8"
  }
 },
 "nbformat": 4,
 "nbformat_minor": 2
}
